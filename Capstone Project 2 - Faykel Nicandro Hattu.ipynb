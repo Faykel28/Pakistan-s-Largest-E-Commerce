{
 "cells": [
  {
   "cell_type": "markdown",
   "metadata": {},
   "source": [
    "# Pakistan's E-Commerce"
   ]
  },
  {
   "cell_type": "markdown",
   "metadata": {},
   "source": [
    "## Latar Belakang"
   ]
  },
  {
   "cell_type": "markdown",
   "metadata": {},
   "source": [
    "Ketertarikan masyarakat terhadap E-commerce di Pakistan sedang naik daun. Untuk memanfaatkan hal tersebut, perusahaan-perusahaan e-commerce di Pakistan perlu melakukan tindakan yang tepat dalam memberikan fitur, kemudahan, maupun pelayanan kepada pelanggan sehingga angka penjualan terus naik dan bisa menguasai pasar di Pakistan."
   ]
  },
  {
   "cell_type": "markdown",
   "metadata": {},
   "source": [
    "## Pernyataan Masalah"
   ]
  },
  {
   "cell_type": "markdown",
   "metadata": {},
   "source": [
    "Perusahaan ingin mengetahui catatan hasil penjualan secara detail. Dengan infromasi tersebut, perusahaan akan mampu untuk menyusun strategi pemasaran dan meningkatkan pelayanan kepada pelanggan sehingga mampu untuk meningkatkan omzet penjualan e-commerce di Pakistan.\n",
    "\n",
    "Dengan keadaan tersebut, permasalahan yang harus diselesaikan adalah:\n",
    "1. Bagaimana kecenderungan rekam jejak hasil penjualan e-commerce di Pakistan?\n",
    "2. Apakah strategi pemasaran yang diterapkan sudah tepat?\n",
    "3. Apakah fitur dan pelayanan yang diberikan sudah maksimal?"
   ]
  },
  {
   "cell_type": "markdown",
   "metadata": {},
   "source": [
    "## Data Preparation"
   ]
  },
  {
   "cell_type": "code",
   "execution_count": 154,
   "metadata": {},
   "outputs": [],
   "source": [
    "import pandas as pd\n",
    "import matplotlib.pyplot as plt\n",
    "import seaborn as sns\n",
    "import plotly.express as px\n",
    "import warnings\n",
    "warnings.filterwarnings('ignore')\n",
    "from scipy.stats import chi2_contingency"
   ]
  },
  {
   "cell_type": "code",
   "execution_count": 155,
   "metadata": {},
   "outputs": [],
   "source": [
    "df999=pd.read_csv('Pakistan Largest Ecommerce Dataset.csv')\n",
    "pd.set_option(\"display.max_columns\", None)"
   ]
  },
  {
   "cell_type": "code",
   "execution_count": 156,
   "metadata": {},
   "outputs": [],
   "source": [
    "df = df999.copy()"
   ]
  },
  {
   "cell_type": "markdown",
   "metadata": {},
   "source": [
    "### Data Understanding"
   ]
  },
  {
   "cell_type": "code",
   "execution_count": 157,
   "metadata": {},
   "outputs": [
    {
     "data": {
      "text/html": [
       "<div>\n",
       "<style scoped>\n",
       "    .dataframe tbody tr th:only-of-type {\n",
       "        vertical-align: middle;\n",
       "    }\n",
       "\n",
       "    .dataframe tbody tr th {\n",
       "        vertical-align: top;\n",
       "    }\n",
       "\n",
       "    .dataframe thead th {\n",
       "        text-align: right;\n",
       "    }\n",
       "</style>\n",
       "<table border=\"1\" class=\"dataframe\">\n",
       "  <thead>\n",
       "    <tr style=\"text-align: right;\">\n",
       "      <th></th>\n",
       "      <th>item_id</th>\n",
       "      <th>status</th>\n",
       "      <th>created_at</th>\n",
       "      <th>sku</th>\n",
       "      <th>price</th>\n",
       "      <th>qty_ordered</th>\n",
       "      <th>grand_total</th>\n",
       "      <th>increment_id</th>\n",
       "      <th>category_name_1</th>\n",
       "      <th>sales_commission_code</th>\n",
       "      <th>discount_amount</th>\n",
       "      <th>payment_method</th>\n",
       "      <th>Working Date</th>\n",
       "      <th>BI Status</th>\n",
       "      <th>MV</th>\n",
       "      <th>Year</th>\n",
       "      <th>Month</th>\n",
       "      <th>Customer Since</th>\n",
       "      <th>M-Y</th>\n",
       "      <th>FY</th>\n",
       "      <th>Customer ID</th>\n",
       "      <th>Unnamed: 21</th>\n",
       "      <th>Unnamed: 22</th>\n",
       "      <th>Unnamed: 23</th>\n",
       "      <th>Unnamed: 24</th>\n",
       "      <th>Unnamed: 25</th>\n",
       "    </tr>\n",
       "  </thead>\n",
       "  <tbody>\n",
       "    <tr>\n",
       "      <th>0</th>\n",
       "      <td>211131.0</td>\n",
       "      <td>complete</td>\n",
       "      <td>7/1/2016</td>\n",
       "      <td>kreations_YI 06-L</td>\n",
       "      <td>1950.0</td>\n",
       "      <td>1.0</td>\n",
       "      <td>1950.0</td>\n",
       "      <td>100147443</td>\n",
       "      <td>Women's Fashion</td>\n",
       "      <td>\\N</td>\n",
       "      <td>0.0</td>\n",
       "      <td>cod</td>\n",
       "      <td>7/1/2016</td>\n",
       "      <td>#REF!</td>\n",
       "      <td>1,950</td>\n",
       "      <td>2016.0</td>\n",
       "      <td>7.0</td>\n",
       "      <td>2016-7</td>\n",
       "      <td>7-2016</td>\n",
       "      <td>FY17</td>\n",
       "      <td>1.0</td>\n",
       "      <td>NaN</td>\n",
       "      <td>NaN</td>\n",
       "      <td>NaN</td>\n",
       "      <td>NaN</td>\n",
       "      <td>NaN</td>\n",
       "    </tr>\n",
       "    <tr>\n",
       "      <th>1</th>\n",
       "      <td>211133.0</td>\n",
       "      <td>canceled</td>\n",
       "      <td>7/1/2016</td>\n",
       "      <td>kcc_Buy 2 Frey Air Freshener &amp; Get 1 Kasual Bo...</td>\n",
       "      <td>240.0</td>\n",
       "      <td>1.0</td>\n",
       "      <td>240.0</td>\n",
       "      <td>100147444</td>\n",
       "      <td>Beauty &amp; Grooming</td>\n",
       "      <td>\\N</td>\n",
       "      <td>0.0</td>\n",
       "      <td>cod</td>\n",
       "      <td>7/1/2016</td>\n",
       "      <td>Gross</td>\n",
       "      <td>240</td>\n",
       "      <td>2016.0</td>\n",
       "      <td>7.0</td>\n",
       "      <td>2016-7</td>\n",
       "      <td>7-2016</td>\n",
       "      <td>FY17</td>\n",
       "      <td>2.0</td>\n",
       "      <td>NaN</td>\n",
       "      <td>NaN</td>\n",
       "      <td>NaN</td>\n",
       "      <td>NaN</td>\n",
       "      <td>NaN</td>\n",
       "    </tr>\n",
       "    <tr>\n",
       "      <th>2</th>\n",
       "      <td>211134.0</td>\n",
       "      <td>canceled</td>\n",
       "      <td>7/1/2016</td>\n",
       "      <td>Ego_UP0017-999-MR0</td>\n",
       "      <td>2450.0</td>\n",
       "      <td>1.0</td>\n",
       "      <td>2450.0</td>\n",
       "      <td>100147445</td>\n",
       "      <td>Women's Fashion</td>\n",
       "      <td>\\N</td>\n",
       "      <td>0.0</td>\n",
       "      <td>cod</td>\n",
       "      <td>7/1/2016</td>\n",
       "      <td>Gross</td>\n",
       "      <td>2,450</td>\n",
       "      <td>2016.0</td>\n",
       "      <td>7.0</td>\n",
       "      <td>2016-7</td>\n",
       "      <td>7-2016</td>\n",
       "      <td>FY17</td>\n",
       "      <td>3.0</td>\n",
       "      <td>NaN</td>\n",
       "      <td>NaN</td>\n",
       "      <td>NaN</td>\n",
       "      <td>NaN</td>\n",
       "      <td>NaN</td>\n",
       "    </tr>\n",
       "  </tbody>\n",
       "</table>\n",
       "</div>"
      ],
      "text/plain": [
       "    item_id    status created_at  \\\n",
       "0  211131.0  complete   7/1/2016   \n",
       "1  211133.0  canceled   7/1/2016   \n",
       "2  211134.0  canceled   7/1/2016   \n",
       "\n",
       "                                                 sku   price  qty_ordered  \\\n",
       "0                                  kreations_YI 06-L  1950.0          1.0   \n",
       "1  kcc_Buy 2 Frey Air Freshener & Get 1 Kasual Bo...   240.0          1.0   \n",
       "2                                 Ego_UP0017-999-MR0  2450.0          1.0   \n",
       "\n",
       "   grand_total increment_id    category_name_1 sales_commission_code  \\\n",
       "0       1950.0    100147443    Women's Fashion                    \\N   \n",
       "1        240.0    100147444  Beauty & Grooming                    \\N   \n",
       "2       2450.0    100147445    Women's Fashion                    \\N   \n",
       "\n",
       "   discount_amount payment_method Working Date BI Status      MV     Year  \\\n",
       "0              0.0            cod     7/1/2016     #REF!   1,950   2016.0   \n",
       "1              0.0            cod     7/1/2016     Gross     240   2016.0   \n",
       "2              0.0            cod     7/1/2016     Gross   2,450   2016.0   \n",
       "\n",
       "   Month Customer Since     M-Y    FY  Customer ID  Unnamed: 21  Unnamed: 22  \\\n",
       "0    7.0         2016-7  7-2016  FY17          1.0          NaN          NaN   \n",
       "1    7.0         2016-7  7-2016  FY17          2.0          NaN          NaN   \n",
       "2    7.0         2016-7  7-2016  FY17          3.0          NaN          NaN   \n",
       "\n",
       "   Unnamed: 23  Unnamed: 24  Unnamed: 25  \n",
       "0          NaN          NaN          NaN  \n",
       "1          NaN          NaN          NaN  \n",
       "2          NaN          NaN          NaN  "
      ]
     },
     "execution_count": 157,
     "metadata": {},
     "output_type": "execute_result"
    }
   ],
   "source": [
    "df.head(3)\n",
    "\n",
    "# Mengetahui 3 data pertama, dan setiap kolom sebagai analisa awal untuk mencari hubungan antar kolom"
   ]
  },
  {
   "cell_type": "code",
   "execution_count": 158,
   "metadata": {},
   "outputs": [
    {
     "data": {
      "text/plain": [
       "(1048575, 26)"
      ]
     },
     "execution_count": 158,
     "metadata": {},
     "output_type": "execute_result"
    }
   ],
   "source": [
    "df.shape\n",
    "\n",
    "# Pada dataset ini, terdapat 1048575 baris dan 26 kolom"
   ]
  },
  {
   "cell_type": "code",
   "execution_count": 159,
   "metadata": {},
   "outputs": [
    {
     "data": {
      "text/html": [
       "<div>\n",
       "<style scoped>\n",
       "    .dataframe tbody tr th:only-of-type {\n",
       "        vertical-align: middle;\n",
       "    }\n",
       "\n",
       "    .dataframe tbody tr th {\n",
       "        vertical-align: top;\n",
       "    }\n",
       "\n",
       "    .dataframe thead th {\n",
       "        text-align: right;\n",
       "    }\n",
       "</style>\n",
       "<table border=\"1\" class=\"dataframe\">\n",
       "  <thead>\n",
       "    <tr style=\"text-align: right;\">\n",
       "      <th></th>\n",
       "      <th>item_id</th>\n",
       "      <th>price</th>\n",
       "      <th>qty_ordered</th>\n",
       "      <th>grand_total</th>\n",
       "      <th>discount_amount</th>\n",
       "      <th>Year</th>\n",
       "      <th>Month</th>\n",
       "      <th>Customer ID</th>\n",
       "      <th>Unnamed: 21</th>\n",
       "      <th>Unnamed: 22</th>\n",
       "      <th>Unnamed: 23</th>\n",
       "      <th>Unnamed: 24</th>\n",
       "      <th>Unnamed: 25</th>\n",
       "    </tr>\n",
       "  </thead>\n",
       "  <tbody>\n",
       "    <tr>\n",
       "      <th>count</th>\n",
       "      <td>584524.000000</td>\n",
       "      <td>5.845240e+05</td>\n",
       "      <td>584524.000000</td>\n",
       "      <td>5.845240e+05</td>\n",
       "      <td>584524.000000</td>\n",
       "      <td>584524.000000</td>\n",
       "      <td>584524.000000</td>\n",
       "      <td>584513.000000</td>\n",
       "      <td>0.0</td>\n",
       "      <td>0.0</td>\n",
       "      <td>0.0</td>\n",
       "      <td>0.0</td>\n",
       "      <td>0.0</td>\n",
       "    </tr>\n",
       "    <tr>\n",
       "      <th>mean</th>\n",
       "      <td>565667.074218</td>\n",
       "      <td>6.348748e+03</td>\n",
       "      <td>1.296388</td>\n",
       "      <td>8.530619e+03</td>\n",
       "      <td>499.492775</td>\n",
       "      <td>2017.044115</td>\n",
       "      <td>7.167654</td>\n",
       "      <td>45790.511965</td>\n",
       "      <td>NaN</td>\n",
       "      <td>NaN</td>\n",
       "      <td>NaN</td>\n",
       "      <td>NaN</td>\n",
       "      <td>NaN</td>\n",
       "    </tr>\n",
       "    <tr>\n",
       "      <th>std</th>\n",
       "      <td>200121.173648</td>\n",
       "      <td>1.494927e+04</td>\n",
       "      <td>3.996061</td>\n",
       "      <td>6.132081e+04</td>\n",
       "      <td>1506.943046</td>\n",
       "      <td>0.707355</td>\n",
       "      <td>3.486305</td>\n",
       "      <td>34414.962389</td>\n",
       "      <td>NaN</td>\n",
       "      <td>NaN</td>\n",
       "      <td>NaN</td>\n",
       "      <td>NaN</td>\n",
       "      <td>NaN</td>\n",
       "    </tr>\n",
       "    <tr>\n",
       "      <th>min</th>\n",
       "      <td>211131.000000</td>\n",
       "      <td>0.000000e+00</td>\n",
       "      <td>1.000000</td>\n",
       "      <td>-1.594000e+03</td>\n",
       "      <td>-599.500000</td>\n",
       "      <td>2016.000000</td>\n",
       "      <td>1.000000</td>\n",
       "      <td>1.000000</td>\n",
       "      <td>NaN</td>\n",
       "      <td>NaN</td>\n",
       "      <td>NaN</td>\n",
       "      <td>NaN</td>\n",
       "      <td>NaN</td>\n",
       "    </tr>\n",
       "    <tr>\n",
       "      <th>25%</th>\n",
       "      <td>395000.750000</td>\n",
       "      <td>3.600000e+02</td>\n",
       "      <td>1.000000</td>\n",
       "      <td>9.450000e+02</td>\n",
       "      <td>0.000000</td>\n",
       "      <td>2017.000000</td>\n",
       "      <td>4.000000</td>\n",
       "      <td>13516.000000</td>\n",
       "      <td>NaN</td>\n",
       "      <td>NaN</td>\n",
       "      <td>NaN</td>\n",
       "      <td>NaN</td>\n",
       "      <td>NaN</td>\n",
       "    </tr>\n",
       "    <tr>\n",
       "      <th>50%</th>\n",
       "      <td>568424.500000</td>\n",
       "      <td>8.990000e+02</td>\n",
       "      <td>1.000000</td>\n",
       "      <td>1.960400e+03</td>\n",
       "      <td>0.000000</td>\n",
       "      <td>2017.000000</td>\n",
       "      <td>7.000000</td>\n",
       "      <td>42856.000000</td>\n",
       "      <td>NaN</td>\n",
       "      <td>NaN</td>\n",
       "      <td>NaN</td>\n",
       "      <td>NaN</td>\n",
       "      <td>NaN</td>\n",
       "    </tr>\n",
       "    <tr>\n",
       "      <th>75%</th>\n",
       "      <td>739106.250000</td>\n",
       "      <td>4.070000e+03</td>\n",
       "      <td>1.000000</td>\n",
       "      <td>6.999000e+03</td>\n",
       "      <td>160.500000</td>\n",
       "      <td>2018.000000</td>\n",
       "      <td>11.000000</td>\n",
       "      <td>73536.000000</td>\n",
       "      <td>NaN</td>\n",
       "      <td>NaN</td>\n",
       "      <td>NaN</td>\n",
       "      <td>NaN</td>\n",
       "      <td>NaN</td>\n",
       "    </tr>\n",
       "    <tr>\n",
       "      <th>max</th>\n",
       "      <td>905208.000000</td>\n",
       "      <td>1.012626e+06</td>\n",
       "      <td>1000.000000</td>\n",
       "      <td>1.788800e+07</td>\n",
       "      <td>90300.000000</td>\n",
       "      <td>2018.000000</td>\n",
       "      <td>12.000000</td>\n",
       "      <td>115326.000000</td>\n",
       "      <td>NaN</td>\n",
       "      <td>NaN</td>\n",
       "      <td>NaN</td>\n",
       "      <td>NaN</td>\n",
       "      <td>NaN</td>\n",
       "    </tr>\n",
       "  </tbody>\n",
       "</table>\n",
       "</div>"
      ],
      "text/plain": [
       "             item_id         price    qty_ordered   grand_total  \\\n",
       "count  584524.000000  5.845240e+05  584524.000000  5.845240e+05   \n",
       "mean   565667.074218  6.348748e+03       1.296388  8.530619e+03   \n",
       "std    200121.173648  1.494927e+04       3.996061  6.132081e+04   \n",
       "min    211131.000000  0.000000e+00       1.000000 -1.594000e+03   \n",
       "25%    395000.750000  3.600000e+02       1.000000  9.450000e+02   \n",
       "50%    568424.500000  8.990000e+02       1.000000  1.960400e+03   \n",
       "75%    739106.250000  4.070000e+03       1.000000  6.999000e+03   \n",
       "max    905208.000000  1.012626e+06    1000.000000  1.788800e+07   \n",
       "\n",
       "       discount_amount           Year          Month    Customer ID  \\\n",
       "count    584524.000000  584524.000000  584524.000000  584513.000000   \n",
       "mean        499.492775    2017.044115       7.167654   45790.511965   \n",
       "std        1506.943046       0.707355       3.486305   34414.962389   \n",
       "min        -599.500000    2016.000000       1.000000       1.000000   \n",
       "25%           0.000000    2017.000000       4.000000   13516.000000   \n",
       "50%           0.000000    2017.000000       7.000000   42856.000000   \n",
       "75%         160.500000    2018.000000      11.000000   73536.000000   \n",
       "max       90300.000000    2018.000000      12.000000  115326.000000   \n",
       "\n",
       "       Unnamed: 21  Unnamed: 22  Unnamed: 23  Unnamed: 24  Unnamed: 25  \n",
       "count          0.0          0.0          0.0          0.0          0.0  \n",
       "mean           NaN          NaN          NaN          NaN          NaN  \n",
       "std            NaN          NaN          NaN          NaN          NaN  \n",
       "min            NaN          NaN          NaN          NaN          NaN  \n",
       "25%            NaN          NaN          NaN          NaN          NaN  \n",
       "50%            NaN          NaN          NaN          NaN          NaN  \n",
       "75%            NaN          NaN          NaN          NaN          NaN  \n",
       "max            NaN          NaN          NaN          NaN          NaN  "
      ]
     },
     "execution_count": 159,
     "metadata": {},
     "output_type": "execute_result"
    }
   ],
   "source": [
    "df.describe()"
   ]
  },
  {
   "cell_type": "markdown",
   "metadata": {},
   "source": [
    "- Ditemukan beberapa kolom dengan nilai NaN atau Missing Value, yang mana harus ditangani.<br>\n",
    "- Selain itu, juga ditemukan nilai kolom price 0, nilai pada kolom grand_total dengan jumlah minus, dan nilai kolom discount_amount dengan jumlah minus yang mana sangat janggal dalam suatu proses bisnis jual beli. Masalah ini akan diselesaikan setelah melihat dan menangani masalah Missing Value."
   ]
  },
  {
   "cell_type": "markdown",
   "metadata": {},
   "source": [
    "### Data Cleaning Missing Value"
   ]
  },
  {
   "cell_type": "code",
   "execution_count": 160,
   "metadata": {},
   "outputs": [
    {
     "data": {
      "text/plain": [
       "item_id                   464051\n",
       "status                    464066\n",
       "created_at                464051\n",
       "sku                       464071\n",
       "price                     464051\n",
       "qty_ordered               464051\n",
       "grand_total               464051\n",
       "increment_id              464051\n",
       "category_name_1           464215\n",
       "sales_commission_code     601226\n",
       "discount_amount           464051\n",
       "payment_method            464051\n",
       "Working Date              464051\n",
       "BI Status                 464051\n",
       " MV                       464051\n",
       "Year                      464051\n",
       "Month                     464051\n",
       "Customer Since            464062\n",
       "M-Y                       464051\n",
       "FY                        464051\n",
       "Customer ID               464062\n",
       "Unnamed: 21              1048575\n",
       "Unnamed: 22              1048575\n",
       "Unnamed: 23              1048575\n",
       "Unnamed: 24              1048575\n",
       "Unnamed: 25              1048575\n",
       "dtype: int64"
      ]
     },
     "execution_count": 160,
     "metadata": {},
     "output_type": "execute_result"
    }
   ],
   "source": [
    "df.isna().sum()\n",
    "\n",
    "# Melihat jumlah missing value pada dataset"
   ]
  },
  {
   "cell_type": "code",
   "execution_count": 161,
   "metadata": {},
   "outputs": [
    {
     "data": {
      "image/png": "[encoded data removed]",
      "text/plain": [
       "<Figure size 720x720 with 2 Axes>"
      ]
     },
     "metadata": {
      "needs_background": "light"
     },
     "output_type": "display_data"
    }
   ],
   "source": [
    "plt.figure(figsize=(10,10))\n",
    "HMisnull = sns.heatmap(df.isnull(),yticklabels=False, cmap ='YlGnBu')\n",
    "\n",
    "# Distribusi missing value pada keseluruhan data"
   ]
  },
  {
   "cell_type": "markdown",
   "metadata": {},
   "source": [
    "- Dari hasil cek missing value dan distribusinya, maka perlu dilakukan tindakan untuk menangani missing value agar data bisa di analisa dengan baik. Selain itu, perlu mengganti nama kolom ' MV ' menjadi 'MV' agar tidak menimbulkan masalah di proses selanjutnya. \n",
    "- Namun setelah melakukan analisa lebih lanjut dengan tabel df.head(3) diatas, kolom MV merupakan hasil kali antara kolom price dengan kolom qty_ordered. Maka dari itu, nama kolom ' MV ' akan diubah menjadi 'total_price'. Sebagai informasi tambahan, nilai kolom grand_total merupakan hasil dari nilai kolom total_price dikurangi kolom discount_amount."
   ]
  },
  {
   "cell_type": "code",
   "execution_count": 162,
   "metadata": {},
   "outputs": [
    {
     "data": {
      "text/plain": [
       "item_id                       0\n",
       "status                       15\n",
       "created_at                    0\n",
       "sku                          20\n",
       "price                         0\n",
       "qty_ordered                   0\n",
       "grand_total                   0\n",
       "increment_id                  0\n",
       "category_name_1             164\n",
       "sales_commission_code    137175\n",
       "discount_amount               0\n",
       "payment_method                0\n",
       "Working Date                  0\n",
       "BI Status                     0\n",
       "total_price                   0\n",
       "Year                          0\n",
       "Month                         0\n",
       "Customer Since               11\n",
       "M-Y                           0\n",
       "FY                            0\n",
       "Customer ID                  11\n",
       "dtype: int64"
      ]
     },
     "execution_count": 162,
     "metadata": {},
     "output_type": "execute_result"
    }
   ],
   "source": [
    "df.dropna(how = 'all', inplace=True)\n",
    "df.dropna(how = 'all', axis=1, inplace=True)\n",
    "df.rename(columns={' MV ':'total_price'}, inplace=True)\n",
    "df.isna().sum()\n",
    "\n",
    "# Menghapus baris dan kolom yang keseluruhan valuenya merupakan 'NaN'"
   ]
  },
  {
   "cell_type": "markdown",
   "metadata": {},
   "source": [
    "Setelah dilakukan penghapusan kolom dan baris yang memiliki 'NaN' pada semua valuenya, akan dilakukan pemeriksaan mengenai data duplikat dan menangani Permasalahan tersebut."
   ]
  },
  {
   "cell_type": "code",
   "execution_count": 163,
   "metadata": {},
   "outputs": [
    {
     "name": "stdout",
     "output_type": "stream",
     "text": [
      "(584524, 21)\n",
      "False    584524\n",
      "dtype: int64\n"
     ]
    }
   ],
   "source": [
    "print(df.shape)\n",
    "print(df.duplicated().value_counts())\n",
    "\n"
   ]
  },
  {
   "cell_type": "markdown",
   "metadata": {},
   "source": [
    "Didapatkan hasil yaitu seluruh data tidak ada yang duplikat, dengan membandingkan jumlah False dengan total keseluruhan data(row)."
   ]
  },
  {
   "cell_type": "markdown",
   "metadata": {},
   "source": [
    "Kini tersisa 6 kolom yang masih memiliki Missing Value. Kolom sales_commision_code atau bisa dianggap sebagai kode promo atau kode referal merupakan kolom dengan Missing Value terbanyak dengan 137175 value. Kolom ini bisa dihapus karena tidak digunakan untuk analisa yang akan dilakukan."
   ]
  },
  {
   "cell_type": "code",
   "execution_count": 164,
   "metadata": {},
   "outputs": [],
   "source": [
    "df.drop('sales_commission_code', axis=1, inplace=True)"
   ]
  },
  {
   "cell_type": "code",
   "execution_count": 165,
   "metadata": {},
   "outputs": [
    {
     "data": {
      "text/plain": [
       "item_id              0\n",
       "status              15\n",
       "created_at           0\n",
       "sku                 20\n",
       "price                0\n",
       "qty_ordered          0\n",
       "grand_total          0\n",
       "increment_id         0\n",
       "category_name_1    164\n",
       "discount_amount      0\n",
       "payment_method       0\n",
       "Working Date         0\n",
       "BI Status            0\n",
       "total_price          0\n",
       "Year                 0\n",
       "Month                0\n",
       "Customer Since      11\n",
       "M-Y                  0\n",
       "FY                   0\n",
       "Customer ID         11\n",
       "dtype: int64"
      ]
     },
     "execution_count": 165,
     "metadata": {},
     "output_type": "execute_result"
    }
   ],
   "source": [
    "df.isna().sum()"
   ]
  },
  {
   "cell_type": "markdown",
   "metadata": {},
   "source": [
    "Berlanjut ke kolom status. Pada kolom ini, terdapat 15 Missing Value. Mari kita analisa value dari kolom tersebut."
   ]
  },
  {
   "cell_type": "code",
   "execution_count": 166,
   "metadata": {},
   "outputs": [
    {
     "data": {
      "text/plain": [
       "complete          233685\n",
       "canceled          201249\n",
       "received           77290\n",
       "order_refunded     59529\n",
       "refund              8050\n",
       "cod                 2859\n",
       "paid                1159\n",
       "closed               494\n",
       "payment_review        57\n",
       "pending               48\n",
       "processing            33\n",
       "holded                31\n",
       "fraud                 10\n",
       "pending_paypal         7\n",
       "exchange               4\n",
       "\\N                     4\n",
       "Name: status, dtype: int64"
      ]
     },
     "execution_count": 166,
     "metadata": {},
     "output_type": "execute_result"
    }
   ],
   "source": [
    "df['status'].value_counts()"
   ]
  },
  {
   "cell_type": "code",
   "execution_count": 167,
   "metadata": {},
   "outputs": [
    {
     "data": {
      "text/html": [
       "<div>\n",
       "<style scoped>\n",
       "    .dataframe tbody tr th:only-of-type {\n",
       "        vertical-align: middle;\n",
       "    }\n",
       "\n",
       "    .dataframe tbody tr th {\n",
       "        vertical-align: top;\n",
       "    }\n",
       "\n",
       "    .dataframe thead th {\n",
       "        text-align: right;\n",
       "    }\n",
       "</style>\n",
       "<table border=\"1\" class=\"dataframe\">\n",
       "  <thead>\n",
       "    <tr style=\"text-align: right;\">\n",
       "      <th></th>\n",
       "      <th>item_id</th>\n",
       "      <th>status</th>\n",
       "      <th>created_at</th>\n",
       "      <th>sku</th>\n",
       "      <th>price</th>\n",
       "      <th>qty_ordered</th>\n",
       "      <th>grand_total</th>\n",
       "      <th>increment_id</th>\n",
       "      <th>category_name_1</th>\n",
       "      <th>discount_amount</th>\n",
       "      <th>payment_method</th>\n",
       "      <th>Working Date</th>\n",
       "      <th>BI Status</th>\n",
       "      <th>total_price</th>\n",
       "      <th>Year</th>\n",
       "      <th>Month</th>\n",
       "      <th>Customer Since</th>\n",
       "      <th>M-Y</th>\n",
       "      <th>FY</th>\n",
       "      <th>Customer ID</th>\n",
       "    </tr>\n",
       "  </thead>\n",
       "  <tbody>\n",
       "    <tr>\n",
       "      <th>477519</th>\n",
       "      <td>783751.0</td>\n",
       "      <td>NaN</td>\n",
       "      <td>3/15/2018</td>\n",
       "      <td>OTHPCB5A7D8A0BD10E8</td>\n",
       "      <td>8000.0</td>\n",
       "      <td>1.0</td>\n",
       "      <td>8000.0</td>\n",
       "      <td>100479380</td>\n",
       "      <td>Others</td>\n",
       "      <td>0.0</td>\n",
       "      <td>cod</td>\n",
       "      <td>3/15/2018</td>\n",
       "      <td>Gross</td>\n",
       "      <td>8,000</td>\n",
       "      <td>2018.0</td>\n",
       "      <td>3.0</td>\n",
       "      <td>2018-3</td>\n",
       "      <td>3-2018</td>\n",
       "      <td>FY18</td>\n",
       "      <td>95141.0</td>\n",
       "    </tr>\n",
       "    <tr>\n",
       "      <th>513736</th>\n",
       "      <td>827187.0</td>\n",
       "      <td>NaN</td>\n",
       "      <td>4/16/2018</td>\n",
       "      <td>KABOXF5ABCC75C7E2F7-32</td>\n",
       "      <td>370.0</td>\n",
       "      <td>1.0</td>\n",
       "      <td>2707.0</td>\n",
       "      <td>100513933</td>\n",
       "      <td>Kids &amp; Baby</td>\n",
       "      <td>0.0</td>\n",
       "      <td>cod</td>\n",
       "      <td>4/16/2018</td>\n",
       "      <td>Gross</td>\n",
       "      <td>370</td>\n",
       "      <td>2018.0</td>\n",
       "      <td>4.0</td>\n",
       "      <td>2018-4</td>\n",
       "      <td>4-2018</td>\n",
       "      <td>FY18</td>\n",
       "      <td>105059.0</td>\n",
       "    </tr>\n",
       "    <tr>\n",
       "      <th>513737</th>\n",
       "      <td>827189.0</td>\n",
       "      <td>NaN</td>\n",
       "      <td>4/16/2018</td>\n",
       "      <td>KABSHO5AA77C331466F-11-13 Years</td>\n",
       "      <td>473.0</td>\n",
       "      <td>1.0</td>\n",
       "      <td>2707.0</td>\n",
       "      <td>100513933</td>\n",
       "      <td>Kids &amp; Baby</td>\n",
       "      <td>0.0</td>\n",
       "      <td>cod</td>\n",
       "      <td>4/16/2018</td>\n",
       "      <td>Gross</td>\n",
       "      <td>473</td>\n",
       "      <td>2018.0</td>\n",
       "      <td>4.0</td>\n",
       "      <td>2018-4</td>\n",
       "      <td>4-2018</td>\n",
       "      <td>FY18</td>\n",
       "      <td>105059.0</td>\n",
       "    </tr>\n",
       "    <tr>\n",
       "      <th>513738</th>\n",
       "      <td>827191.0</td>\n",
       "      <td>NaN</td>\n",
       "      <td>4/16/2018</td>\n",
       "      <td>KABBIN5A93E074C501A-8-9 Years</td>\n",
       "      <td>749.0</td>\n",
       "      <td>1.0</td>\n",
       "      <td>2707.0</td>\n",
       "      <td>100513933</td>\n",
       "      <td>Kids &amp; Baby</td>\n",
       "      <td>0.0</td>\n",
       "      <td>cod</td>\n",
       "      <td>4/16/2018</td>\n",
       "      <td>Gross</td>\n",
       "      <td>749</td>\n",
       "      <td>2018.0</td>\n",
       "      <td>4.0</td>\n",
       "      <td>2018-4</td>\n",
       "      <td>4-2018</td>\n",
       "      <td>FY18</td>\n",
       "      <td>105059.0</td>\n",
       "    </tr>\n",
       "    <tr>\n",
       "      <th>513739</th>\n",
       "      <td>827193.0</td>\n",
       "      <td>NaN</td>\n",
       "      <td>4/16/2018</td>\n",
       "      <td>KABLIT59AC117FD51C4-12-13 Years</td>\n",
       "      <td>692.0</td>\n",
       "      <td>1.0</td>\n",
       "      <td>2707.0</td>\n",
       "      <td>100513933</td>\n",
       "      <td>Kids &amp; Baby</td>\n",
       "      <td>0.0</td>\n",
       "      <td>cod</td>\n",
       "      <td>4/16/2018</td>\n",
       "      <td>Gross</td>\n",
       "      <td>692</td>\n",
       "      <td>2018.0</td>\n",
       "      <td>4.0</td>\n",
       "      <td>2018-4</td>\n",
       "      <td>4-2018</td>\n",
       "      <td>FY18</td>\n",
       "      <td>105059.0</td>\n",
       "    </tr>\n",
       "    <tr>\n",
       "      <th>513740</th>\n",
       "      <td>827195.0</td>\n",
       "      <td>NaN</td>\n",
       "      <td>4/16/2018</td>\n",
       "      <td>KABCOL5AB2B8019805C-8-9 Years</td>\n",
       "      <td>423.0</td>\n",
       "      <td>1.0</td>\n",
       "      <td>2707.0</td>\n",
       "      <td>100513933</td>\n",
       "      <td>Kids &amp; Baby</td>\n",
       "      <td>0.0</td>\n",
       "      <td>cod</td>\n",
       "      <td>4/16/2018</td>\n",
       "      <td>Gross</td>\n",
       "      <td>423</td>\n",
       "      <td>2018.0</td>\n",
       "      <td>4.0</td>\n",
       "      <td>2018-4</td>\n",
       "      <td>4-2018</td>\n",
       "      <td>FY18</td>\n",
       "      <td>105059.0</td>\n",
       "    </tr>\n",
       "    <tr>\n",
       "      <th>518706</th>\n",
       "      <td>832777.0</td>\n",
       "      <td>NaN</td>\n",
       "      <td>4/30/2018</td>\n",
       "      <td>ENTCLI5A5DD7D800D6E</td>\n",
       "      <td>6042.0</td>\n",
       "      <td>1.0</td>\n",
       "      <td>6042.0</td>\n",
       "      <td>100517141</td>\n",
       "      <td>Entertainment</td>\n",
       "      <td>0.0</td>\n",
       "      <td>cod</td>\n",
       "      <td>4/30/2018</td>\n",
       "      <td>Gross</td>\n",
       "      <td>6,042</td>\n",
       "      <td>2018.0</td>\n",
       "      <td>4.0</td>\n",
       "      <td>2018-4</td>\n",
       "      <td>4-2018</td>\n",
       "      <td>FY18</td>\n",
       "      <td>106036.0</td>\n",
       "    </tr>\n",
       "    <tr>\n",
       "      <th>532965</th>\n",
       "      <td>848003.0</td>\n",
       "      <td>NaN</td>\n",
       "      <td>5/14/2018</td>\n",
       "      <td>MATINF5AE310D2D7A1A</td>\n",
       "      <td>13950.0</td>\n",
       "      <td>1.0</td>\n",
       "      <td>13950.0</td>\n",
       "      <td>100527966</td>\n",
       "      <td>Mobiles &amp; Tablets</td>\n",
       "      <td>0.0</td>\n",
       "      <td>cod</td>\n",
       "      <td>5/14/2018</td>\n",
       "      <td>Gross</td>\n",
       "      <td>13,950</td>\n",
       "      <td>2018.0</td>\n",
       "      <td>5.0</td>\n",
       "      <td>2018-4</td>\n",
       "      <td>5-2018</td>\n",
       "      <td>FY18</td>\n",
       "      <td>105319.0</td>\n",
       "    </tr>\n",
       "    <tr>\n",
       "      <th>542146</th>\n",
       "      <td>857829.0</td>\n",
       "      <td>NaN</td>\n",
       "      <td>5/25/2018</td>\n",
       "      <td>ROO5AE983F2751EA</td>\n",
       "      <td>2280.0</td>\n",
       "      <td>1.0</td>\n",
       "      <td>2280.0</td>\n",
       "      <td>100534786</td>\n",
       "      <td>Superstore</td>\n",
       "      <td>0.0</td>\n",
       "      <td>cod</td>\n",
       "      <td>5/25/2018</td>\n",
       "      <td>Gross</td>\n",
       "      <td>2,280</td>\n",
       "      <td>2018.0</td>\n",
       "      <td>5.0</td>\n",
       "      <td>2018-5</td>\n",
       "      <td>5-2018</td>\n",
       "      <td>FY18</td>\n",
       "      <td>109580.0</td>\n",
       "    </tr>\n",
       "    <tr>\n",
       "      <th>554962</th>\n",
       "      <td>872154.0</td>\n",
       "      <td>NaN</td>\n",
       "      <td>6/15/2018</td>\n",
       "      <td>BAGPHI5AA665985A58E</td>\n",
       "      <td>2900.0</td>\n",
       "      <td>1.0</td>\n",
       "      <td>949.0</td>\n",
       "      <td>100542483</td>\n",
       "      <td>Beauty &amp; Grooming</td>\n",
       "      <td>200.0</td>\n",
       "      <td>bankalfalah</td>\n",
       "      <td>6/15/2018</td>\n",
       "      <td>Gross</td>\n",
       "      <td>2,900</td>\n",
       "      <td>2018.0</td>\n",
       "      <td>6.0</td>\n",
       "      <td>2018-5</td>\n",
       "      <td>6-2018</td>\n",
       "      <td>FY18</td>\n",
       "      <td>109420.0</td>\n",
       "    </tr>\n",
       "    <tr>\n",
       "      <th>556575</th>\n",
       "      <td>873867.0</td>\n",
       "      <td>NaN</td>\n",
       "      <td>6/20/2018</td>\n",
       "      <td>SEH59F33B639C948</td>\n",
       "      <td>13998.0</td>\n",
       "      <td>1.0</td>\n",
       "      <td>13998.0</td>\n",
       "      <td>100543636</td>\n",
       "      <td>Superstore</td>\n",
       "      <td>0.0</td>\n",
       "      <td>cod</td>\n",
       "      <td>6/20/2018</td>\n",
       "      <td>Gross</td>\n",
       "      <td>13,998</td>\n",
       "      <td>2018.0</td>\n",
       "      <td>6.0</td>\n",
       "      <td>2018-6</td>\n",
       "      <td>6-2018</td>\n",
       "      <td>FY18</td>\n",
       "      <td>111346.0</td>\n",
       "    </tr>\n",
       "    <tr>\n",
       "      <th>562052</th>\n",
       "      <td>879771.0</td>\n",
       "      <td>NaN</td>\n",
       "      <td>7/2/2018</td>\n",
       "      <td>MEFTHE5ABD1716014D5-XL</td>\n",
       "      <td>0.0</td>\n",
       "      <td>1.0</td>\n",
       "      <td>150.0</td>\n",
       "      <td>100547232</td>\n",
       "      <td>Men's Fashion</td>\n",
       "      <td>0.0</td>\n",
       "      <td>cod</td>\n",
       "      <td>7/2/2018</td>\n",
       "      <td>Gross</td>\n",
       "      <td>-</td>\n",
       "      <td>2018.0</td>\n",
       "      <td>7.0</td>\n",
       "      <td>2018-7</td>\n",
       "      <td>7-2018</td>\n",
       "      <td>FY19</td>\n",
       "      <td>112111.0</td>\n",
       "    </tr>\n",
       "    <tr>\n",
       "      <th>566295</th>\n",
       "      <td>884706.0</td>\n",
       "      <td>NaN</td>\n",
       "      <td>7/13/2018</td>\n",
       "      <td>OTHOTH5A097CEF981C2</td>\n",
       "      <td>100.0</td>\n",
       "      <td>1.0</td>\n",
       "      <td>250.0</td>\n",
       "      <td>100550314</td>\n",
       "      <td>Others</td>\n",
       "      <td>0.0</td>\n",
       "      <td>cod</td>\n",
       "      <td>7/13/2018</td>\n",
       "      <td>Gross</td>\n",
       "      <td>100</td>\n",
       "      <td>2018.0</td>\n",
       "      <td>7.0</td>\n",
       "      <td>2018-6</td>\n",
       "      <td>7-2018</td>\n",
       "      <td>FY19</td>\n",
       "      <td>111651.0</td>\n",
       "    </tr>\n",
       "    <tr>\n",
       "      <th>566296</th>\n",
       "      <td>884707.0</td>\n",
       "      <td>NaN</td>\n",
       "      <td>7/13/2018</td>\n",
       "      <td>OTHOTH5A097CEF981C2</td>\n",
       "      <td>100.0</td>\n",
       "      <td>2.0</td>\n",
       "      <td>350.0</td>\n",
       "      <td>100550315</td>\n",
       "      <td>Others</td>\n",
       "      <td>0.0</td>\n",
       "      <td>cod</td>\n",
       "      <td>7/13/2018</td>\n",
       "      <td>Gross</td>\n",
       "      <td>200</td>\n",
       "      <td>2018.0</td>\n",
       "      <td>7.0</td>\n",
       "      <td>2018-6</td>\n",
       "      <td>7-2018</td>\n",
       "      <td>FY19</td>\n",
       "      <td>111651.0</td>\n",
       "    </tr>\n",
       "    <tr>\n",
       "      <th>568050</th>\n",
       "      <td>886679.0</td>\n",
       "      <td>NaN</td>\n",
       "      <td>7/18/2018</td>\n",
       "      <td>OTHOTH5A097CEF981C2</td>\n",
       "      <td>100.0</td>\n",
       "      <td>4.0</td>\n",
       "      <td>550.0</td>\n",
       "      <td>100551487</td>\n",
       "      <td>Others</td>\n",
       "      <td>0.0</td>\n",
       "      <td>cod</td>\n",
       "      <td>7/18/2018</td>\n",
       "      <td>Gross</td>\n",
       "      <td>400</td>\n",
       "      <td>2018.0</td>\n",
       "      <td>7.0</td>\n",
       "      <td>2018-6</td>\n",
       "      <td>7-2018</td>\n",
       "      <td>FY19</td>\n",
       "      <td>111651.0</td>\n",
       "    </tr>\n",
       "  </tbody>\n",
       "</table>\n",
       "</div>"
      ],
      "text/plain": [
       "         item_id status created_at                              sku    price  \\\n",
       "477519  783751.0    NaN  3/15/2018              OTHPCB5A7D8A0BD10E8   8000.0   \n",
       "513736  827187.0    NaN  4/16/2018           KABOXF5ABCC75C7E2F7-32    370.0   \n",
       "513737  827189.0    NaN  4/16/2018  KABSHO5AA77C331466F-11-13 Years    473.0   \n",
       "513738  827191.0    NaN  4/16/2018    KABBIN5A93E074C501A-8-9 Years    749.0   \n",
       "513739  827193.0    NaN  4/16/2018  KABLIT59AC117FD51C4-12-13 Years    692.0   \n",
       "513740  827195.0    NaN  4/16/2018    KABCOL5AB2B8019805C-8-9 Years    423.0   \n",
       "518706  832777.0    NaN  4/30/2018              ENTCLI5A5DD7D800D6E   6042.0   \n",
       "532965  848003.0    NaN  5/14/2018              MATINF5AE310D2D7A1A  13950.0   \n",
       "542146  857829.0    NaN  5/25/2018                 ROO5AE983F2751EA   2280.0   \n",
       "554962  872154.0    NaN  6/15/2018              BAGPHI5AA665985A58E   2900.0   \n",
       "556575  873867.0    NaN  6/20/2018                 SEH59F33B639C948  13998.0   \n",
       "562052  879771.0    NaN   7/2/2018           MEFTHE5ABD1716014D5-XL      0.0   \n",
       "566295  884706.0    NaN  7/13/2018              OTHOTH5A097CEF981C2    100.0   \n",
       "566296  884707.0    NaN  7/13/2018              OTHOTH5A097CEF981C2    100.0   \n",
       "568050  886679.0    NaN  7/18/2018              OTHOTH5A097CEF981C2    100.0   \n",
       "\n",
       "        qty_ordered  grand_total increment_id    category_name_1  \\\n",
       "477519          1.0       8000.0    100479380             Others   \n",
       "513736          1.0       2707.0    100513933        Kids & Baby   \n",
       "513737          1.0       2707.0    100513933        Kids & Baby   \n",
       "513738          1.0       2707.0    100513933        Kids & Baby   \n",
       "513739          1.0       2707.0    100513933        Kids & Baby   \n",
       "513740          1.0       2707.0    100513933        Kids & Baby   \n",
       "518706          1.0       6042.0    100517141      Entertainment   \n",
       "532965          1.0      13950.0    100527966  Mobiles & Tablets   \n",
       "542146          1.0       2280.0    100534786         Superstore   \n",
       "554962          1.0        949.0    100542483  Beauty & Grooming   \n",
       "556575          1.0      13998.0    100543636         Superstore   \n",
       "562052          1.0        150.0    100547232      Men's Fashion   \n",
       "566295          1.0        250.0    100550314             Others   \n",
       "566296          2.0        350.0    100550315             Others   \n",
       "568050          4.0        550.0    100551487             Others   \n",
       "\n",
       "        discount_amount payment_method Working Date BI Status total_price  \\\n",
       "477519              0.0            cod    3/15/2018     Gross      8,000    \n",
       "513736              0.0            cod    4/16/2018     Gross        370    \n",
       "513737              0.0            cod    4/16/2018     Gross        473    \n",
       "513738              0.0            cod    4/16/2018     Gross        749    \n",
       "513739              0.0            cod    4/16/2018     Gross        692    \n",
       "513740              0.0            cod    4/16/2018     Gross        423    \n",
       "518706              0.0            cod    4/30/2018     Gross      6,042    \n",
       "532965              0.0            cod    5/14/2018     Gross     13,950    \n",
       "542146              0.0            cod    5/25/2018     Gross      2,280    \n",
       "554962            200.0    bankalfalah    6/15/2018     Gross      2,900    \n",
       "556575              0.0            cod    6/20/2018     Gross     13,998    \n",
       "562052              0.0            cod     7/2/2018     Gross        -      \n",
       "566295              0.0            cod    7/13/2018     Gross        100    \n",
       "566296              0.0            cod    7/13/2018     Gross        200    \n",
       "568050              0.0            cod    7/18/2018     Gross        400    \n",
       "\n",
       "          Year  Month Customer Since     M-Y    FY  Customer ID  \n",
       "477519  2018.0    3.0         2018-3  3-2018  FY18      95141.0  \n",
       "513736  2018.0    4.0         2018-4  4-2018  FY18     105059.0  \n",
       "513737  2018.0    4.0         2018-4  4-2018  FY18     105059.0  \n",
       "513738  2018.0    4.0         2018-4  4-2018  FY18     105059.0  \n",
       "513739  2018.0    4.0         2018-4  4-2018  FY18     105059.0  \n",
       "513740  2018.0    4.0         2018-4  4-2018  FY18     105059.0  \n",
       "518706  2018.0    4.0         2018-4  4-2018  FY18     106036.0  \n",
       "532965  2018.0    5.0         2018-4  5-2018  FY18     105319.0  \n",
       "542146  2018.0    5.0         2018-5  5-2018  FY18     109580.0  \n",
       "554962  2018.0    6.0         2018-5  6-2018  FY18     109420.0  \n",
       "556575  2018.0    6.0         2018-6  6-2018  FY18     111346.0  \n",
       "562052  2018.0    7.0         2018-7  7-2018  FY19     112111.0  \n",
       "566295  2018.0    7.0         2018-6  7-2018  FY19     111651.0  \n",
       "566296  2018.0    7.0         2018-6  7-2018  FY19     111651.0  \n",
       "568050  2018.0    7.0         2018-6  7-2018  FY19     111651.0  "
      ]
     },
     "execution_count": 167,
     "metadata": {},
     "output_type": "execute_result"
    }
   ],
   "source": [
    "df[df['status'].isna()]"
   ]
  },
  {
   "cell_type": "markdown",
   "metadata": {},
   "source": [
    "1. Missing Value pada kolom status memiliki kesamaan yaitu sama-sama berlabel Gross pada kolom BI Status. Dengan adanya hal tersebut, maka perlu melihat hubungan antara kolom status dan BI Status.\n",
    "2. Ditemukan kembali nilai 0 pada kolom price.\n",
    "3. Selain itu, juga ditemukan ketidak cocokan pada kolom grand_total, yang mana merupakan kolom total_price dikurangi kolom discount_amount. total_price sendiri didapatkan dari kolom price dikali dengan kolom qty_ordered (jumlah produk yang diorder). Perhitungan tersebut didapatkan melalui analisa pada kolom lainnya yang dinilai memiliki keadaan normal. Kita akan menyelesaikan permasalahan 2 dan 3 setelah menyelesaikan permasalahan Missing Value."
   ]
  },
  {
   "cell_type": "code",
   "execution_count": 168,
   "metadata": {},
   "outputs": [
    {
     "data": {
      "text/plain": [
       "BI Status  status        \n",
       "#REF!      complete               1\n",
       "Gross      canceled          201249\n",
       "           payment_review        57\n",
       "           pending               48\n",
       "           processing            33\n",
       "           holded                31\n",
       "           fraud                 10\n",
       "           pending_paypal         7\n",
       "           \\N                     4\n",
       "Net        complete          233684\n",
       "           closed               494\n",
       "Valid      received           77290\n",
       "           order_refunded     59529\n",
       "           refund              8050\n",
       "           cod                 2859\n",
       "           paid                1159\n",
       "           exchange               4\n",
       "Name: status, dtype: int64"
      ]
     },
     "execution_count": 168,
     "metadata": {},
     "output_type": "execute_result"
    }
   ],
   "source": [
    "df.groupby('BI Status')['status'].value_counts()"
   ]
  },
  {
   "cell_type": "markdown",
   "metadata": {},
   "source": [
    "Pada hasil syntax diatas, jenis value pada kolom BI Status menggambarkan kondisi status pembelian. Seperti Gross adalah produk yang tidak/belum sampai ke pelanggan, Net adalah produk yang telah sampai ke pelanggan, dan Valid terbagi menjadi 2 yaitu barang yang diterima (received, cod, paid) dan barang yang di kembalikan/refund (order_refunded, refund, exchange). Hanya #REF! yang dinilai memiliki kecacatan (hanya ada 1 data) dalam data input.\n",
    "Dengan beragamnya label dari kolom status dan beberapa menjelaskan kondisi yang sama, maka label baru akan dibuat untuk memberikan keterangan yang lebih efektif.\n",
    "\n",
    "Yang akan dilakukan:\n",
    "1. #REF! akan dimasukkan ke kategori Net, karena label status pada data sesuai dengan pengelompokan pada label BI Status (complete)\n",
    "2. complete, closed, received, cod, paid, exchange akan diubah menjadi Completed\n",
    "3. payment_review, processing akan diubah menjadi Processing\n",
    "4. pending, pending_paypal, holded akan diubah menjadi Pending\n",
    "5. order_refunded, refund akan diubah menjadi Refund\n",
    "6. canceled, \\N akan diubah menjadi Canceled\n",
    "7. fraud akan diubah menjadi Fraud\n",
    "8. Untuk 15 data pada kolom status dengan Missing Value, akan diisi dengan Canceled sesuai pengelompokan BI Status sebelumnya\n",
    "\n",
    "Note: Tidak ada keterangan khusus terkait kolom BI Status. Hal yang tertulis disini merupakan hasil analisa dan asumsi dengan tujuan mengatasi masalah Missing Value dan merapikan data."
   ]
  },
  {
   "cell_type": "code",
   "execution_count": 169,
   "metadata": {},
   "outputs": [],
   "source": [
    "df['BI Status'] = df['BI Status'].replace('#REF!', 'Net')\n",
    "df['status'] = df['status'].replace('complete', 'Completed')\n",
    "df['status'] = df['status'].replace('closed', 'Completed')\n",
    "df['status'] = df['status'].replace('received', 'Completed')\n",
    "df['status'] = df['status'].replace('cod', 'Completed')\n",
    "df['status'] = df['status'].replace('paid', 'Completed')\n",
    "df['status'] = df['status'].replace('exchange', 'Completed')\n",
    "df['status'] = df['status'].replace('payment_review', 'Processing')\n",
    "df['status'] = df['status'].replace('processing', 'Processing')\n",
    "df['status'] = df['status'].replace('pending', 'Pending')\n",
    "df['status'] = df['status'].replace('pending_paypal', 'Pending')\n",
    "df['status'] = df['status'].replace('holded', 'Pending')\n",
    "df['status'] = df['status'].replace('order_refunded', 'Refund')\n",
    "df['status'] = df['status'].replace('refund', 'Refund')\n",
    "df['status'] = df['status'].replace('canceled', 'Canceled')\n",
    "df['status'] = df['status'].replace(r'\\N', 'Canceled')\n",
    "df['status'] = df['status'].replace('fraud', 'Fraud')\n",
    "df['status'].fillna('Canceled', inplace=True)"
   ]
  },
  {
   "cell_type": "code",
   "execution_count": 170,
   "metadata": {},
   "outputs": [
    {
     "data": {
      "text/plain": [
       "Completed     315491\n",
       "Canceled      201268\n",
       "Refund         67579\n",
       "Processing        90\n",
       "Pending           86\n",
       "Fraud             10\n",
       "Name: status, dtype: int64"
      ]
     },
     "execution_count": 170,
     "metadata": {},
     "output_type": "execute_result"
    }
   ],
   "source": [
    "df['status'].value_counts()"
   ]
  },
  {
   "cell_type": "code",
   "execution_count": 171,
   "metadata": {},
   "outputs": [
    {
     "data": {
      "text/plain": [
       "item_id              0\n",
       "status               0\n",
       "created_at           0\n",
       "sku                 20\n",
       "price                0\n",
       "qty_ordered          0\n",
       "grand_total          0\n",
       "increment_id         0\n",
       "category_name_1    164\n",
       "discount_amount      0\n",
       "payment_method       0\n",
       "Working Date         0\n",
       "BI Status            0\n",
       "total_price          0\n",
       "Year                 0\n",
       "Month                0\n",
       "Customer Since      11\n",
       "M-Y                  0\n",
       "FY                   0\n",
       "Customer ID         11\n",
       "dtype: int64"
      ]
     },
     "execution_count": 171,
     "metadata": {},
     "output_type": "execute_result"
    }
   ],
   "source": [
    "df.isna().sum()"
   ]
  },
  {
   "cell_type": "markdown",
   "metadata": {},
   "source": [
    "Berlanjut ke kolom ke 3, yaitu kolom sku. Kolom ini memiliki 20 data yang memiliki Missing Value untuk ditangani."
   ]
  },
  {
   "cell_type": "code",
   "execution_count": 172,
   "metadata": {},
   "outputs": [
    {
     "data": {
      "text/html": [
       "<div>\n",
       "<style scoped>\n",
       "    .dataframe tbody tr th:only-of-type {\n",
       "        vertical-align: middle;\n",
       "    }\n",
       "\n",
       "    .dataframe tbody tr th {\n",
       "        vertical-align: top;\n",
       "    }\n",
       "\n",
       "    .dataframe thead th {\n",
       "        text-align: right;\n",
       "    }\n",
       "</style>\n",
       "<table border=\"1\" class=\"dataframe\">\n",
       "  <thead>\n",
       "    <tr style=\"text-align: right;\">\n",
       "      <th></th>\n",
       "      <th>item_id</th>\n",
       "      <th>status</th>\n",
       "      <th>created_at</th>\n",
       "      <th>sku</th>\n",
       "      <th>price</th>\n",
       "      <th>qty_ordered</th>\n",
       "      <th>grand_total</th>\n",
       "      <th>increment_id</th>\n",
       "      <th>category_name_1</th>\n",
       "      <th>discount_amount</th>\n",
       "      <th>payment_method</th>\n",
       "      <th>Working Date</th>\n",
       "      <th>BI Status</th>\n",
       "      <th>total_price</th>\n",
       "      <th>Year</th>\n",
       "      <th>Month</th>\n",
       "      <th>Customer Since</th>\n",
       "      <th>M-Y</th>\n",
       "      <th>FY</th>\n",
       "      <th>Customer ID</th>\n",
       "    </tr>\n",
       "  </thead>\n",
       "  <tbody>\n",
       "    <tr>\n",
       "      <th>14846</th>\n",
       "      <td>230008.0</td>\n",
       "      <td>Canceled</td>\n",
       "      <td>8/13/2016</td>\n",
       "      <td>NaN</td>\n",
       "      <td>0.0</td>\n",
       "      <td>1.0</td>\n",
       "      <td>0.0</td>\n",
       "      <td>100160070</td>\n",
       "      <td>\\N</td>\n",
       "      <td>0.0</td>\n",
       "      <td>cod</td>\n",
       "      <td>8/13/2016</td>\n",
       "      <td>Gross</td>\n",
       "      <td>-</td>\n",
       "      <td>2016.0</td>\n",
       "      <td>8.0</td>\n",
       "      <td>2016-8</td>\n",
       "      <td>8-2016</td>\n",
       "      <td>FY17</td>\n",
       "      <td>3468.0</td>\n",
       "    </tr>\n",
       "    <tr>\n",
       "      <th>20676</th>\n",
       "      <td>236830.0</td>\n",
       "      <td>Canceled</td>\n",
       "      <td>9/1/2016</td>\n",
       "      <td>NaN</td>\n",
       "      <td>0.0</td>\n",
       "      <td>1.0</td>\n",
       "      <td>0.0</td>\n",
       "      <td>100164902</td>\n",
       "      <td>\\N</td>\n",
       "      <td>0.0</td>\n",
       "      <td>cod</td>\n",
       "      <td>9/1/2016</td>\n",
       "      <td>Gross</td>\n",
       "      <td>-</td>\n",
       "      <td>2016.0</td>\n",
       "      <td>9.0</td>\n",
       "      <td>2016-8</td>\n",
       "      <td>9-2016</td>\n",
       "      <td>FY17</td>\n",
       "      <td>4369.0</td>\n",
       "    </tr>\n",
       "    <tr>\n",
       "      <th>39838</th>\n",
       "      <td>260006.0</td>\n",
       "      <td>Canceled</td>\n",
       "      <td>10/7/2016</td>\n",
       "      <td>NaN</td>\n",
       "      <td>0.0</td>\n",
       "      <td>1.0</td>\n",
       "      <td>0.0</td>\n",
       "      <td>100181136</td>\n",
       "      <td>\\N</td>\n",
       "      <td>0.0</td>\n",
       "      <td>cod</td>\n",
       "      <td>10/7/2016</td>\n",
       "      <td>Gross</td>\n",
       "      <td>-</td>\n",
       "      <td>2016.0</td>\n",
       "      <td>10.0</td>\n",
       "      <td>2016-7</td>\n",
       "      <td>10-2016</td>\n",
       "      <td>FY17</td>\n",
       "      <td>939.0</td>\n",
       "    </tr>\n",
       "    <tr>\n",
       "      <th>39839</th>\n",
       "      <td>260007.0</td>\n",
       "      <td>Canceled</td>\n",
       "      <td>10/7/2016</td>\n",
       "      <td>NaN</td>\n",
       "      <td>0.0</td>\n",
       "      <td>3.0</td>\n",
       "      <td>0.0</td>\n",
       "      <td>100181137</td>\n",
       "      <td>\\N</td>\n",
       "      <td>0.0</td>\n",
       "      <td>cod</td>\n",
       "      <td>10/7/2016</td>\n",
       "      <td>Gross</td>\n",
       "      <td>-</td>\n",
       "      <td>2016.0</td>\n",
       "      <td>10.0</td>\n",
       "      <td>2016-7</td>\n",
       "      <td>10-2016</td>\n",
       "      <td>FY17</td>\n",
       "      <td>939.0</td>\n",
       "    </tr>\n",
       "    <tr>\n",
       "      <th>39880</th>\n",
       "      <td>260061.0</td>\n",
       "      <td>Canceled</td>\n",
       "      <td>10/7/2016</td>\n",
       "      <td>NaN</td>\n",
       "      <td>0.0</td>\n",
       "      <td>3.0</td>\n",
       "      <td>0.0</td>\n",
       "      <td>100181174</td>\n",
       "      <td>\\N</td>\n",
       "      <td>0.0</td>\n",
       "      <td>cod</td>\n",
       "      <td>10/7/2016</td>\n",
       "      <td>Gross</td>\n",
       "      <td>-</td>\n",
       "      <td>2016.0</td>\n",
       "      <td>10.0</td>\n",
       "      <td>2016-7</td>\n",
       "      <td>10-2016</td>\n",
       "      <td>FY17</td>\n",
       "      <td>939.0</td>\n",
       "    </tr>\n",
       "    <tr>\n",
       "      <th>124968</th>\n",
       "      <td>367292.0</td>\n",
       "      <td>Refund</td>\n",
       "      <td>12/10/2016</td>\n",
       "      <td>NaN</td>\n",
       "      <td>0.0</td>\n",
       "      <td>1.0</td>\n",
       "      <td>0.0</td>\n",
       "      <td>100247863</td>\n",
       "      <td>\\N</td>\n",
       "      <td>0.0</td>\n",
       "      <td>cod</td>\n",
       "      <td>12/10/2016</td>\n",
       "      <td>Valid</td>\n",
       "      <td>-</td>\n",
       "      <td>2016.0</td>\n",
       "      <td>12.0</td>\n",
       "      <td>2016-11</td>\n",
       "      <td>12-2016</td>\n",
       "      <td>FY17</td>\n",
       "      <td>26305.0</td>\n",
       "    </tr>\n",
       "    <tr>\n",
       "      <th>125636</th>\n",
       "      <td>368122.0</td>\n",
       "      <td>Refund</td>\n",
       "      <td>12/12/2016</td>\n",
       "      <td>NaN</td>\n",
       "      <td>0.0</td>\n",
       "      <td>1.0</td>\n",
       "      <td>0.0</td>\n",
       "      <td>100248364</td>\n",
       "      <td>\\N</td>\n",
       "      <td>0.0</td>\n",
       "      <td>cod</td>\n",
       "      <td>12/12/2016</td>\n",
       "      <td>Valid</td>\n",
       "      <td>-</td>\n",
       "      <td>2016.0</td>\n",
       "      <td>12.0</td>\n",
       "      <td>2016-7</td>\n",
       "      <td>12-2016</td>\n",
       "      <td>FY17</td>\n",
       "      <td>2246.0</td>\n",
       "    </tr>\n",
       "    <tr>\n",
       "      <th>125811</th>\n",
       "      <td>368362.0</td>\n",
       "      <td>Refund</td>\n",
       "      <td>12/13/2016</td>\n",
       "      <td>NaN</td>\n",
       "      <td>0.0</td>\n",
       "      <td>1.0</td>\n",
       "      <td>0.0</td>\n",
       "      <td>100248497</td>\n",
       "      <td>\\N</td>\n",
       "      <td>0.0</td>\n",
       "      <td>cod</td>\n",
       "      <td>12/13/2016</td>\n",
       "      <td>Valid</td>\n",
       "      <td>-</td>\n",
       "      <td>2016.0</td>\n",
       "      <td>12.0</td>\n",
       "      <td>2016-7</td>\n",
       "      <td>12-2016</td>\n",
       "      <td>FY17</td>\n",
       "      <td>251.0</td>\n",
       "    </tr>\n",
       "    <tr>\n",
       "      <th>149597</th>\n",
       "      <td>399798.0</td>\n",
       "      <td>Refund</td>\n",
       "      <td>2/7/2017</td>\n",
       "      <td>NaN</td>\n",
       "      <td>0.0</td>\n",
       "      <td>1.0</td>\n",
       "      <td>0.0</td>\n",
       "      <td>100267148</td>\n",
       "      <td>\\N</td>\n",
       "      <td>0.0</td>\n",
       "      <td>cod</td>\n",
       "      <td>2/7/2017</td>\n",
       "      <td>Valid</td>\n",
       "      <td>-</td>\n",
       "      <td>2017.0</td>\n",
       "      <td>2.0</td>\n",
       "      <td>2017-2</td>\n",
       "      <td>2-2017</td>\n",
       "      <td>FY17</td>\n",
       "      <td>33062.0</td>\n",
       "    </tr>\n",
       "    <tr>\n",
       "      <th>170249</th>\n",
       "      <td>426105.0</td>\n",
       "      <td>Canceled</td>\n",
       "      <td>3/21/2017</td>\n",
       "      <td>NaN</td>\n",
       "      <td>0.0</td>\n",
       "      <td>1.0</td>\n",
       "      <td>6952.0</td>\n",
       "      <td>100281645</td>\n",
       "      <td>\\N</td>\n",
       "      <td>0.0</td>\n",
       "      <td>cod</td>\n",
       "      <td>3/21/2017</td>\n",
       "      <td>Gross</td>\n",
       "      <td>-</td>\n",
       "      <td>2017.0</td>\n",
       "      <td>3.0</td>\n",
       "      <td>2017-3</td>\n",
       "      <td>3-2017</td>\n",
       "      <td>FY17</td>\n",
       "      <td>38242.0</td>\n",
       "    </tr>\n",
       "    <tr>\n",
       "      <th>170401</th>\n",
       "      <td>426302.0</td>\n",
       "      <td>Canceled</td>\n",
       "      <td>3/22/2017</td>\n",
       "      <td>NaN</td>\n",
       "      <td>0.0</td>\n",
       "      <td>1.0</td>\n",
       "      <td>1873.0</td>\n",
       "      <td>100281748</td>\n",
       "      <td>\\N</td>\n",
       "      <td>0.0</td>\n",
       "      <td>cod</td>\n",
       "      <td>3/22/2017</td>\n",
       "      <td>Gross</td>\n",
       "      <td>-</td>\n",
       "      <td>2017.0</td>\n",
       "      <td>3.0</td>\n",
       "      <td>2017-3</td>\n",
       "      <td>3-2017</td>\n",
       "      <td>FY17</td>\n",
       "      <td>38278.0</td>\n",
       "    </tr>\n",
       "    <tr>\n",
       "      <th>173040</th>\n",
       "      <td>429392.0</td>\n",
       "      <td>Refund</td>\n",
       "      <td>3/23/2017</td>\n",
       "      <td>NaN</td>\n",
       "      <td>0.0</td>\n",
       "      <td>1.0</td>\n",
       "      <td>0.0</td>\n",
       "      <td>100283785</td>\n",
       "      <td>\\N</td>\n",
       "      <td>0.0</td>\n",
       "      <td>cod</td>\n",
       "      <td>3/23/2017</td>\n",
       "      <td>Valid</td>\n",
       "      <td>-</td>\n",
       "      <td>2017.0</td>\n",
       "      <td>3.0</td>\n",
       "      <td>2016-8</td>\n",
       "      <td>3-2017</td>\n",
       "      <td>FY17</td>\n",
       "      <td>4662.0</td>\n",
       "    </tr>\n",
       "    <tr>\n",
       "      <th>173045</th>\n",
       "      <td>429393.0</td>\n",
       "      <td>Refund</td>\n",
       "      <td>3/23/2017</td>\n",
       "      <td>NaN</td>\n",
       "      <td>0.0</td>\n",
       "      <td>1.0</td>\n",
       "      <td>0.0</td>\n",
       "      <td>100283786</td>\n",
       "      <td>\\N</td>\n",
       "      <td>0.0</td>\n",
       "      <td>cod</td>\n",
       "      <td>3/23/2017</td>\n",
       "      <td>Valid</td>\n",
       "      <td>-</td>\n",
       "      <td>2017.0</td>\n",
       "      <td>3.0</td>\n",
       "      <td>2016-8</td>\n",
       "      <td>3-2017</td>\n",
       "      <td>FY17</td>\n",
       "      <td>4662.0</td>\n",
       "    </tr>\n",
       "    <tr>\n",
       "      <th>173069</th>\n",
       "      <td>429421.0</td>\n",
       "      <td>Refund</td>\n",
       "      <td>3/23/2017</td>\n",
       "      <td>NaN</td>\n",
       "      <td>0.0</td>\n",
       "      <td>1.0</td>\n",
       "      <td>0.0</td>\n",
       "      <td>100283807</td>\n",
       "      <td>\\N</td>\n",
       "      <td>0.0</td>\n",
       "      <td>cod</td>\n",
       "      <td>3/23/2017</td>\n",
       "      <td>Valid</td>\n",
       "      <td>-</td>\n",
       "      <td>2017.0</td>\n",
       "      <td>3.0</td>\n",
       "      <td>2016-8</td>\n",
       "      <td>3-2017</td>\n",
       "      <td>FY17</td>\n",
       "      <td>4662.0</td>\n",
       "    </tr>\n",
       "    <tr>\n",
       "      <th>175411</th>\n",
       "      <td>432276.0</td>\n",
       "      <td>Refund</td>\n",
       "      <td>3/26/2017</td>\n",
       "      <td>NaN</td>\n",
       "      <td>0.0</td>\n",
       "      <td>1.0</td>\n",
       "      <td>0.0</td>\n",
       "      <td>100285563</td>\n",
       "      <td>\\N</td>\n",
       "      <td>0.0</td>\n",
       "      <td>cod</td>\n",
       "      <td>3/26/2017</td>\n",
       "      <td>Valid</td>\n",
       "      <td>-</td>\n",
       "      <td>2017.0</td>\n",
       "      <td>3.0</td>\n",
       "      <td>2016-11</td>\n",
       "      <td>3-2017</td>\n",
       "      <td>FY17</td>\n",
       "      <td>14625.0</td>\n",
       "    </tr>\n",
       "    <tr>\n",
       "      <th>238273</th>\n",
       "      <td>506324.0</td>\n",
       "      <td>Canceled</td>\n",
       "      <td>6/7/2017</td>\n",
       "      <td>NaN</td>\n",
       "      <td>0.0</td>\n",
       "      <td>1.0</td>\n",
       "      <td>0.0</td>\n",
       "      <td>100322823</td>\n",
       "      <td>\\N</td>\n",
       "      <td>0.0</td>\n",
       "      <td>cod</td>\n",
       "      <td>6/7/2017</td>\n",
       "      <td>Gross</td>\n",
       "      <td>-</td>\n",
       "      <td>2017.0</td>\n",
       "      <td>6.0</td>\n",
       "      <td>2016-11</td>\n",
       "      <td>6-2017</td>\n",
       "      <td>FY17</td>\n",
       "      <td>14905.0</td>\n",
       "    </tr>\n",
       "    <tr>\n",
       "      <th>316422</th>\n",
       "      <td>595858.0</td>\n",
       "      <td>Completed</td>\n",
       "      <td>10/12/2017</td>\n",
       "      <td>NaN</td>\n",
       "      <td>0.0</td>\n",
       "      <td>2.0</td>\n",
       "      <td>0.0</td>\n",
       "      <td>100367801</td>\n",
       "      <td>\\N</td>\n",
       "      <td>0.0</td>\n",
       "      <td>cod</td>\n",
       "      <td>10/12/2017</td>\n",
       "      <td>Valid</td>\n",
       "      <td>-</td>\n",
       "      <td>2017.0</td>\n",
       "      <td>10.0</td>\n",
       "      <td>2017-8</td>\n",
       "      <td>10-2017</td>\n",
       "      <td>FY18</td>\n",
       "      <td>58333.0</td>\n",
       "    </tr>\n",
       "    <tr>\n",
       "      <th>325391</th>\n",
       "      <td>605726.0</td>\n",
       "      <td>Refund</td>\n",
       "      <td>11/1/2017</td>\n",
       "      <td>NaN</td>\n",
       "      <td>18335.0</td>\n",
       "      <td>1.0</td>\n",
       "      <td>18335.0</td>\n",
       "      <td>100374250</td>\n",
       "      <td>Entertainment</td>\n",
       "      <td>0.0</td>\n",
       "      <td>cod</td>\n",
       "      <td>11/1/2017</td>\n",
       "      <td>Valid</td>\n",
       "      <td>18,335</td>\n",
       "      <td>2017.0</td>\n",
       "      <td>11.0</td>\n",
       "      <td>2017-11</td>\n",
       "      <td>11-2017</td>\n",
       "      <td>FY18</td>\n",
       "      <td>65343.0</td>\n",
       "    </tr>\n",
       "    <tr>\n",
       "      <th>325402</th>\n",
       "      <td>605740.0</td>\n",
       "      <td>Canceled</td>\n",
       "      <td>11/1/2017</td>\n",
       "      <td>NaN</td>\n",
       "      <td>16110.0</td>\n",
       "      <td>1.0</td>\n",
       "      <td>16110.0</td>\n",
       "      <td>100374259</td>\n",
       "      <td>Entertainment</td>\n",
       "      <td>0.0</td>\n",
       "      <td>cod</td>\n",
       "      <td>11/1/2017</td>\n",
       "      <td>Gross</td>\n",
       "      <td>16,110</td>\n",
       "      <td>2017.0</td>\n",
       "      <td>11.0</td>\n",
       "      <td>2017-11</td>\n",
       "      <td>11-2017</td>\n",
       "      <td>FY18</td>\n",
       "      <td>65350.0</td>\n",
       "    </tr>\n",
       "    <tr>\n",
       "      <th>325602</th>\n",
       "      <td>605954.0</td>\n",
       "      <td>Refund</td>\n",
       "      <td>11/2/2017</td>\n",
       "      <td>NaN</td>\n",
       "      <td>16110.0</td>\n",
       "      <td>1.0</td>\n",
       "      <td>16110.0</td>\n",
       "      <td>100374382</td>\n",
       "      <td>Entertainment</td>\n",
       "      <td>0.0</td>\n",
       "      <td>cod</td>\n",
       "      <td>11/2/2017</td>\n",
       "      <td>Valid</td>\n",
       "      <td>16,110</td>\n",
       "      <td>2017.0</td>\n",
       "      <td>11.0</td>\n",
       "      <td>2017-11</td>\n",
       "      <td>11-2017</td>\n",
       "      <td>FY18</td>\n",
       "      <td>65366.0</td>\n",
       "    </tr>\n",
       "  </tbody>\n",
       "</table>\n",
       "</div>"
      ],
      "text/plain": [
       "         item_id     status  created_at  sku    price  qty_ordered  \\\n",
       "14846   230008.0   Canceled   8/13/2016  NaN      0.0          1.0   \n",
       "20676   236830.0   Canceled    9/1/2016  NaN      0.0          1.0   \n",
       "39838   260006.0   Canceled   10/7/2016  NaN      0.0          1.0   \n",
       "39839   260007.0   Canceled   10/7/2016  NaN      0.0          3.0   \n",
       "39880   260061.0   Canceled   10/7/2016  NaN      0.0          3.0   \n",
       "124968  367292.0     Refund  12/10/2016  NaN      0.0          1.0   \n",
       "125636  368122.0     Refund  12/12/2016  NaN      0.0          1.0   \n",
       "125811  368362.0     Refund  12/13/2016  NaN      0.0          1.0   \n",
       "149597  399798.0     Refund    2/7/2017  NaN      0.0          1.0   \n",
       "170249  426105.0   Canceled   3/21/2017  NaN      0.0          1.0   \n",
       "170401  426302.0   Canceled   3/22/2017  NaN      0.0          1.0   \n",
       "173040  429392.0     Refund   3/23/2017  NaN      0.0          1.0   \n",
       "173045  429393.0     Refund   3/23/2017  NaN      0.0          1.0   \n",
       "173069  429421.0     Refund   3/23/2017  NaN      0.0          1.0   \n",
       "175411  432276.0     Refund   3/26/2017  NaN      0.0          1.0   \n",
       "238273  506324.0   Canceled    6/7/2017  NaN      0.0          1.0   \n",
       "316422  595858.0  Completed  10/12/2017  NaN      0.0          2.0   \n",
       "325391  605726.0     Refund   11/1/2017  NaN  18335.0          1.0   \n",
       "325402  605740.0   Canceled   11/1/2017  NaN  16110.0          1.0   \n",
       "325602  605954.0     Refund   11/2/2017  NaN  16110.0          1.0   \n",
       "\n",
       "        grand_total increment_id category_name_1  discount_amount  \\\n",
       "14846           0.0    100160070              \\N              0.0   \n",
       "20676           0.0    100164902              \\N              0.0   \n",
       "39838           0.0    100181136              \\N              0.0   \n",
       "39839           0.0    100181137              \\N              0.0   \n",
       "39880           0.0    100181174              \\N              0.0   \n",
       "124968          0.0    100247863              \\N              0.0   \n",
       "125636          0.0    100248364              \\N              0.0   \n",
       "125811          0.0    100248497              \\N              0.0   \n",
       "149597          0.0    100267148              \\N              0.0   \n",
       "170249       6952.0    100281645              \\N              0.0   \n",
       "170401       1873.0    100281748              \\N              0.0   \n",
       "173040          0.0    100283785              \\N              0.0   \n",
       "173045          0.0    100283786              \\N              0.0   \n",
       "173069          0.0    100283807              \\N              0.0   \n",
       "175411          0.0    100285563              \\N              0.0   \n",
       "238273          0.0    100322823              \\N              0.0   \n",
       "316422          0.0    100367801              \\N              0.0   \n",
       "325391      18335.0    100374250   Entertainment              0.0   \n",
       "325402      16110.0    100374259   Entertainment              0.0   \n",
       "325602      16110.0    100374382   Entertainment              0.0   \n",
       "\n",
       "       payment_method Working Date BI Status total_price    Year  Month  \\\n",
       "14846             cod    8/13/2016     Gross        -     2016.0    8.0   \n",
       "20676             cod     9/1/2016     Gross        -     2016.0    9.0   \n",
       "39838             cod    10/7/2016     Gross        -     2016.0   10.0   \n",
       "39839             cod    10/7/2016     Gross        -     2016.0   10.0   \n",
       "39880             cod    10/7/2016     Gross        -     2016.0   10.0   \n",
       "124968            cod   12/10/2016     Valid        -     2016.0   12.0   \n",
       "125636            cod   12/12/2016     Valid        -     2016.0   12.0   \n",
       "125811            cod   12/13/2016     Valid        -     2016.0   12.0   \n",
       "149597            cod     2/7/2017     Valid        -     2017.0    2.0   \n",
       "170249            cod    3/21/2017     Gross        -     2017.0    3.0   \n",
       "170401            cod    3/22/2017     Gross        -     2017.0    3.0   \n",
       "173040            cod    3/23/2017     Valid        -     2017.0    3.0   \n",
       "173045            cod    3/23/2017     Valid        -     2017.0    3.0   \n",
       "173069            cod    3/23/2017     Valid        -     2017.0    3.0   \n",
       "175411            cod    3/26/2017     Valid        -     2017.0    3.0   \n",
       "238273            cod     6/7/2017     Gross        -     2017.0    6.0   \n",
       "316422            cod   10/12/2017     Valid        -     2017.0   10.0   \n",
       "325391            cod    11/1/2017     Valid     18,335   2017.0   11.0   \n",
       "325402            cod    11/1/2017     Gross     16,110   2017.0   11.0   \n",
       "325602            cod    11/2/2017     Valid     16,110   2017.0   11.0   \n",
       "\n",
       "       Customer Since      M-Y    FY  Customer ID  \n",
       "14846          2016-8   8-2016  FY17       3468.0  \n",
       "20676          2016-8   9-2016  FY17       4369.0  \n",
       "39838          2016-7  10-2016  FY17        939.0  \n",
       "39839          2016-7  10-2016  FY17        939.0  \n",
       "39880          2016-7  10-2016  FY17        939.0  \n",
       "124968        2016-11  12-2016  FY17      26305.0  \n",
       "125636         2016-7  12-2016  FY17       2246.0  \n",
       "125811         2016-7  12-2016  FY17        251.0  \n",
       "149597         2017-2   2-2017  FY17      33062.0  \n",
       "170249         2017-3   3-2017  FY17      38242.0  \n",
       "170401         2017-3   3-2017  FY17      38278.0  \n",
       "173040         2016-8   3-2017  FY17       4662.0  \n",
       "173045         2016-8   3-2017  FY17       4662.0  \n",
       "173069         2016-8   3-2017  FY17       4662.0  \n",
       "175411        2016-11   3-2017  FY17      14625.0  \n",
       "238273        2016-11   6-2017  FY17      14905.0  \n",
       "316422         2017-8  10-2017  FY18      58333.0  \n",
       "325391        2017-11  11-2017  FY18      65343.0  \n",
       "325402        2017-11  11-2017  FY18      65350.0  \n",
       "325602        2017-11  11-2017  FY18      65366.0  "
      ]
     },
     "execution_count": 172,
     "metadata": {},
     "output_type": "execute_result"
    }
   ],
   "source": [
    "df[df['sku'].isna()]"
   ]
  },
  {
   "cell_type": "markdown",
   "metadata": {},
   "source": [
    "Setelah melihat dan menganalisa semua Missing Value pada kolom sku, maka tidak didapatkan hubungan dengan kolom yang lain. Untuk menaikkan akurasi data pada saat proses analisa, maka Missing Value pada kolom ini dapat diatasi dengan mengisi Missing Value dengan 'Unrecorded'"
   ]
  },
  {
   "cell_type": "code",
   "execution_count": 173,
   "metadata": {},
   "outputs": [],
   "source": [
    "df['sku'].fillna('Unrecorded', inplace=True)"
   ]
  },
  {
   "cell_type": "code",
   "execution_count": 174,
   "metadata": {},
   "outputs": [
    {
     "data": {
      "text/plain": [
       "item_id              0\n",
       "status               0\n",
       "created_at           0\n",
       "sku                  0\n",
       "price                0\n",
       "qty_ordered          0\n",
       "grand_total          0\n",
       "increment_id         0\n",
       "category_name_1    164\n",
       "discount_amount      0\n",
       "payment_method       0\n",
       "Working Date         0\n",
       "BI Status            0\n",
       "total_price          0\n",
       "Year                 0\n",
       "Month                0\n",
       "Customer Since      11\n",
       "M-Y                  0\n",
       "FY                   0\n",
       "Customer ID         11\n",
       "dtype: int64"
      ]
     },
     "execution_count": 174,
     "metadata": {},
     "output_type": "execute_result"
    }
   ],
   "source": [
    "df.isna().sum()"
   ]
  },
  {
   "cell_type": "markdown",
   "metadata": {},
   "source": [
    "Berlanjut ke kolom ke 4 yaitu category_name_1, yang memiliki 164 data dengan Missing Value."
   ]
  },
  {
   "cell_type": "code",
   "execution_count": 175,
   "metadata": {},
   "outputs": [
    {
     "data": {
      "text/plain": [
       "Mobiles & Tablets     115710\n",
       "Men's Fashion          92221\n",
       "Women's Fashion        59721\n",
       "Appliances             52413\n",
       "Superstore             43613\n",
       "Beauty & Grooming      41496\n",
       "Soghaat                34011\n",
       "Others                 29218\n",
       "Home & Living          26504\n",
       "Entertainment          26326\n",
       "Health & Sports        17502\n",
       "Kids & Baby            16494\n",
       "Computing              15933\n",
       "\\N                      7850\n",
       "School & Education      3478\n",
       "Books                   1870\n",
       "Name: category_name_1, dtype: int64"
      ]
     },
     "execution_count": 175,
     "metadata": {},
     "output_type": "execute_result"
    }
   ],
   "source": [
    "df['category_name_1'].value_counts()"
   ]
  },
  {
   "cell_type": "markdown",
   "metadata": {},
   "source": [
    "Selain 164 baris Missing Value, ditemukan sebanyak 7850 baris memiliki label '\\N' pada kolom 'category_name_1'. Lalu, nama kolom 'category_name_1' dinilai kurang baik dalam merepresentasikan nama kolom dengan tidak adanya nama kolom yang mirip. Yang akan dilakukan adalah:\n",
    "1. Mengubah nama kolom 'category_name_1' menjadi Category\n",
    "2. Mengubah label '\\N' di masukkan ke dalam Others\n",
    "3. Mengisi nilai Missing Value dengan 'Others'"
   ]
  },
  {
   "cell_type": "code",
   "execution_count": 176,
   "metadata": {},
   "outputs": [],
   "source": [
    "df.rename(columns={'category_name_1':'Category'}, inplace=True)\n",
    "df['Category'] = df['Category'].replace(r'\\N', 'Others')\n",
    "df['Category'].fillna('Others', inplace=True)"
   ]
  },
  {
   "cell_type": "code",
   "execution_count": 177,
   "metadata": {},
   "outputs": [
    {
     "data": {
      "text/plain": [
       "item_id             0\n",
       "status              0\n",
       "created_at          0\n",
       "sku                 0\n",
       "price               0\n",
       "qty_ordered         0\n",
       "grand_total         0\n",
       "increment_id        0\n",
       "Category            0\n",
       "discount_amount     0\n",
       "payment_method      0\n",
       "Working Date        0\n",
       "BI Status           0\n",
       "total_price         0\n",
       "Year                0\n",
       "Month               0\n",
       "Customer Since     11\n",
       "M-Y                 0\n",
       "FY                  0\n",
       "Customer ID        11\n",
       "dtype: int64"
      ]
     },
     "execution_count": 177,
     "metadata": {},
     "output_type": "execute_result"
    }
   ],
   "source": [
    "df.isna().sum()"
   ]
  },
  {
   "cell_type": "markdown",
   "metadata": {},
   "source": [
    "Tersisa 2 kolom yang masih memiliki missing value. Kolom yang akan ditangani selanjutnya adalah kolom 'Customer Since' dan 'Customer ID'."
   ]
  },
  {
   "cell_type": "code",
   "execution_count": 178,
   "metadata": {},
   "outputs": [
    {
     "data": {
      "text/html": [
       "<div>\n",
       "<style scoped>\n",
       "    .dataframe tbody tr th:only-of-type {\n",
       "        vertical-align: middle;\n",
       "    }\n",
       "\n",
       "    .dataframe tbody tr th {\n",
       "        vertical-align: top;\n",
       "    }\n",
       "\n",
       "    .dataframe thead th {\n",
       "        text-align: right;\n",
       "    }\n",
       "</style>\n",
       "<table border=\"1\" class=\"dataframe\">\n",
       "  <thead>\n",
       "    <tr style=\"text-align: right;\">\n",
       "      <th></th>\n",
       "      <th>item_id</th>\n",
       "      <th>status</th>\n",
       "      <th>created_at</th>\n",
       "      <th>sku</th>\n",
       "      <th>price</th>\n",
       "      <th>qty_ordered</th>\n",
       "      <th>grand_total</th>\n",
       "      <th>increment_id</th>\n",
       "      <th>Category</th>\n",
       "      <th>discount_amount</th>\n",
       "      <th>payment_method</th>\n",
       "      <th>Working Date</th>\n",
       "      <th>BI Status</th>\n",
       "      <th>total_price</th>\n",
       "      <th>Year</th>\n",
       "      <th>Month</th>\n",
       "      <th>Customer Since</th>\n",
       "      <th>M-Y</th>\n",
       "      <th>FY</th>\n",
       "      <th>Customer ID</th>\n",
       "    </tr>\n",
       "  </thead>\n",
       "  <tbody>\n",
       "    <tr>\n",
       "      <th>427377</th>\n",
       "      <td>726862.0</td>\n",
       "      <td>Refund</td>\n",
       "      <td>1/5/2018</td>\n",
       "      <td>BAGLOR5A12C5C756AE5</td>\n",
       "      <td>209.0</td>\n",
       "      <td>1.0</td>\n",
       "      <td>1074.0</td>\n",
       "      <td>100443451</td>\n",
       "      <td>Beauty &amp; Grooming</td>\n",
       "      <td>0.0</td>\n",
       "      <td>cod</td>\n",
       "      <td>1/5/2018</td>\n",
       "      <td>Valid</td>\n",
       "      <td>209</td>\n",
       "      <td>2018.0</td>\n",
       "      <td>1.0</td>\n",
       "      <td>NaN</td>\n",
       "      <td>1-2018</td>\n",
       "      <td>FY18</td>\n",
       "      <td>NaN</td>\n",
       "    </tr>\n",
       "    <tr>\n",
       "      <th>427378</th>\n",
       "      <td>726863.0</td>\n",
       "      <td>Refund</td>\n",
       "      <td>1/5/2018</td>\n",
       "      <td>WOFGUL59C24CC9BE5D9</td>\n",
       "      <td>720.0</td>\n",
       "      <td>1.0</td>\n",
       "      <td>1074.0</td>\n",
       "      <td>100443451</td>\n",
       "      <td>Women's Fashion</td>\n",
       "      <td>0.0</td>\n",
       "      <td>cod</td>\n",
       "      <td>1/5/2018</td>\n",
       "      <td>Valid</td>\n",
       "      <td>720</td>\n",
       "      <td>2018.0</td>\n",
       "      <td>1.0</td>\n",
       "      <td>NaN</td>\n",
       "      <td>1-2018</td>\n",
       "      <td>FY18</td>\n",
       "      <td>NaN</td>\n",
       "    </tr>\n",
       "    <tr>\n",
       "      <th>427379</th>\n",
       "      <td>726864.0</td>\n",
       "      <td>Refund</td>\n",
       "      <td>1/5/2018</td>\n",
       "      <td>BAGNAD59E0AAC250E6D</td>\n",
       "      <td>145.0</td>\n",
       "      <td>1.0</td>\n",
       "      <td>1074.0</td>\n",
       "      <td>100443451</td>\n",
       "      <td>Beauty &amp; Grooming</td>\n",
       "      <td>0.0</td>\n",
       "      <td>cod</td>\n",
       "      <td>1/5/2018</td>\n",
       "      <td>Valid</td>\n",
       "      <td>145</td>\n",
       "      <td>2018.0</td>\n",
       "      <td>1.0</td>\n",
       "      <td>NaN</td>\n",
       "      <td>1-2018</td>\n",
       "      <td>FY18</td>\n",
       "      <td>NaN</td>\n",
       "    </tr>\n",
       "    <tr>\n",
       "      <th>437567</th>\n",
       "      <td>738191.0</td>\n",
       "      <td>Refund</td>\n",
       "      <td>1/31/2018</td>\n",
       "      <td>MEFMUN5A0ACC3A894BE-9</td>\n",
       "      <td>999.0</td>\n",
       "      <td>1.0</td>\n",
       "      <td>1149.0</td>\n",
       "      <td>100449683</td>\n",
       "      <td>Men's Fashion</td>\n",
       "      <td>0.0</td>\n",
       "      <td>cod</td>\n",
       "      <td>1/31/2018</td>\n",
       "      <td>Valid</td>\n",
       "      <td>999</td>\n",
       "      <td>2018.0</td>\n",
       "      <td>1.0</td>\n",
       "      <td>NaN</td>\n",
       "      <td>1-2018</td>\n",
       "      <td>FY18</td>\n",
       "      <td>NaN</td>\n",
       "    </tr>\n",
       "    <tr>\n",
       "      <th>478699</th>\n",
       "      <td>784981.0</td>\n",
       "      <td>Completed</td>\n",
       "      <td>3/15/2018</td>\n",
       "      <td>OTHPCB5A7D8A0DA56C6</td>\n",
       "      <td>8000.0</td>\n",
       "      <td>2.0</td>\n",
       "      <td>16000.0</td>\n",
       "      <td>100480546</td>\n",
       "      <td>Others</td>\n",
       "      <td>0.0</td>\n",
       "      <td>Payaxis</td>\n",
       "      <td>3/15/2018</td>\n",
       "      <td>Valid</td>\n",
       "      <td>16,000</td>\n",
       "      <td>2018.0</td>\n",
       "      <td>3.0</td>\n",
       "      <td>NaN</td>\n",
       "      <td>3-2018</td>\n",
       "      <td>FY18</td>\n",
       "      <td>NaN</td>\n",
       "    </tr>\n",
       "    <tr>\n",
       "      <th>478779</th>\n",
       "      <td>785061.0</td>\n",
       "      <td>Canceled</td>\n",
       "      <td>3/15/2018</td>\n",
       "      <td>OTHPCB5A7D8A0DA56C6</td>\n",
       "      <td>8000.0</td>\n",
       "      <td>2.0</td>\n",
       "      <td>16000.0</td>\n",
       "      <td>100480623</td>\n",
       "      <td>Others</td>\n",
       "      <td>0.0</td>\n",
       "      <td>Easypay_MA</td>\n",
       "      <td>3/15/2018</td>\n",
       "      <td>Gross</td>\n",
       "      <td>16,000</td>\n",
       "      <td>2018.0</td>\n",
       "      <td>3.0</td>\n",
       "      <td>NaN</td>\n",
       "      <td>3-2018</td>\n",
       "      <td>FY18</td>\n",
       "      <td>NaN</td>\n",
       "    </tr>\n",
       "    <tr>\n",
       "      <th>494278</th>\n",
       "      <td>804621.0</td>\n",
       "      <td>Canceled</td>\n",
       "      <td>3/27/2018</td>\n",
       "      <td>OTHPCB5AB351ED6A8F2</td>\n",
       "      <td>5000.0</td>\n",
       "      <td>2.0</td>\n",
       "      <td>10000.0</td>\n",
       "      <td>100496269</td>\n",
       "      <td>Others</td>\n",
       "      <td>0.0</td>\n",
       "      <td>Easypay</td>\n",
       "      <td>3/27/2018</td>\n",
       "      <td>Gross</td>\n",
       "      <td>10,000</td>\n",
       "      <td>2018.0</td>\n",
       "      <td>3.0</td>\n",
       "      <td>NaN</td>\n",
       "      <td>3-2018</td>\n",
       "      <td>FY18</td>\n",
       "      <td>NaN</td>\n",
       "    </tr>\n",
       "    <tr>\n",
       "      <th>495340</th>\n",
       "      <td>805750.0</td>\n",
       "      <td>Canceled</td>\n",
       "      <td>3/27/2018</td>\n",
       "      <td>OTHPCB5AB351ECC7118</td>\n",
       "      <td>500.0</td>\n",
       "      <td>2.0</td>\n",
       "      <td>1000.0</td>\n",
       "      <td>100497359</td>\n",
       "      <td>Others</td>\n",
       "      <td>0.0</td>\n",
       "      <td>Easypay</td>\n",
       "      <td>3/27/2018</td>\n",
       "      <td>Gross</td>\n",
       "      <td>1,000</td>\n",
       "      <td>2018.0</td>\n",
       "      <td>3.0</td>\n",
       "      <td>NaN</td>\n",
       "      <td>3-2018</td>\n",
       "      <td>FY18</td>\n",
       "      <td>NaN</td>\n",
       "    </tr>\n",
       "    <tr>\n",
       "      <th>495945</th>\n",
       "      <td>807010.0</td>\n",
       "      <td>Canceled</td>\n",
       "      <td>3/27/2018</td>\n",
       "      <td>OTHPCB5AB351EEC46EC</td>\n",
       "      <td>500.0</td>\n",
       "      <td>4.0</td>\n",
       "      <td>2000.0</td>\n",
       "      <td>100498582</td>\n",
       "      <td>Others</td>\n",
       "      <td>0.0</td>\n",
       "      <td>Easypay</td>\n",
       "      <td>3/27/2018</td>\n",
       "      <td>Gross</td>\n",
       "      <td>2,000</td>\n",
       "      <td>2018.0</td>\n",
       "      <td>3.0</td>\n",
       "      <td>NaN</td>\n",
       "      <td>3-2018</td>\n",
       "      <td>FY18</td>\n",
       "      <td>NaN</td>\n",
       "    </tr>\n",
       "    <tr>\n",
       "      <th>496921</th>\n",
       "      <td>808287.0</td>\n",
       "      <td>Refund</td>\n",
       "      <td>3/27/2018</td>\n",
       "      <td>MEFKAR5A7C138CE9EBD-L</td>\n",
       "      <td>1040.0</td>\n",
       "      <td>1.0</td>\n",
       "      <td>1040.0</td>\n",
       "      <td>100499821</td>\n",
       "      <td>Men's Fashion</td>\n",
       "      <td>0.0</td>\n",
       "      <td>cod</td>\n",
       "      <td>3/27/2018</td>\n",
       "      <td>Valid</td>\n",
       "      <td>1,040</td>\n",
       "      <td>2018.0</td>\n",
       "      <td>3.0</td>\n",
       "      <td>NaN</td>\n",
       "      <td>3-2018</td>\n",
       "      <td>FY18</td>\n",
       "      <td>NaN</td>\n",
       "    </tr>\n",
       "    <tr>\n",
       "      <th>502446</th>\n",
       "      <td>814174.0</td>\n",
       "      <td>Canceled</td>\n",
       "      <td>3/28/2018</td>\n",
       "      <td>OTHPCB5ABB207673754</td>\n",
       "      <td>2000.0</td>\n",
       "      <td>5.0</td>\n",
       "      <td>10000.0</td>\n",
       "      <td>100505460</td>\n",
       "      <td>Others</td>\n",
       "      <td>0.0</td>\n",
       "      <td>Easypay</td>\n",
       "      <td>3/28/2018</td>\n",
       "      <td>Gross</td>\n",
       "      <td>10,000</td>\n",
       "      <td>2018.0</td>\n",
       "      <td>3.0</td>\n",
       "      <td>NaN</td>\n",
       "      <td>3-2018</td>\n",
       "      <td>FY18</td>\n",
       "      <td>NaN</td>\n",
       "    </tr>\n",
       "  </tbody>\n",
       "</table>\n",
       "</div>"
      ],
      "text/plain": [
       "         item_id     status created_at                    sku   price  \\\n",
       "427377  726862.0     Refund   1/5/2018    BAGLOR5A12C5C756AE5   209.0   \n",
       "427378  726863.0     Refund   1/5/2018    WOFGUL59C24CC9BE5D9   720.0   \n",
       "427379  726864.0     Refund   1/5/2018    BAGNAD59E0AAC250E6D   145.0   \n",
       "437567  738191.0     Refund  1/31/2018  MEFMUN5A0ACC3A894BE-9   999.0   \n",
       "478699  784981.0  Completed  3/15/2018    OTHPCB5A7D8A0DA56C6  8000.0   \n",
       "478779  785061.0   Canceled  3/15/2018    OTHPCB5A7D8A0DA56C6  8000.0   \n",
       "494278  804621.0   Canceled  3/27/2018    OTHPCB5AB351ED6A8F2  5000.0   \n",
       "495340  805750.0   Canceled  3/27/2018    OTHPCB5AB351ECC7118   500.0   \n",
       "495945  807010.0   Canceled  3/27/2018    OTHPCB5AB351EEC46EC   500.0   \n",
       "496921  808287.0     Refund  3/27/2018  MEFKAR5A7C138CE9EBD-L  1040.0   \n",
       "502446  814174.0   Canceled  3/28/2018    OTHPCB5ABB207673754  2000.0   \n",
       "\n",
       "        qty_ordered  grand_total increment_id           Category  \\\n",
       "427377          1.0       1074.0    100443451  Beauty & Grooming   \n",
       "427378          1.0       1074.0    100443451    Women's Fashion   \n",
       "427379          1.0       1074.0    100443451  Beauty & Grooming   \n",
       "437567          1.0       1149.0    100449683      Men's Fashion   \n",
       "478699          2.0      16000.0    100480546             Others   \n",
       "478779          2.0      16000.0    100480623             Others   \n",
       "494278          2.0      10000.0    100496269             Others   \n",
       "495340          2.0       1000.0    100497359             Others   \n",
       "495945          4.0       2000.0    100498582             Others   \n",
       "496921          1.0       1040.0    100499821      Men's Fashion   \n",
       "502446          5.0      10000.0    100505460             Others   \n",
       "\n",
       "        discount_amount payment_method Working Date BI Status total_price  \\\n",
       "427377              0.0            cod     1/5/2018     Valid        209    \n",
       "427378              0.0            cod     1/5/2018     Valid        720    \n",
       "427379              0.0            cod     1/5/2018     Valid        145    \n",
       "437567              0.0            cod    1/31/2018     Valid        999    \n",
       "478699              0.0        Payaxis    3/15/2018     Valid     16,000    \n",
       "478779              0.0     Easypay_MA    3/15/2018     Gross     16,000    \n",
       "494278              0.0        Easypay    3/27/2018     Gross     10,000    \n",
       "495340              0.0        Easypay    3/27/2018     Gross      1,000    \n",
       "495945              0.0        Easypay    3/27/2018     Gross      2,000    \n",
       "496921              0.0            cod    3/27/2018     Valid      1,040    \n",
       "502446              0.0        Easypay    3/28/2018     Gross     10,000    \n",
       "\n",
       "          Year  Month Customer Since     M-Y    FY  Customer ID  \n",
       "427377  2018.0    1.0            NaN  1-2018  FY18          NaN  \n",
       "427378  2018.0    1.0            NaN  1-2018  FY18          NaN  \n",
       "427379  2018.0    1.0            NaN  1-2018  FY18          NaN  \n",
       "437567  2018.0    1.0            NaN  1-2018  FY18          NaN  \n",
       "478699  2018.0    3.0            NaN  3-2018  FY18          NaN  \n",
       "478779  2018.0    3.0            NaN  3-2018  FY18          NaN  \n",
       "494278  2018.0    3.0            NaN  3-2018  FY18          NaN  \n",
       "495340  2018.0    3.0            NaN  3-2018  FY18          NaN  \n",
       "495945  2018.0    3.0            NaN  3-2018  FY18          NaN  \n",
       "496921  2018.0    3.0            NaN  3-2018  FY18          NaN  \n",
       "502446  2018.0    3.0            NaN  3-2018  FY18          NaN  "
      ]
     },
     "execution_count": 178,
     "metadata": {},
     "output_type": "execute_result"
    }
   ],
   "source": [
    "df[df['Customer Since'].isnull()]"
   ]
  },
  {
   "cell_type": "markdown",
   "metadata": {},
   "source": [
    "Didapatkan kolom Customer Since dan kolom Customer ID memiliki data dengan Missing Value yang sama, yang mana sangat logis bila diasumsikan bahwa mereka berhubungan. Ketika dicermati, maka kedua kolom tersebut memiliki kesamaan yaitu memiliki Fiscal Year (FY) pada tahun 2018 dan memiliki riwayat transaksi di bulan Januari 2018 dan Maret 2018. Agar data ini dapat digunakan sebagai analisa, maka yang dilakukan adalah:\n",
    "1. Membuat Customer ID dummy dengan mengisi Missing Value menggunakan angka 0 (nol).\n",
    "2. Mengisi Missing Value pada kolom Customer Since dengan kolom M-Y, yang menunjukkan data transaksi itu dibuat, namun dengan menggunakan format yang terbalik yaitu Y-M(Year-Month) agar sesuai dengan kondisi awal."
   ]
  },
  {
   "cell_type": "markdown",
   "metadata": {},
   "source": [
    "Selain itu, juga didapatkan penamaan yang sedikit berbeda pada kolom 'payment_method', yang mana patut dicurigai memiliki penamaan yang berbeda dengan action yang sama. Permasalahan ini akan ditangani setelah sub-bab Missing Value."
   ]
  },
  {
   "cell_type": "code",
   "execution_count": 179,
   "metadata": {},
   "outputs": [],
   "source": [
    "df['Customer ID'].fillna(0, inplace=True)\n",
    "df[df['M-Y']==\"1-2018\"][df['Customer Since'].isna()].fillna(\"2018-1\", inplace=True)\n",
    "df['Customer Since'].fillna(\"2018-3\", inplace=True)"
   ]
  },
  {
   "cell_type": "code",
   "execution_count": 180,
   "metadata": {},
   "outputs": [
    {
     "data": {
      "text/plain": [
       "item_id            0\n",
       "status             0\n",
       "created_at         0\n",
       "sku                0\n",
       "price              0\n",
       "qty_ordered        0\n",
       "grand_total        0\n",
       "increment_id       0\n",
       "Category           0\n",
       "discount_amount    0\n",
       "payment_method     0\n",
       "Working Date       0\n",
       "BI Status          0\n",
       "total_price        0\n",
       "Year               0\n",
       "Month              0\n",
       "Customer Since     0\n",
       "M-Y                0\n",
       "FY                 0\n",
       "Customer ID        0\n",
       "dtype: int64"
      ]
     },
     "execution_count": 180,
     "metadata": {},
     "output_type": "execute_result"
    }
   ],
   "source": [
    "df.isna().sum()"
   ]
  },
  {
   "cell_type": "markdown",
   "metadata": {},
   "source": [
    "### Data Preparation for Analysis"
   ]
  },
  {
   "cell_type": "markdown",
   "metadata": {},
   "source": [
    "Yang harus dilakukan:\n",
    "1. Kolom 'working date' dan 'created_at' dicurigai memiliki nilai yang sama\n",
    "2. Kolom 'payment_method' dicurigai memiliki nama yang berbeda pada action yang sama.\n",
    "3. Menyamakan tipe data sesuai dengan isi kolom\n",
    "4. Menangani kolom grand_total, yang mana merupakan kolom total_price dikurangi kolom discount_amount. total_price sendiri didapatkan dari kolom price dikali dengan kolom qty_ordered (jumlah produk yang diorder). Perhitungan tersebut didapatkan melalui analisa pada kolom lainnya yang dinilai memiliki keadaan normal.\n",
    "5. Menangani kolom price yang memiliki value 0, karena sangat janggal untuk menjual produk dengan harga 0 atau gratis.\n",
    "6. Mengurutkan agar sesuai dengan kolom fungsi terdekat\n",
    "7. Mengubah nilai kolom 'discount_amount' yang memiliki nilai minus.\n",
    "8. Mengubah nilai kolom 'Grand_Total' yang memiliki nilai minus."
   ]
  },
  {
   "cell_type": "markdown",
   "metadata": {},
   "source": [
    "#### 1. Kolom 'Working Date' dan 'created_at' dicurigai memiliki nilai yang sama"
   ]
  },
  {
   "cell_type": "markdown",
   "metadata": {},
   "source": [
    "Kita akan mencari apakah ada perbedaan data dari kedua kolom ini."
   ]
  },
  {
   "cell_type": "code",
   "execution_count": 181,
   "metadata": {},
   "outputs": [
    {
     "data": {
      "text/html": [
       "<div>\n",
       "<style scoped>\n",
       "    .dataframe tbody tr th:only-of-type {\n",
       "        vertical-align: middle;\n",
       "    }\n",
       "\n",
       "    .dataframe tbody tr th {\n",
       "        vertical-align: top;\n",
       "    }\n",
       "\n",
       "    .dataframe thead th {\n",
       "        text-align: right;\n",
       "    }\n",
       "</style>\n",
       "<table border=\"1\" class=\"dataframe\">\n",
       "  <thead>\n",
       "    <tr style=\"text-align: right;\">\n",
       "      <th></th>\n",
       "      <th>item_id</th>\n",
       "      <th>status</th>\n",
       "      <th>created_at</th>\n",
       "      <th>sku</th>\n",
       "      <th>price</th>\n",
       "      <th>qty_ordered</th>\n",
       "      <th>grand_total</th>\n",
       "      <th>increment_id</th>\n",
       "      <th>Category</th>\n",
       "      <th>discount_amount</th>\n",
       "      <th>payment_method</th>\n",
       "      <th>Working Date</th>\n",
       "      <th>BI Status</th>\n",
       "      <th>total_price</th>\n",
       "      <th>Year</th>\n",
       "      <th>Month</th>\n",
       "      <th>Customer Since</th>\n",
       "      <th>M-Y</th>\n",
       "      <th>FY</th>\n",
       "      <th>Customer ID</th>\n",
       "    </tr>\n",
       "  </thead>\n",
       "  <tbody>\n",
       "  </tbody>\n",
       "</table>\n",
       "</div>"
      ],
      "text/plain": [
       "Empty DataFrame\n",
       "Columns: [item_id, status, created_at, sku, price, qty_ordered, grand_total, increment_id, Category, discount_amount, payment_method, Working Date, BI Status, total_price, Year, Month, Customer Since, M-Y, FY, Customer ID]\n",
       "Index: []"
      ]
     },
     "execution_count": 181,
     "metadata": {},
     "output_type": "execute_result"
    }
   ],
   "source": [
    "df[df['created_at'] != df['Working Date']]"
   ]
  },
  {
   "cell_type": "markdown",
   "metadata": {},
   "source": [
    "Dengan hasil ini (tidak ada perbedaan), maka salah satu kolom akan dihapus untuk menghindari masalah pada proses analisa."
   ]
  },
  {
   "cell_type": "code",
   "execution_count": 182,
   "metadata": {},
   "outputs": [],
   "source": [
    "df.drop('Working Date', axis=1, inplace=True)"
   ]
  },
  {
   "cell_type": "code",
   "execution_count": 183,
   "metadata": {},
   "outputs": [
    {
     "data": {
      "text/plain": [
       "(584524, 19)"
      ]
     },
     "execution_count": 183,
     "metadata": {},
     "output_type": "execute_result"
    }
   ],
   "source": [
    "df.shape"
   ]
  },
  {
   "cell_type": "markdown",
   "metadata": {},
   "source": [
    "#### 2. Kolom 'payment_method' dicurigai memiliki nama yang berbeda pada action yang sama"
   ]
  },
  {
   "cell_type": "code",
   "execution_count": 184,
   "metadata": {},
   "outputs": [
    {
     "data": {
      "text/plain": [
       "cod                  271960\n",
       "Payaxis               97641\n",
       "Easypay               82900\n",
       "jazzwallet            35145\n",
       "easypay_voucher       31176\n",
       "bankalfalah           23065\n",
       "jazzvoucher           15633\n",
       "Easypay_MA            14028\n",
       "customercredit         7555\n",
       "apg                    1758\n",
       "ublcreditcard           882\n",
       "cashatdoorstep          732\n",
       "mcblite                 723\n",
       "mygateway               669\n",
       "internetbanking         472\n",
       "productcredit           125\n",
       "marketingexpense         45\n",
       "financesettlement        15\n",
       "Name: payment_method, dtype: int64"
      ]
     },
     "execution_count": 184,
     "metadata": {},
     "output_type": "execute_result"
    }
   ],
   "source": [
    "df['payment_method'].value_counts()"
   ]
  },
  {
   "cell_type": "markdown",
   "metadata": {},
   "source": [
    "Terlihat ada beberapa nama yang bisa diubah agar sesuai dengan action atau kategorinya, seperti cod & cashatdoorstep ataupun easypay yang memiliki berbagai macam produk keuangan. Dan untuk beberapa metode yang penggunanya sedikit, akan dikategorikan lagi menjadi 'Others'"
   ]
  },
  {
   "cell_type": "code",
   "execution_count": 185,
   "metadata": {},
   "outputs": [],
   "source": [
    "df['payment_method'] = df['payment_method'].replace('cashatdoorstep', 'cod')\n",
    "df['payment_method'] = df['payment_method'].replace('Easypay_MA', 'Easypay')\n",
    "df['payment_method'] = df['payment_method'].replace(['marketingexpense','financesettlement','productcredit', 'internetbanking', 'mygateway', 'mcblite', 'ublcreditcard', 'apg'], 'Others')"
   ]
  },
  {
   "cell_type": "code",
   "execution_count": 186,
   "metadata": {},
   "outputs": [
    {
     "data": {
      "text/plain": [
       "cod                272692\n",
       "Payaxis             97641\n",
       "Easypay             96928\n",
       "jazzwallet          35145\n",
       "easypay_voucher     31176\n",
       "bankalfalah         23065\n",
       "jazzvoucher         15633\n",
       "customercredit       7555\n",
       "Others               4689\n",
       "Name: payment_method, dtype: int64"
      ]
     },
     "execution_count": 186,
     "metadata": {},
     "output_type": "execute_result"
    }
   ],
   "source": [
    "df['payment_method'].value_counts()"
   ]
  },
  {
   "cell_type": "markdown",
   "metadata": {},
   "source": [
    "#### 3. Menyamakan tipe data sesuai dengan isi kolom"
   ]
  },
  {
   "cell_type": "code",
   "execution_count": 187,
   "metadata": {},
   "outputs": [
    {
     "name": "stdout",
     "output_type": "stream",
     "text": [
      "<class 'pandas.core.frame.DataFrame'>\n",
      "Int64Index: 584524 entries, 0 to 584523\n",
      "Data columns (total 19 columns):\n",
      " #   Column           Non-Null Count   Dtype  \n",
      "---  ------           --------------   -----  \n",
      " 0   item_id          584524 non-null  float64\n",
      " 1   status           584524 non-null  object \n",
      " 2   created_at       584524 non-null  object \n",
      " 3   sku              584524 non-null  object \n",
      " 4   price            584524 non-null  float64\n",
      " 5   qty_ordered      584524 non-null  float64\n",
      " 6   grand_total      584524 non-null  float64\n",
      " 7   increment_id     584524 non-null  object \n",
      " 8   Category         584524 non-null  object \n",
      " 9   discount_amount  584524 non-null  float64\n",
      " 10  payment_method   584524 non-null  object \n",
      " 11  BI Status        584524 non-null  object \n",
      " 12  total_price      584524 non-null  object \n",
      " 13  Year             584524 non-null  float64\n",
      " 14  Month            584524 non-null  float64\n",
      " 15  Customer Since   584524 non-null  object \n",
      " 16  M-Y              584524 non-null  object \n",
      " 17  FY               584524 non-null  object \n",
      " 18  Customer ID      584524 non-null  float64\n",
      "dtypes: float64(8), object(11)\n",
      "memory usage: 105.3+ MB\n"
     ]
    }
   ],
   "source": [
    "df.info()"
   ]
  },
  {
   "cell_type": "markdown",
   "metadata": {},
   "source": [
    "Beberapa kolom memiliki data yang belum sesuai dengan karakter data yang seharusnya. Maka tipe data akan diubah sesuai dengan karakteristik data."
   ]
  },
  {
   "cell_type": "code",
   "execution_count": 188,
   "metadata": {},
   "outputs": [
    {
     "name": "stdout",
     "output_type": "stream",
     "text": [
      "<class 'pandas.core.frame.DataFrame'>\n",
      "Int64Index: 584524 entries, 0 to 584523\n",
      "Data columns (total 19 columns):\n",
      " #   Column           Non-Null Count   Dtype         \n",
      "---  ------           --------------   -----         \n",
      " 0   item_id          584524 non-null  string        \n",
      " 1   status           584524 non-null  string        \n",
      " 2   created_at       584524 non-null  datetime64[ns]\n",
      " 3   sku              584524 non-null  string        \n",
      " 4   price            584524 non-null  float64       \n",
      " 5   qty_ordered      584524 non-null  float64       \n",
      " 6   grand_total      584524 non-null  float64       \n",
      " 7   increment_id     584524 non-null  string        \n",
      " 8   Category         584524 non-null  string        \n",
      " 9   discount_amount  584524 non-null  float64       \n",
      " 10  payment_method   584524 non-null  string        \n",
      " 11  BI Status        584524 non-null  string        \n",
      " 12  total_price      584524 non-null  object        \n",
      " 13  Year             584524 non-null  int32         \n",
      " 14  Month            584524 non-null  int32         \n",
      " 15  Customer Since   584524 non-null  period[M]     \n",
      " 16  M-Y              584524 non-null  period[M]     \n",
      " 17  FY               584524 non-null  string        \n",
      " 18  Customer ID      584524 non-null  string        \n",
      "dtypes: datetime64[ns](1), float64(4), int32(2), object(1), period[M](2), string(9)\n",
      "memory usage: 100.9+ MB\n"
     ]
    }
   ],
   "source": [
    "df['item_id'] = pd.Series(df['item_id'], dtype=\"string\")\n",
    "df['status'] = pd.Series(df['status'], dtype=\"string\")\n",
    "df[\"created_at\"]= pd.to_datetime(df[\"created_at\"])\n",
    "df['sku'] = pd.Series(df['sku'], dtype=\"string\")\n",
    "df['increment_id'] = pd.Series(df['increment_id'], dtype=\"string\")\n",
    "df['Category'] = pd.Series(df['Category'], dtype=\"string\")\n",
    "df['payment_method'] = pd.Series(df['payment_method'], dtype=\"string\")\n",
    "df['BI Status'] = pd.Series(df['BI Status'], dtype=\"string\")\n",
    "df['Year'] = pd.Series(df['Year'], dtype=\"int\")\n",
    "df['Month'] = pd.Series(df['Month'], dtype=\"int\")\n",
    "df['Customer Since'] = df['Customer Since'].astype('string')\n",
    "df['Customer Since'] = pd.to_datetime(df[\"Customer Since\"]).dt.to_period('M')\n",
    "df[\"M-Y\"]= pd.to_datetime(df[\"M-Y\"]).dt.to_period('M')\n",
    "df['FY'] = pd.Series(df['FY'], dtype=\"string\")\n",
    "df['Customer ID'] = pd.Series(df['Customer ID'], dtype=\"string\")\n",
    "df.info()"
   ]
  },
  {
   "cell_type": "markdown",
   "metadata": {},
   "source": [
    "Ditemukan error pada data 'total_price' karena memiliki nilai string ' 1,950 ' yang tidak bisa di convert karena memiliki spasi di datanya. Maka dari itu, kita akan mengubah isi data menjadi tanpa spasi dan sesuai dengan hasil yang seharusnya. 'total_price' merupakan hasil kali dari kolom 'price' dikali dengan 'qty_ordered'.\n",
    "Cara yang digunakan adalah dengan membuat kolom baru dan menghapus kolom lama. Cara ini sama dengan solusi yang bisa digunakan untuk menyelesaikan task nomor 4."
   ]
  },
  {
   "cell_type": "code",
   "execution_count": 189,
   "metadata": {},
   "outputs": [
    {
     "data": {
      "text/html": [
       "<div>\n",
       "<style scoped>\n",
       "    .dataframe tbody tr th:only-of-type {\n",
       "        vertical-align: middle;\n",
       "    }\n",
       "\n",
       "    .dataframe tbody tr th {\n",
       "        vertical-align: top;\n",
       "    }\n",
       "\n",
       "    .dataframe thead th {\n",
       "        text-align: right;\n",
       "    }\n",
       "</style>\n",
       "<table border=\"1\" class=\"dataframe\">\n",
       "  <thead>\n",
       "    <tr style=\"text-align: right;\">\n",
       "      <th></th>\n",
       "      <th>item_id</th>\n",
       "      <th>status</th>\n",
       "      <th>created_at</th>\n",
       "      <th>sku</th>\n",
       "      <th>price</th>\n",
       "      <th>qty_ordered</th>\n",
       "      <th>grand_total</th>\n",
       "      <th>increment_id</th>\n",
       "      <th>Category</th>\n",
       "      <th>discount_amount</th>\n",
       "      <th>payment_method</th>\n",
       "      <th>BI Status</th>\n",
       "      <th>total_price</th>\n",
       "      <th>Year</th>\n",
       "      <th>Month</th>\n",
       "      <th>Customer Since</th>\n",
       "      <th>M-Y</th>\n",
       "      <th>FY</th>\n",
       "      <th>Customer ID</th>\n",
       "    </tr>\n",
       "  </thead>\n",
       "  <tbody>\n",
       "    <tr>\n",
       "      <th>0</th>\n",
       "      <td>211131.0</td>\n",
       "      <td>Completed</td>\n",
       "      <td>2016-07-01</td>\n",
       "      <td>kreations_YI 06-L</td>\n",
       "      <td>1950.0</td>\n",
       "      <td>1.0</td>\n",
       "      <td>1950.0</td>\n",
       "      <td>100147443</td>\n",
       "      <td>Women's Fashion</td>\n",
       "      <td>0.0</td>\n",
       "      <td>cod</td>\n",
       "      <td>Net</td>\n",
       "      <td>1,950</td>\n",
       "      <td>2016</td>\n",
       "      <td>7</td>\n",
       "      <td>2016-07</td>\n",
       "      <td>2016-07</td>\n",
       "      <td>FY17</td>\n",
       "      <td>1.0</td>\n",
       "    </tr>\n",
       "    <tr>\n",
       "      <th>116</th>\n",
       "      <td>211260.0</td>\n",
       "      <td>Canceled</td>\n",
       "      <td>2016-07-01</td>\n",
       "      <td>sst_Lyquin-Regular fit-Large</td>\n",
       "      <td>1950.0</td>\n",
       "      <td>1.0</td>\n",
       "      <td>2745.0</td>\n",
       "      <td>100147532</td>\n",
       "      <td>Men's Fashion</td>\n",
       "      <td>0.0</td>\n",
       "      <td>Others</td>\n",
       "      <td>Gross</td>\n",
       "      <td>1,950</td>\n",
       "      <td>2016</td>\n",
       "      <td>7</td>\n",
       "      <td>2016-07</td>\n",
       "      <td>2016-07</td>\n",
       "      <td>FY17</td>\n",
       "      <td>52.0</td>\n",
       "    </tr>\n",
       "    <tr>\n",
       "      <th>352</th>\n",
       "      <td>211514.0</td>\n",
       "      <td>Canceled</td>\n",
       "      <td>2016-07-01</td>\n",
       "      <td>sst_Logic  3-Regular fit-Medium</td>\n",
       "      <td>1950.0</td>\n",
       "      <td>1.0</td>\n",
       "      <td>1950.0</td>\n",
       "      <td>100147723</td>\n",
       "      <td>Men's Fashion</td>\n",
       "      <td>0.0</td>\n",
       "      <td>Others</td>\n",
       "      <td>Gross</td>\n",
       "      <td>1,950</td>\n",
       "      <td>2016</td>\n",
       "      <td>7</td>\n",
       "      <td>2016-07</td>\n",
       "      <td>2016-07</td>\n",
       "      <td>FY17</td>\n",
       "      <td>11.0</td>\n",
       "    </tr>\n",
       "    <tr>\n",
       "      <th>731</th>\n",
       "      <td>211939.0</td>\n",
       "      <td>Completed</td>\n",
       "      <td>2016-07-02</td>\n",
       "      <td>sst_Jessy-Regular fit-Large</td>\n",
       "      <td>1950.0</td>\n",
       "      <td>1.0</td>\n",
       "      <td>2425.0</td>\n",
       "      <td>100148029</td>\n",
       "      <td>Men's Fashion</td>\n",
       "      <td>0.0</td>\n",
       "      <td>cod</td>\n",
       "      <td>Net</td>\n",
       "      <td>1,950</td>\n",
       "      <td>2016</td>\n",
       "      <td>7</td>\n",
       "      <td>2016-07</td>\n",
       "      <td>2016-07</td>\n",
       "      <td>FY17</td>\n",
       "      <td>52.0</td>\n",
       "    </tr>\n",
       "    <tr>\n",
       "      <th>738</th>\n",
       "      <td>211949.0</td>\n",
       "      <td>Completed</td>\n",
       "      <td>2016-07-02</td>\n",
       "      <td>sst_Logic 2-Slim Fit-Large</td>\n",
       "      <td>1950.0</td>\n",
       "      <td>1.0</td>\n",
       "      <td>1950.0</td>\n",
       "      <td>100148035</td>\n",
       "      <td>Men's Fashion</td>\n",
       "      <td>0.0</td>\n",
       "      <td>cod</td>\n",
       "      <td>Net</td>\n",
       "      <td>1,950</td>\n",
       "      <td>2016</td>\n",
       "      <td>7</td>\n",
       "      <td>2016-07</td>\n",
       "      <td>2016-07</td>\n",
       "      <td>FY17</td>\n",
       "      <td>268.0</td>\n",
       "    </tr>\n",
       "    <tr>\n",
       "      <th>...</th>\n",
       "      <td>...</td>\n",
       "      <td>...</td>\n",
       "      <td>...</td>\n",
       "      <td>...</td>\n",
       "      <td>...</td>\n",
       "      <td>...</td>\n",
       "      <td>...</td>\n",
       "      <td>...</td>\n",
       "      <td>...</td>\n",
       "      <td>...</td>\n",
       "      <td>...</td>\n",
       "      <td>...</td>\n",
       "      <td>...</td>\n",
       "      <td>...</td>\n",
       "      <td>...</td>\n",
       "      <td>...</td>\n",
       "      <td>...</td>\n",
       "      <td>...</td>\n",
       "      <td>...</td>\n",
       "    </tr>\n",
       "    <tr>\n",
       "      <th>571099</th>\n",
       "      <td>890037.0</td>\n",
       "      <td>Canceled</td>\n",
       "      <td>2018-07-27</td>\n",
       "      <td>WOFLAL59F9950569A42</td>\n",
       "      <td>1950.0</td>\n",
       "      <td>1.0</td>\n",
       "      <td>3839.0</td>\n",
       "      <td>100553532</td>\n",
       "      <td>Women's Fashion</td>\n",
       "      <td>0.0</td>\n",
       "      <td>bankalfalah</td>\n",
       "      <td>Gross</td>\n",
       "      <td>1,950</td>\n",
       "      <td>2018</td>\n",
       "      <td>7</td>\n",
       "      <td>2017-05</td>\n",
       "      <td>2018-07</td>\n",
       "      <td>FY19</td>\n",
       "      <td>43257.0</td>\n",
       "    </tr>\n",
       "    <tr>\n",
       "      <th>573119</th>\n",
       "      <td>892320.0</td>\n",
       "      <td>Canceled</td>\n",
       "      <td>2018-08-02</td>\n",
       "      <td>WOFLAL59E8980F5FB96</td>\n",
       "      <td>1950.0</td>\n",
       "      <td>1.0</td>\n",
       "      <td>2200.0</td>\n",
       "      <td>100554816</td>\n",
       "      <td>Women's Fashion</td>\n",
       "      <td>0.0</td>\n",
       "      <td>bankalfalah</td>\n",
       "      <td>Gross</td>\n",
       "      <td>1,950</td>\n",
       "      <td>2018</td>\n",
       "      <td>8</td>\n",
       "      <td>2017-11</td>\n",
       "      <td>2018-08</td>\n",
       "      <td>FY19</td>\n",
       "      <td>72872.0</td>\n",
       "    </tr>\n",
       "    <tr>\n",
       "      <th>576208</th>\n",
       "      <td>895866.0</td>\n",
       "      <td>Completed</td>\n",
       "      <td>2018-08-11</td>\n",
       "      <td>MEFKAR5A7C13F2C70CA-M</td>\n",
       "      <td>1950.0</td>\n",
       "      <td>1.0</td>\n",
       "      <td>5740.0</td>\n",
       "      <td>100556809</td>\n",
       "      <td>Men's Fashion</td>\n",
       "      <td>0.0</td>\n",
       "      <td>cod</td>\n",
       "      <td>Valid</td>\n",
       "      <td>1,950</td>\n",
       "      <td>2018</td>\n",
       "      <td>8</td>\n",
       "      <td>2018-03</td>\n",
       "      <td>2018-08</td>\n",
       "      <td>FY19</td>\n",
       "      <td>97018.0</td>\n",
       "    </tr>\n",
       "    <tr>\n",
       "      <th>577410</th>\n",
       "      <td>897266.0</td>\n",
       "      <td>Completed</td>\n",
       "      <td>2018-08-13</td>\n",
       "      <td>WOFDOR5A7DB201C3FF1-S</td>\n",
       "      <td>1950.0</td>\n",
       "      <td>1.0</td>\n",
       "      <td>5598.0</td>\n",
       "      <td>100557566</td>\n",
       "      <td>Women's Fashion</td>\n",
       "      <td>0.0</td>\n",
       "      <td>cod</td>\n",
       "      <td>Valid</td>\n",
       "      <td>1,950</td>\n",
       "      <td>2018</td>\n",
       "      <td>8</td>\n",
       "      <td>2018-08</td>\n",
       "      <td>2018-08</td>\n",
       "      <td>FY19</td>\n",
       "      <td>114450.0</td>\n",
       "    </tr>\n",
       "    <tr>\n",
       "      <th>584157</th>\n",
       "      <td>904777.0</td>\n",
       "      <td>Completed</td>\n",
       "      <td>2018-08-27</td>\n",
       "      <td>WOFLAL59F9950569A42</td>\n",
       "      <td>1950.0</td>\n",
       "      <td>1.0</td>\n",
       "      <td>2200.0</td>\n",
       "      <td>100562150</td>\n",
       "      <td>Women's Fashion</td>\n",
       "      <td>0.0</td>\n",
       "      <td>bankalfalah</td>\n",
       "      <td>Valid</td>\n",
       "      <td>1,950</td>\n",
       "      <td>2018</td>\n",
       "      <td>8</td>\n",
       "      <td>2018-08</td>\n",
       "      <td>2018-08</td>\n",
       "      <td>FY19</td>\n",
       "      <td>115257.0</td>\n",
       "    </tr>\n",
       "  </tbody>\n",
       "</table>\n",
       "<p>938 rows × 19 columns</p>\n",
       "</div>"
      ],
      "text/plain": [
       "         item_id     status created_at                              sku  \\\n",
       "0       211131.0  Completed 2016-07-01                kreations_YI 06-L   \n",
       "116     211260.0   Canceled 2016-07-01     sst_Lyquin-Regular fit-Large   \n",
       "352     211514.0   Canceled 2016-07-01  sst_Logic  3-Regular fit-Medium   \n",
       "731     211939.0  Completed 2016-07-02      sst_Jessy-Regular fit-Large   \n",
       "738     211949.0  Completed 2016-07-02       sst_Logic 2-Slim Fit-Large   \n",
       "...          ...        ...        ...                              ...   \n",
       "571099  890037.0   Canceled 2018-07-27              WOFLAL59F9950569A42   \n",
       "573119  892320.0   Canceled 2018-08-02              WOFLAL59E8980F5FB96   \n",
       "576208  895866.0  Completed 2018-08-11            MEFKAR5A7C13F2C70CA-M   \n",
       "577410  897266.0  Completed 2018-08-13            WOFDOR5A7DB201C3FF1-S   \n",
       "584157  904777.0  Completed 2018-08-27              WOFLAL59F9950569A42   \n",
       "\n",
       "         price  qty_ordered  grand_total increment_id         Category  \\\n",
       "0       1950.0          1.0       1950.0    100147443  Women's Fashion   \n",
       "116     1950.0          1.0       2745.0    100147532    Men's Fashion   \n",
       "352     1950.0          1.0       1950.0    100147723    Men's Fashion   \n",
       "731     1950.0          1.0       2425.0    100148029    Men's Fashion   \n",
       "738     1950.0          1.0       1950.0    100148035    Men's Fashion   \n",
       "...        ...          ...          ...          ...              ...   \n",
       "571099  1950.0          1.0       3839.0    100553532  Women's Fashion   \n",
       "573119  1950.0          1.0       2200.0    100554816  Women's Fashion   \n",
       "576208  1950.0          1.0       5740.0    100556809    Men's Fashion   \n",
       "577410  1950.0          1.0       5598.0    100557566  Women's Fashion   \n",
       "584157  1950.0          1.0       2200.0    100562150  Women's Fashion   \n",
       "\n",
       "        discount_amount payment_method BI Status total_price  Year  Month  \\\n",
       "0                   0.0            cod       Net      1,950   2016      7   \n",
       "116                 0.0         Others     Gross      1,950   2016      7   \n",
       "352                 0.0         Others     Gross      1,950   2016      7   \n",
       "731                 0.0            cod       Net      1,950   2016      7   \n",
       "738                 0.0            cod       Net      1,950   2016      7   \n",
       "...                 ...            ...       ...         ...   ...    ...   \n",
       "571099              0.0    bankalfalah     Gross      1,950   2018      7   \n",
       "573119              0.0    bankalfalah     Gross      1,950   2018      8   \n",
       "576208              0.0            cod     Valid      1,950   2018      8   \n",
       "577410              0.0            cod     Valid      1,950   2018      8   \n",
       "584157              0.0    bankalfalah     Valid      1,950   2018      8   \n",
       "\n",
       "       Customer Since      M-Y    FY Customer ID  \n",
       "0             2016-07  2016-07  FY17         1.0  \n",
       "116           2016-07  2016-07  FY17        52.0  \n",
       "352           2016-07  2016-07  FY17        11.0  \n",
       "731           2016-07  2016-07  FY17        52.0  \n",
       "738           2016-07  2016-07  FY17       268.0  \n",
       "...               ...      ...   ...         ...  \n",
       "571099        2017-05  2018-07  FY19     43257.0  \n",
       "573119        2017-11  2018-08  FY19     72872.0  \n",
       "576208        2018-03  2018-08  FY19     97018.0  \n",
       "577410        2018-08  2018-08  FY19    114450.0  \n",
       "584157        2018-08  2018-08  FY19    115257.0  \n",
       "\n",
       "[938 rows x 19 columns]"
      ]
     },
     "execution_count": 189,
     "metadata": {},
     "output_type": "execute_result"
    }
   ],
   "source": [
    "df[df['total_price']==\" 1,950 \"]"
   ]
  },
  {
   "cell_type": "code",
   "execution_count": 190,
   "metadata": {},
   "outputs": [],
   "source": [
    "df['Total_Price'] = df['price']*df['qty_ordered'] # Menambahkan kolom baru\n",
    "df.drop('total_price', axis=1, inplace=True) # Menghapus kolom lama"
   ]
  },
  {
   "cell_type": "code",
   "execution_count": 191,
   "metadata": {},
   "outputs": [
    {
     "name": "stdout",
     "output_type": "stream",
     "text": [
      "<class 'pandas.core.frame.DataFrame'>\n",
      "Int64Index: 584524 entries, 0 to 584523\n",
      "Data columns (total 19 columns):\n",
      " #   Column           Non-Null Count   Dtype         \n",
      "---  ------           --------------   -----         \n",
      " 0   item_id          584524 non-null  string        \n",
      " 1   status           584524 non-null  string        \n",
      " 2   created_at       584524 non-null  datetime64[ns]\n",
      " 3   sku              584524 non-null  string        \n",
      " 4   price            584524 non-null  float64       \n",
      " 5   qty_ordered      584524 non-null  float64       \n",
      " 6   grand_total      584524 non-null  float64       \n",
      " 7   increment_id     584524 non-null  string        \n",
      " 8   Category         584524 non-null  string        \n",
      " 9   discount_amount  584524 non-null  float64       \n",
      " 10  payment_method   584524 non-null  string        \n",
      " 11  BI Status        584524 non-null  string        \n",
      " 12  Year             584524 non-null  int32         \n",
      " 13  Month            584524 non-null  int32         \n",
      " 14  Customer Since   584524 non-null  period[M]     \n",
      " 15  M-Y              584524 non-null  period[M]     \n",
      " 16  FY               584524 non-null  string        \n",
      " 17  Customer ID      584524 non-null  string        \n",
      " 18  Total_Price      584524 non-null  float64       \n",
      "dtypes: datetime64[ns](1), float64(5), int32(2), period[M](2), string(9)\n",
      "memory usage: 100.9 MB\n"
     ]
    }
   ],
   "source": [
    "df.info()\n",
    "\n",
    "# Semua kolom sudah memiliki tipe data yang jelas dan sesuai dengan isi datanya (tidak ada tipe data object)"
   ]
  },
  {
   "cell_type": "markdown",
   "metadata": {},
   "source": [
    "#### 4. Mengubah nilai kolom 'grand_total' karena memiliki nilai yang kurang sesuai dengan data seharusnya."
   ]
  },
  {
   "cell_type": "code",
   "execution_count": 192,
   "metadata": {},
   "outputs": [],
   "source": [
    "df['Grand_Total'] = df['Total_Price']-df['discount_amount'] # Menambahkan kolom baru\n",
    "df.drop('grand_total', axis=1, inplace=True) # Menghapus kolom lama"
   ]
  },
  {
   "cell_type": "markdown",
   "metadata": {},
   "source": [
    "#### 5. Mengubah urutan kolom"
   ]
  },
  {
   "cell_type": "code",
   "execution_count": 193,
   "metadata": {},
   "outputs": [],
   "source": [
    "df = df.reindex(columns=['Customer ID', 'sku', 'item_id', 'Category', 'price', 'qty_ordered', 'Total_Price', 'discount_amount', 'Grand_Total', 'payment_method', 'status', 'BI Status', 'increment_id', 'created_at', 'Month', 'Year', 'M-Y', 'FY', 'Customer Since' ])"
   ]
  },
  {
   "cell_type": "code",
   "execution_count": 194,
   "metadata": {},
   "outputs": [
    {
     "data": {
      "text/html": [
       "<div>\n",
       "<style scoped>\n",
       "    .dataframe tbody tr th:only-of-type {\n",
       "        vertical-align: middle;\n",
       "    }\n",
       "\n",
       "    .dataframe tbody tr th {\n",
       "        vertical-align: top;\n",
       "    }\n",
       "\n",
       "    .dataframe thead th {\n",
       "        text-align: right;\n",
       "    }\n",
       "</style>\n",
       "<table border=\"1\" class=\"dataframe\">\n",
       "  <thead>\n",
       "    <tr style=\"text-align: right;\">\n",
       "      <th></th>\n",
       "      <th>Customer ID</th>\n",
       "      <th>sku</th>\n",
       "      <th>item_id</th>\n",
       "      <th>Category</th>\n",
       "      <th>price</th>\n",
       "      <th>qty_ordered</th>\n",
       "      <th>Total_Price</th>\n",
       "      <th>discount_amount</th>\n",
       "      <th>Grand_Total</th>\n",
       "      <th>payment_method</th>\n",
       "      <th>status</th>\n",
       "      <th>BI Status</th>\n",
       "      <th>increment_id</th>\n",
       "      <th>created_at</th>\n",
       "      <th>Month</th>\n",
       "      <th>Year</th>\n",
       "      <th>M-Y</th>\n",
       "      <th>FY</th>\n",
       "      <th>Customer Since</th>\n",
       "    </tr>\n",
       "  </thead>\n",
       "  <tbody>\n",
       "    <tr>\n",
       "      <th>0</th>\n",
       "      <td>1.0</td>\n",
       "      <td>kreations_YI 06-L</td>\n",
       "      <td>211131.0</td>\n",
       "      <td>Women's Fashion</td>\n",
       "      <td>1950.0</td>\n",
       "      <td>1.0</td>\n",
       "      <td>1950.0</td>\n",
       "      <td>0.0</td>\n",
       "      <td>1950.0</td>\n",
       "      <td>cod</td>\n",
       "      <td>Completed</td>\n",
       "      <td>Net</td>\n",
       "      <td>100147443</td>\n",
       "      <td>2016-07-01</td>\n",
       "      <td>7</td>\n",
       "      <td>2016</td>\n",
       "      <td>2016-07</td>\n",
       "      <td>FY17</td>\n",
       "      <td>2016-07</td>\n",
       "    </tr>\n",
       "    <tr>\n",
       "      <th>1</th>\n",
       "      <td>2.0</td>\n",
       "      <td>kcc_Buy 2 Frey Air Freshener &amp; Get 1 Kasual Bo...</td>\n",
       "      <td>211133.0</td>\n",
       "      <td>Beauty &amp; Grooming</td>\n",
       "      <td>240.0</td>\n",
       "      <td>1.0</td>\n",
       "      <td>240.0</td>\n",
       "      <td>0.0</td>\n",
       "      <td>240.0</td>\n",
       "      <td>cod</td>\n",
       "      <td>Canceled</td>\n",
       "      <td>Gross</td>\n",
       "      <td>100147444</td>\n",
       "      <td>2016-07-01</td>\n",
       "      <td>7</td>\n",
       "      <td>2016</td>\n",
       "      <td>2016-07</td>\n",
       "      <td>FY17</td>\n",
       "      <td>2016-07</td>\n",
       "    </tr>\n",
       "    <tr>\n",
       "      <th>2</th>\n",
       "      <td>3.0</td>\n",
       "      <td>Ego_UP0017-999-MR0</td>\n",
       "      <td>211134.0</td>\n",
       "      <td>Women's Fashion</td>\n",
       "      <td>2450.0</td>\n",
       "      <td>1.0</td>\n",
       "      <td>2450.0</td>\n",
       "      <td>0.0</td>\n",
       "      <td>2450.0</td>\n",
       "      <td>cod</td>\n",
       "      <td>Canceled</td>\n",
       "      <td>Gross</td>\n",
       "      <td>100147445</td>\n",
       "      <td>2016-07-01</td>\n",
       "      <td>7</td>\n",
       "      <td>2016</td>\n",
       "      <td>2016-07</td>\n",
       "      <td>FY17</td>\n",
       "      <td>2016-07</td>\n",
       "    </tr>\n",
       "    <tr>\n",
       "      <th>3</th>\n",
       "      <td>4.0</td>\n",
       "      <td>kcc_krone deal</td>\n",
       "      <td>211135.0</td>\n",
       "      <td>Beauty &amp; Grooming</td>\n",
       "      <td>360.0</td>\n",
       "      <td>1.0</td>\n",
       "      <td>360.0</td>\n",
       "      <td>300.0</td>\n",
       "      <td>60.0</td>\n",
       "      <td>cod</td>\n",
       "      <td>Completed</td>\n",
       "      <td>Net</td>\n",
       "      <td>100147446</td>\n",
       "      <td>2016-07-01</td>\n",
       "      <td>7</td>\n",
       "      <td>2016</td>\n",
       "      <td>2016-07</td>\n",
       "      <td>FY17</td>\n",
       "      <td>2016-07</td>\n",
       "    </tr>\n",
       "    <tr>\n",
       "      <th>4</th>\n",
       "      <td>5.0</td>\n",
       "      <td>BK7010400AG</td>\n",
       "      <td>211136.0</td>\n",
       "      <td>Soghaat</td>\n",
       "      <td>555.0</td>\n",
       "      <td>2.0</td>\n",
       "      <td>1110.0</td>\n",
       "      <td>0.0</td>\n",
       "      <td>1110.0</td>\n",
       "      <td>cod</td>\n",
       "      <td>Refund</td>\n",
       "      <td>Valid</td>\n",
       "      <td>100147447</td>\n",
       "      <td>2016-07-01</td>\n",
       "      <td>7</td>\n",
       "      <td>2016</td>\n",
       "      <td>2016-07</td>\n",
       "      <td>FY17</td>\n",
       "      <td>2016-07</td>\n",
       "    </tr>\n",
       "  </tbody>\n",
       "</table>\n",
       "</div>"
      ],
      "text/plain": [
       "  Customer ID                                                sku   item_id  \\\n",
       "0         1.0                                  kreations_YI 06-L  211131.0   \n",
       "1         2.0  kcc_Buy 2 Frey Air Freshener & Get 1 Kasual Bo...  211133.0   \n",
       "2         3.0                                 Ego_UP0017-999-MR0  211134.0   \n",
       "3         4.0                                     kcc_krone deal  211135.0   \n",
       "4         5.0                                        BK7010400AG  211136.0   \n",
       "\n",
       "            Category   price  qty_ordered  Total_Price  discount_amount  \\\n",
       "0    Women's Fashion  1950.0          1.0       1950.0              0.0   \n",
       "1  Beauty & Grooming   240.0          1.0        240.0              0.0   \n",
       "2    Women's Fashion  2450.0          1.0       2450.0              0.0   \n",
       "3  Beauty & Grooming   360.0          1.0        360.0            300.0   \n",
       "4            Soghaat   555.0          2.0       1110.0              0.0   \n",
       "\n",
       "   Grand_Total payment_method     status BI Status increment_id created_at  \\\n",
       "0       1950.0            cod  Completed       Net    100147443 2016-07-01   \n",
       "1        240.0            cod   Canceled     Gross    100147444 2016-07-01   \n",
       "2       2450.0            cod   Canceled     Gross    100147445 2016-07-01   \n",
       "3         60.0            cod  Completed       Net    100147446 2016-07-01   \n",
       "4       1110.0            cod     Refund     Valid    100147447 2016-07-01   \n",
       "\n",
       "   Month  Year      M-Y    FY Customer Since  \n",
       "0      7  2016  2016-07  FY17        2016-07  \n",
       "1      7  2016  2016-07  FY17        2016-07  \n",
       "2      7  2016  2016-07  FY17        2016-07  \n",
       "3      7  2016  2016-07  FY17        2016-07  \n",
       "4      7  2016  2016-07  FY17        2016-07  "
      ]
     },
     "execution_count": 194,
     "metadata": {},
     "output_type": "execute_result"
    }
   ],
   "source": [
    "df.head()"
   ]
  },
  {
   "cell_type": "markdown",
   "metadata": {},
   "source": [
    "#### 6. Mengubah nilai minus pada kolom 'discount_amount'"
   ]
  },
  {
   "cell_type": "code",
   "execution_count": 195,
   "metadata": {},
   "outputs": [
    {
     "data": {
      "text/html": [
       "<div>\n",
       "<style scoped>\n",
       "    .dataframe tbody tr th:only-of-type {\n",
       "        vertical-align: middle;\n",
       "    }\n",
       "\n",
       "    .dataframe tbody tr th {\n",
       "        vertical-align: top;\n",
       "    }\n",
       "\n",
       "    .dataframe thead th {\n",
       "        text-align: right;\n",
       "    }\n",
       "</style>\n",
       "<table border=\"1\" class=\"dataframe\">\n",
       "  <thead>\n",
       "    <tr style=\"text-align: right;\">\n",
       "      <th></th>\n",
       "      <th>Customer ID</th>\n",
       "      <th>sku</th>\n",
       "      <th>item_id</th>\n",
       "      <th>Category</th>\n",
       "      <th>price</th>\n",
       "      <th>qty_ordered</th>\n",
       "      <th>Total_Price</th>\n",
       "      <th>discount_amount</th>\n",
       "      <th>Grand_Total</th>\n",
       "      <th>payment_method</th>\n",
       "      <th>status</th>\n",
       "      <th>BI Status</th>\n",
       "      <th>increment_id</th>\n",
       "      <th>created_at</th>\n",
       "      <th>Month</th>\n",
       "      <th>Year</th>\n",
       "      <th>M-Y</th>\n",
       "      <th>FY</th>\n",
       "      <th>Customer Since</th>\n",
       "    </tr>\n",
       "  </thead>\n",
       "  <tbody>\n",
       "    <tr>\n",
       "      <th>152474</th>\n",
       "      <td>73.0</td>\n",
       "      <td>akl-GFSU1265-M</td>\n",
       "      <td>403716.0</td>\n",
       "      <td>Women's Fashion</td>\n",
       "      <td>5995.0</td>\n",
       "      <td>1.0</td>\n",
       "      <td>5995.0</td>\n",
       "      <td>-599.5</td>\n",
       "      <td>6594.5</td>\n",
       "      <td>Payaxis</td>\n",
       "      <td>Canceled</td>\n",
       "      <td>Gross</td>\n",
       "      <td>100269243</td>\n",
       "      <td>2017-02-13</td>\n",
       "      <td>2</td>\n",
       "      <td>2017</td>\n",
       "      <td>2017-02</td>\n",
       "      <td>FY17</td>\n",
       "      <td>2016-07</td>\n",
       "    </tr>\n",
       "    <tr>\n",
       "      <th>152478</th>\n",
       "      <td>1423.0</td>\n",
       "      <td>test-product</td>\n",
       "      <td>403730.0</td>\n",
       "      <td>Others</td>\n",
       "      <td>4.0</td>\n",
       "      <td>2.0</td>\n",
       "      <td>8.0</td>\n",
       "      <td>-2.0</td>\n",
       "      <td>10.0</td>\n",
       "      <td>Payaxis</td>\n",
       "      <td>Refund</td>\n",
       "      <td>Valid</td>\n",
       "      <td>100269252</td>\n",
       "      <td>2017-02-13</td>\n",
       "      <td>2</td>\n",
       "      <td>2017</td>\n",
       "      <td>2017-02</td>\n",
       "      <td>FY17</td>\n",
       "      <td>2016-07</td>\n",
       "    </tr>\n",
       "    <tr>\n",
       "      <th>152479</th>\n",
       "      <td>73.0</td>\n",
       "      <td>RB_HouseholdBundle</td>\n",
       "      <td>403731.0</td>\n",
       "      <td>Superstore</td>\n",
       "      <td>1000.0</td>\n",
       "      <td>5.0</td>\n",
       "      <td>5000.0</td>\n",
       "      <td>-2.0</td>\n",
       "      <td>5002.0</td>\n",
       "      <td>Payaxis</td>\n",
       "      <td>Canceled</td>\n",
       "      <td>Gross</td>\n",
       "      <td>100269253</td>\n",
       "      <td>2017-02-13</td>\n",
       "      <td>2</td>\n",
       "      <td>2017</td>\n",
       "      <td>2017-02</td>\n",
       "      <td>FY17</td>\n",
       "      <td>2016-07</td>\n",
       "    </tr>\n",
       "  </tbody>\n",
       "</table>\n",
       "</div>"
      ],
      "text/plain": [
       "       Customer ID                 sku   item_id         Category   price  \\\n",
       "152474        73.0      akl-GFSU1265-M  403716.0  Women's Fashion  5995.0   \n",
       "152478      1423.0        test-product  403730.0           Others     4.0   \n",
       "152479        73.0  RB_HouseholdBundle  403731.0       Superstore  1000.0   \n",
       "\n",
       "        qty_ordered  Total_Price  discount_amount  Grand_Total payment_method  \\\n",
       "152474          1.0       5995.0           -599.5       6594.5        Payaxis   \n",
       "152478          2.0          8.0             -2.0         10.0        Payaxis   \n",
       "152479          5.0       5000.0             -2.0       5002.0        Payaxis   \n",
       "\n",
       "          status BI Status increment_id created_at  Month  Year      M-Y  \\\n",
       "152474  Canceled     Gross    100269243 2017-02-13      2  2017  2017-02   \n",
       "152478    Refund     Valid    100269252 2017-02-13      2  2017  2017-02   \n",
       "152479  Canceled     Gross    100269253 2017-02-13      2  2017  2017-02   \n",
       "\n",
       "          FY Customer Since  \n",
       "152474  FY17        2016-07  \n",
       "152478  FY17        2016-07  \n",
       "152479  FY17        2016-07  "
      ]
     },
     "execution_count": 195,
     "metadata": {},
     "output_type": "execute_result"
    }
   ],
   "source": [
    "df[df['discount_amount'] < 0].sort_values(['discount_amount'],ascending=True)"
   ]
  },
  {
   "cell_type": "markdown",
   "metadata": {},
   "source": [
    "Ada 3 data yang memiliki nilai minus pada kolom 'discount_amount' yang mana sangat janggal dapat terjadi pada proses jual beli. Sebagai penyelesaian dalam masalah ini, row tersebut akan dihapus."
   ]
  },
  {
   "cell_type": "code",
   "execution_count": 196,
   "metadata": {},
   "outputs": [],
   "source": [
    "basket=[]\n",
    "for discount in df['discount_amount']:\n",
    "    if discount<0.0:\n",
    "        basket.append(0)\n",
    "    else:\n",
    "        basket.append(discount)\n",
    "\n",
    "df['discount_amount'] = basket"
   ]
  },
  {
   "cell_type": "code",
   "execution_count": 197,
   "metadata": {},
   "outputs": [
    {
     "data": {
      "text/html": [
       "<div>\n",
       "<style scoped>\n",
       "    .dataframe tbody tr th:only-of-type {\n",
       "        vertical-align: middle;\n",
       "    }\n",
       "\n",
       "    .dataframe tbody tr th {\n",
       "        vertical-align: top;\n",
       "    }\n",
       "\n",
       "    .dataframe thead th {\n",
       "        text-align: right;\n",
       "    }\n",
       "</style>\n",
       "<table border=\"1\" class=\"dataframe\">\n",
       "  <thead>\n",
       "    <tr style=\"text-align: right;\">\n",
       "      <th></th>\n",
       "      <th>price</th>\n",
       "      <th>qty_ordered</th>\n",
       "      <th>Total_Price</th>\n",
       "      <th>discount_amount</th>\n",
       "      <th>Grand_Total</th>\n",
       "      <th>Month</th>\n",
       "      <th>Year</th>\n",
       "    </tr>\n",
       "  </thead>\n",
       "  <tbody>\n",
       "    <tr>\n",
       "      <th>count</th>\n",
       "      <td>5.845240e+05</td>\n",
       "      <td>584524.000000</td>\n",
       "      <td>5.845240e+05</td>\n",
       "      <td>584524.000000</td>\n",
       "      <td>5.845240e+05</td>\n",
       "      <td>584524.000000</td>\n",
       "      <td>584524.000000</td>\n",
       "    </tr>\n",
       "    <tr>\n",
       "      <th>mean</th>\n",
       "      <td>6.348748e+03</td>\n",
       "      <td>1.296388</td>\n",
       "      <td>7.177307e+03</td>\n",
       "      <td>499.493808</td>\n",
       "      <td>6.677814e+03</td>\n",
       "      <td>7.167654</td>\n",
       "      <td>2017.044115</td>\n",
       "    </tr>\n",
       "    <tr>\n",
       "      <th>std</th>\n",
       "      <td>1.494927e+04</td>\n",
       "      <td>3.996061</td>\n",
       "      <td>3.394733e+04</td>\n",
       "      <td>1506.942500</td>\n",
       "      <td>3.365132e+04</td>\n",
       "      <td>3.486305</td>\n",
       "      <td>0.707355</td>\n",
       "    </tr>\n",
       "    <tr>\n",
       "      <th>min</th>\n",
       "      <td>0.000000e+00</td>\n",
       "      <td>1.000000</td>\n",
       "      <td>0.000000e+00</td>\n",
       "      <td>0.000000</td>\n",
       "      <td>-1.541000e+04</td>\n",
       "      <td>1.000000</td>\n",
       "      <td>2016.000000</td>\n",
       "    </tr>\n",
       "    <tr>\n",
       "      <th>25%</th>\n",
       "      <td>3.600000e+02</td>\n",
       "      <td>1.000000</td>\n",
       "      <td>3.990000e+02</td>\n",
       "      <td>0.000000</td>\n",
       "      <td>3.500000e+02</td>\n",
       "      <td>4.000000</td>\n",
       "      <td>2017.000000</td>\n",
       "    </tr>\n",
       "    <tr>\n",
       "      <th>50%</th>\n",
       "      <td>8.990000e+02</td>\n",
       "      <td>1.000000</td>\n",
       "      <td>9.990000e+02</td>\n",
       "      <td>0.000000</td>\n",
       "      <td>9.375000e+02</td>\n",
       "      <td>7.000000</td>\n",
       "      <td>2017.000000</td>\n",
       "    </tr>\n",
       "    <tr>\n",
       "      <th>75%</th>\n",
       "      <td>4.070000e+03</td>\n",
       "      <td>1.000000</td>\n",
       "      <td>5.000000e+03</td>\n",
       "      <td>160.500000</td>\n",
       "      <td>4.500000e+03</td>\n",
       "      <td>11.000000</td>\n",
       "      <td>2018.000000</td>\n",
       "    </tr>\n",
       "    <tr>\n",
       "      <th>max</th>\n",
       "      <td>1.012626e+06</td>\n",
       "      <td>1000.000000</td>\n",
       "      <td>8.944000e+06</td>\n",
       "      <td>90300.000000</td>\n",
       "      <td>8.944000e+06</td>\n",
       "      <td>12.000000</td>\n",
       "      <td>2018.000000</td>\n",
       "    </tr>\n",
       "  </tbody>\n",
       "</table>\n",
       "</div>"
      ],
      "text/plain": [
       "              price    qty_ordered   Total_Price  discount_amount  \\\n",
       "count  5.845240e+05  584524.000000  5.845240e+05    584524.000000   \n",
       "mean   6.348748e+03       1.296388  7.177307e+03       499.493808   \n",
       "std    1.494927e+04       3.996061  3.394733e+04      1506.942500   \n",
       "min    0.000000e+00       1.000000  0.000000e+00         0.000000   \n",
       "25%    3.600000e+02       1.000000  3.990000e+02         0.000000   \n",
       "50%    8.990000e+02       1.000000  9.990000e+02         0.000000   \n",
       "75%    4.070000e+03       1.000000  5.000000e+03       160.500000   \n",
       "max    1.012626e+06    1000.000000  8.944000e+06     90300.000000   \n",
       "\n",
       "        Grand_Total          Month           Year  \n",
       "count  5.845240e+05  584524.000000  584524.000000  \n",
       "mean   6.677814e+03       7.167654    2017.044115  \n",
       "std    3.365132e+04       3.486305       0.707355  \n",
       "min   -1.541000e+04       1.000000    2016.000000  \n",
       "25%    3.500000e+02       4.000000    2017.000000  \n",
       "50%    9.375000e+02       7.000000    2017.000000  \n",
       "75%    4.500000e+03      11.000000    2018.000000  \n",
       "max    8.944000e+06      12.000000    2018.000000  "
      ]
     },
     "execution_count": 197,
     "metadata": {},
     "output_type": "execute_result"
    }
   ],
   "source": [
    "df.describe()"
   ]
  },
  {
   "cell_type": "markdown",
   "metadata": {},
   "source": [
    "#### 7. Mengubah nilai minus pada kolom 'Grand_Total'"
   ]
  },
  {
   "cell_type": "code",
   "execution_count": 198,
   "metadata": {},
   "outputs": [
    {
     "data": {
      "text/html": [
       "<div>\n",
       "<style scoped>\n",
       "    .dataframe tbody tr th:only-of-type {\n",
       "        vertical-align: middle;\n",
       "    }\n",
       "\n",
       "    .dataframe tbody tr th {\n",
       "        vertical-align: top;\n",
       "    }\n",
       "\n",
       "    .dataframe thead th {\n",
       "        text-align: right;\n",
       "    }\n",
       "</style>\n",
       "<table border=\"1\" class=\"dataframe\">\n",
       "  <thead>\n",
       "    <tr style=\"text-align: right;\">\n",
       "      <th></th>\n",
       "      <th>Customer ID</th>\n",
       "      <th>sku</th>\n",
       "      <th>item_id</th>\n",
       "      <th>Category</th>\n",
       "      <th>price</th>\n",
       "      <th>qty_ordered</th>\n",
       "      <th>Total_Price</th>\n",
       "      <th>discount_amount</th>\n",
       "      <th>Grand_Total</th>\n",
       "      <th>payment_method</th>\n",
       "      <th>status</th>\n",
       "      <th>BI Status</th>\n",
       "      <th>increment_id</th>\n",
       "      <th>created_at</th>\n",
       "      <th>Month</th>\n",
       "      <th>Year</th>\n",
       "      <th>M-Y</th>\n",
       "      <th>FY</th>\n",
       "      <th>Customer Since</th>\n",
       "    </tr>\n",
       "  </thead>\n",
       "  <tbody>\n",
       "    <tr>\n",
       "      <th>498963</th>\n",
       "      <td>96720.0</td>\n",
       "      <td>MEFKAR5A7C139F31F70-M</td>\n",
       "      <td>810508.0</td>\n",
       "      <td>Men's Fashion</td>\n",
       "      <td>520.0</td>\n",
       "      <td>2.0</td>\n",
       "      <td>1040.0</td>\n",
       "      <td>16450.00</td>\n",
       "      <td>-15410.00</td>\n",
       "      <td>cod</td>\n",
       "      <td>Completed</td>\n",
       "      <td>Net</td>\n",
       "      <td>100501934</td>\n",
       "      <td>2018-03-28</td>\n",
       "      <td>3</td>\n",
       "      <td>2018</td>\n",
       "      <td>2018-03</td>\n",
       "      <td>FY18</td>\n",
       "      <td>2018-03</td>\n",
       "    </tr>\n",
       "    <tr>\n",
       "      <th>498960</th>\n",
       "      <td>96720.0</td>\n",
       "      <td>HALKAR5A7C1436C6F7E</td>\n",
       "      <td>810504.0</td>\n",
       "      <td>Home &amp; Living</td>\n",
       "      <td>270.0</td>\n",
       "      <td>5.0</td>\n",
       "      <td>1350.0</td>\n",
       "      <td>16450.00</td>\n",
       "      <td>-15100.00</td>\n",
       "      <td>cod</td>\n",
       "      <td>Completed</td>\n",
       "      <td>Net</td>\n",
       "      <td>100501934</td>\n",
       "      <td>2018-03-28</td>\n",
       "      <td>3</td>\n",
       "      <td>2018</td>\n",
       "      <td>2018-03</td>\n",
       "      <td>FY18</td>\n",
       "      <td>2018-03</td>\n",
       "    </tr>\n",
       "    <tr>\n",
       "      <th>498962</th>\n",
       "      <td>96720.0</td>\n",
       "      <td>MEFKAR5A7C139F31F70-L</td>\n",
       "      <td>810506.0</td>\n",
       "      <td>Men's Fashion</td>\n",
       "      <td>520.0</td>\n",
       "      <td>3.0</td>\n",
       "      <td>1560.0</td>\n",
       "      <td>16450.00</td>\n",
       "      <td>-14890.00</td>\n",
       "      <td>cod</td>\n",
       "      <td>Completed</td>\n",
       "      <td>Net</td>\n",
       "      <td>100501934</td>\n",
       "      <td>2018-03-28</td>\n",
       "      <td>3</td>\n",
       "      <td>2018</td>\n",
       "      <td>2018-03</td>\n",
       "      <td>FY18</td>\n",
       "      <td>2018-03</td>\n",
       "    </tr>\n",
       "    <tr>\n",
       "      <th>498956</th>\n",
       "      <td>96720.0</td>\n",
       "      <td>MEFKAR5A7C13CDBC11D-M</td>\n",
       "      <td>810496.0</td>\n",
       "      <td>Men's Fashion</td>\n",
       "      <td>330.0</td>\n",
       "      <td>5.0</td>\n",
       "      <td>1650.0</td>\n",
       "      <td>16450.00</td>\n",
       "      <td>-14800.00</td>\n",
       "      <td>cod</td>\n",
       "      <td>Completed</td>\n",
       "      <td>Net</td>\n",
       "      <td>100501934</td>\n",
       "      <td>2018-03-28</td>\n",
       "      <td>3</td>\n",
       "      <td>2018</td>\n",
       "      <td>2018-03</td>\n",
       "      <td>FY18</td>\n",
       "      <td>2018-03</td>\n",
       "    </tr>\n",
       "    <tr>\n",
       "      <th>498957</th>\n",
       "      <td>96720.0</td>\n",
       "      <td>MEFKAR5A7C13CDBC11D-L</td>\n",
       "      <td>810498.0</td>\n",
       "      <td>Men's Fashion</td>\n",
       "      <td>330.0</td>\n",
       "      <td>5.0</td>\n",
       "      <td>1650.0</td>\n",
       "      <td>16450.00</td>\n",
       "      <td>-14800.00</td>\n",
       "      <td>cod</td>\n",
       "      <td>Completed</td>\n",
       "      <td>Net</td>\n",
       "      <td>100501934</td>\n",
       "      <td>2018-03-28</td>\n",
       "      <td>3</td>\n",
       "      <td>2018</td>\n",
       "      <td>2018-03</td>\n",
       "      <td>FY18</td>\n",
       "      <td>2018-03</td>\n",
       "    </tr>\n",
       "    <tr>\n",
       "      <th>...</th>\n",
       "      <td>...</td>\n",
       "      <td>...</td>\n",
       "      <td>...</td>\n",
       "      <td>...</td>\n",
       "      <td>...</td>\n",
       "      <td>...</td>\n",
       "      <td>...</td>\n",
       "      <td>...</td>\n",
       "      <td>...</td>\n",
       "      <td>...</td>\n",
       "      <td>...</td>\n",
       "      <td>...</td>\n",
       "      <td>...</td>\n",
       "      <td>...</td>\n",
       "      <td>...</td>\n",
       "      <td>...</td>\n",
       "      <td>...</td>\n",
       "      <td>...</td>\n",
       "      <td>...</td>\n",
       "    </tr>\n",
       "    <tr>\n",
       "      <th>551230</th>\n",
       "      <td>110476.0</td>\n",
       "      <td>KABC-T59BA93B82E80D-S</td>\n",
       "      <td>867959.0</td>\n",
       "      <td>Kids &amp; Baby</td>\n",
       "      <td>299.0</td>\n",
       "      <td>1.0</td>\n",
       "      <td>299.0</td>\n",
       "      <td>299.40</td>\n",
       "      <td>-0.40</td>\n",
       "      <td>bankalfalah</td>\n",
       "      <td>Completed</td>\n",
       "      <td>Valid</td>\n",
       "      <td>100540008</td>\n",
       "      <td>2018-06-07</td>\n",
       "      <td>6</td>\n",
       "      <td>2018</td>\n",
       "      <td>2018-06</td>\n",
       "      <td>FY18</td>\n",
       "      <td>2018-06</td>\n",
       "    </tr>\n",
       "    <tr>\n",
       "      <th>551227</th>\n",
       "      <td>110476.0</td>\n",
       "      <td>WOFDEA5AE0342BD0C4C</td>\n",
       "      <td>867954.0</td>\n",
       "      <td>Women's Fashion</td>\n",
       "      <td>299.0</td>\n",
       "      <td>1.0</td>\n",
       "      <td>299.0</td>\n",
       "      <td>299.40</td>\n",
       "      <td>-0.40</td>\n",
       "      <td>bankalfalah</td>\n",
       "      <td>Completed</td>\n",
       "      <td>Valid</td>\n",
       "      <td>100540008</td>\n",
       "      <td>2018-06-07</td>\n",
       "      <td>6</td>\n",
       "      <td>2018</td>\n",
       "      <td>2018-06</td>\n",
       "      <td>FY18</td>\n",
       "      <td>2018-06</td>\n",
       "    </tr>\n",
       "    <tr>\n",
       "      <th>529888</th>\n",
       "      <td>57938.0</td>\n",
       "      <td>ROO5AE983F167CA8</td>\n",
       "      <td>844778.0</td>\n",
       "      <td>Superstore</td>\n",
       "      <td>190.0</td>\n",
       "      <td>4.0</td>\n",
       "      <td>760.0</td>\n",
       "      <td>760.10</td>\n",
       "      <td>-0.10</td>\n",
       "      <td>Easypay</td>\n",
       "      <td>Completed</td>\n",
       "      <td>Valid</td>\n",
       "      <td>100525753</td>\n",
       "      <td>2018-05-11</td>\n",
       "      <td>5</td>\n",
       "      <td>2018</td>\n",
       "      <td>2018-05</td>\n",
       "      <td>FY18</td>\n",
       "      <td>2017-08</td>\n",
       "    </tr>\n",
       "    <tr>\n",
       "      <th>512186</th>\n",
       "      <td>20023.0</td>\n",
       "      <td>MATBIS5A06C28E47950</td>\n",
       "      <td>825280.0</td>\n",
       "      <td>Mobiles &amp; Tablets</td>\n",
       "      <td>125.0</td>\n",
       "      <td>2.0</td>\n",
       "      <td>250.0</td>\n",
       "      <td>250.01</td>\n",
       "      <td>-0.01</td>\n",
       "      <td>cod</td>\n",
       "      <td>Refund</td>\n",
       "      <td>Valid</td>\n",
       "      <td>100512923</td>\n",
       "      <td>2018-04-15</td>\n",
       "      <td>4</td>\n",
       "      <td>2018</td>\n",
       "      <td>2018-04</td>\n",
       "      <td>FY18</td>\n",
       "      <td>2016-11</td>\n",
       "    </tr>\n",
       "    <tr>\n",
       "      <th>512046</th>\n",
       "      <td>47677.0</td>\n",
       "      <td>MOV5AAB5F3761DA4</td>\n",
       "      <td>824962.0</td>\n",
       "      <td>Superstore</td>\n",
       "      <td>500.0</td>\n",
       "      <td>1.0</td>\n",
       "      <td>500.0</td>\n",
       "      <td>500.01</td>\n",
       "      <td>-0.01</td>\n",
       "      <td>bankalfalah</td>\n",
       "      <td>Completed</td>\n",
       "      <td>Net</td>\n",
       "      <td>100512694</td>\n",
       "      <td>2018-04-15</td>\n",
       "      <td>4</td>\n",
       "      <td>2018</td>\n",
       "      <td>2018-04</td>\n",
       "      <td>FY18</td>\n",
       "      <td>2017-05</td>\n",
       "    </tr>\n",
       "  </tbody>\n",
       "</table>\n",
       "<p>9713 rows × 19 columns</p>\n",
       "</div>"
      ],
      "text/plain": [
       "       Customer ID                    sku   item_id           Category  price  \\\n",
       "498963     96720.0  MEFKAR5A7C139F31F70-M  810508.0      Men's Fashion  520.0   \n",
       "498960     96720.0    HALKAR5A7C1436C6F7E  810504.0      Home & Living  270.0   \n",
       "498962     96720.0  MEFKAR5A7C139F31F70-L  810506.0      Men's Fashion  520.0   \n",
       "498956     96720.0  MEFKAR5A7C13CDBC11D-M  810496.0      Men's Fashion  330.0   \n",
       "498957     96720.0  MEFKAR5A7C13CDBC11D-L  810498.0      Men's Fashion  330.0   \n",
       "...            ...                    ...       ...                ...    ...   \n",
       "551230    110476.0  KABC-T59BA93B82E80D-S  867959.0        Kids & Baby  299.0   \n",
       "551227    110476.0    WOFDEA5AE0342BD0C4C  867954.0    Women's Fashion  299.0   \n",
       "529888     57938.0       ROO5AE983F167CA8  844778.0         Superstore  190.0   \n",
       "512186     20023.0    MATBIS5A06C28E47950  825280.0  Mobiles & Tablets  125.0   \n",
       "512046     47677.0       MOV5AAB5F3761DA4  824962.0         Superstore  500.0   \n",
       "\n",
       "        qty_ordered  Total_Price  discount_amount  Grand_Total payment_method  \\\n",
       "498963          2.0       1040.0         16450.00    -15410.00            cod   \n",
       "498960          5.0       1350.0         16450.00    -15100.00            cod   \n",
       "498962          3.0       1560.0         16450.00    -14890.00            cod   \n",
       "498956          5.0       1650.0         16450.00    -14800.00            cod   \n",
       "498957          5.0       1650.0         16450.00    -14800.00            cod   \n",
       "...             ...          ...              ...          ...            ...   \n",
       "551230          1.0        299.0           299.40        -0.40    bankalfalah   \n",
       "551227          1.0        299.0           299.40        -0.40    bankalfalah   \n",
       "529888          4.0        760.0           760.10        -0.10        Easypay   \n",
       "512186          2.0        250.0           250.01        -0.01            cod   \n",
       "512046          1.0        500.0           500.01        -0.01    bankalfalah   \n",
       "\n",
       "           status BI Status increment_id created_at  Month  Year      M-Y  \\\n",
       "498963  Completed       Net    100501934 2018-03-28      3  2018  2018-03   \n",
       "498960  Completed       Net    100501934 2018-03-28      3  2018  2018-03   \n",
       "498962  Completed       Net    100501934 2018-03-28      3  2018  2018-03   \n",
       "498956  Completed       Net    100501934 2018-03-28      3  2018  2018-03   \n",
       "498957  Completed       Net    100501934 2018-03-28      3  2018  2018-03   \n",
       "...           ...       ...          ...        ...    ...   ...      ...   \n",
       "551230  Completed     Valid    100540008 2018-06-07      6  2018  2018-06   \n",
       "551227  Completed     Valid    100540008 2018-06-07      6  2018  2018-06   \n",
       "529888  Completed     Valid    100525753 2018-05-11      5  2018  2018-05   \n",
       "512186     Refund     Valid    100512923 2018-04-15      4  2018  2018-04   \n",
       "512046  Completed       Net    100512694 2018-04-15      4  2018  2018-04   \n",
       "\n",
       "          FY Customer Since  \n",
       "498963  FY18        2018-03  \n",
       "498960  FY18        2018-03  \n",
       "498962  FY18        2018-03  \n",
       "498956  FY18        2018-03  \n",
       "498957  FY18        2018-03  \n",
       "...      ...            ...  \n",
       "551230  FY18        2018-06  \n",
       "551227  FY18        2018-06  \n",
       "529888  FY18        2017-08  \n",
       "512186  FY18        2016-11  \n",
       "512046  FY18        2017-05  \n",
       "\n",
       "[9713 rows x 19 columns]"
      ]
     },
     "execution_count": 198,
     "metadata": {},
     "output_type": "execute_result"
    }
   ],
   "source": [
    "df[df['Grand_Total'] < 0].sort_values(['Grand_Total'],ascending=True)"
   ]
  },
  {
   "cell_type": "markdown",
   "metadata": {},
   "source": [
    "Ada 9713 baris data yang memiliki nilai 'Grand_Total' dibawah 0 atau minus. Masalah ini memiliki penanganan yang mirip dengan penanganan di kolom 'discount_amount'."
   ]
  },
  {
   "cell_type": "code",
   "execution_count": 199,
   "metadata": {},
   "outputs": [],
   "source": [
    "ring =[]\n",
    "for value in df['Grand_Total']:\n",
    "    if value<0.0:\n",
    "        ring.append(0)\n",
    "    else:\n",
    "        ring.append(value)\n",
    "\n",
    "df['Grand_Total'] = ring"
   ]
  },
  {
   "cell_type": "markdown",
   "metadata": {},
   "source": [
    "#### 8. Kolom price yang memiliki value 0"
   ]
  },
  {
   "cell_type": "code",
   "execution_count": 200,
   "metadata": {},
   "outputs": [
    {
     "data": {
      "text/html": [
       "<div>\n",
       "<style scoped>\n",
       "    .dataframe tbody tr th:only-of-type {\n",
       "        vertical-align: middle;\n",
       "    }\n",
       "\n",
       "    .dataframe tbody tr th {\n",
       "        vertical-align: top;\n",
       "    }\n",
       "\n",
       "    .dataframe thead th {\n",
       "        text-align: right;\n",
       "    }\n",
       "</style>\n",
       "<table border=\"1\" class=\"dataframe\">\n",
       "  <thead>\n",
       "    <tr style=\"text-align: right;\">\n",
       "      <th></th>\n",
       "      <th>Customer ID</th>\n",
       "      <th>sku</th>\n",
       "      <th>item_id</th>\n",
       "      <th>Category</th>\n",
       "      <th>price</th>\n",
       "      <th>qty_ordered</th>\n",
       "      <th>Total_Price</th>\n",
       "      <th>discount_amount</th>\n",
       "      <th>Grand_Total</th>\n",
       "      <th>payment_method</th>\n",
       "      <th>status</th>\n",
       "      <th>BI Status</th>\n",
       "      <th>increment_id</th>\n",
       "      <th>created_at</th>\n",
       "      <th>Month</th>\n",
       "      <th>Year</th>\n",
       "      <th>M-Y</th>\n",
       "      <th>FY</th>\n",
       "      <th>Customer Since</th>\n",
       "    </tr>\n",
       "  </thead>\n",
       "  <tbody>\n",
       "    <tr>\n",
       "      <th>6598</th>\n",
       "      <td>1961.0</td>\n",
       "      <td>west point_Deluxe Juicer, Blender &amp; Grinder - ...</td>\n",
       "      <td>218538.0</td>\n",
       "      <td>Appliances</td>\n",
       "      <td>0.0</td>\n",
       "      <td>1.0</td>\n",
       "      <td>0.0</td>\n",
       "      <td>0.0</td>\n",
       "      <td>0.0</td>\n",
       "      <td>cod</td>\n",
       "      <td>Canceled</td>\n",
       "      <td>Gross</td>\n",
       "      <td>100152813</td>\n",
       "      <td>2016-07-26</td>\n",
       "      <td>7</td>\n",
       "      <td>2016</td>\n",
       "      <td>2016-07</td>\n",
       "      <td>FY17</td>\n",
       "      <td>2016-07</td>\n",
       "    </tr>\n",
       "    <tr>\n",
       "      <th>6603</th>\n",
       "      <td>1962.0</td>\n",
       "      <td>west point_Deluxe Juicer, Blender &amp; Grinder - ...</td>\n",
       "      <td>218542.0</td>\n",
       "      <td>Appliances</td>\n",
       "      <td>0.0</td>\n",
       "      <td>1.0</td>\n",
       "      <td>0.0</td>\n",
       "      <td>0.0</td>\n",
       "      <td>0.0</td>\n",
       "      <td>cod</td>\n",
       "      <td>Canceled</td>\n",
       "      <td>Gross</td>\n",
       "      <td>100152817</td>\n",
       "      <td>2016-07-26</td>\n",
       "      <td>7</td>\n",
       "      <td>2016</td>\n",
       "      <td>2016-07</td>\n",
       "      <td>FY17</td>\n",
       "      <td>2016-07</td>\n",
       "    </tr>\n",
       "    <tr>\n",
       "      <th>7004</th>\n",
       "      <td>1085.0</td>\n",
       "      <td>west point_Deluxe Juicer, Blender &amp; Grinder - ...</td>\n",
       "      <td>218988.0</td>\n",
       "      <td>Appliances</td>\n",
       "      <td>0.0</td>\n",
       "      <td>1.0</td>\n",
       "      <td>0.0</td>\n",
       "      <td>0.0</td>\n",
       "      <td>0.0</td>\n",
       "      <td>cod</td>\n",
       "      <td>Canceled</td>\n",
       "      <td>Gross</td>\n",
       "      <td>100153144</td>\n",
       "      <td>2016-07-27</td>\n",
       "      <td>7</td>\n",
       "      <td>2016</td>\n",
       "      <td>2016-07</td>\n",
       "      <td>FY17</td>\n",
       "      <td>2016-07</td>\n",
       "    </tr>\n",
       "    <tr>\n",
       "      <th>8298</th>\n",
       "      <td>2247.0</td>\n",
       "      <td>stinnos_1301</td>\n",
       "      <td>220494.0</td>\n",
       "      <td>Kids &amp; Baby</td>\n",
       "      <td>0.0</td>\n",
       "      <td>1.0</td>\n",
       "      <td>0.0</td>\n",
       "      <td>0.0</td>\n",
       "      <td>0.0</td>\n",
       "      <td>cod</td>\n",
       "      <td>Canceled</td>\n",
       "      <td>Gross</td>\n",
       "      <td>100154287</td>\n",
       "      <td>2016-07-29</td>\n",
       "      <td>7</td>\n",
       "      <td>2016</td>\n",
       "      <td>2016-07</td>\n",
       "      <td>FY17</td>\n",
       "      <td>2016-07</td>\n",
       "    </tr>\n",
       "    <tr>\n",
       "      <th>8333</th>\n",
       "      <td>2257.0</td>\n",
       "      <td>stinnos_1301</td>\n",
       "      <td>220540.0</td>\n",
       "      <td>Kids &amp; Baby</td>\n",
       "      <td>0.0</td>\n",
       "      <td>10.0</td>\n",
       "      <td>0.0</td>\n",
       "      <td>0.0</td>\n",
       "      <td>0.0</td>\n",
       "      <td>cod</td>\n",
       "      <td>Canceled</td>\n",
       "      <td>Gross</td>\n",
       "      <td>100154316</td>\n",
       "      <td>2016-07-29</td>\n",
       "      <td>7</td>\n",
       "      <td>2016</td>\n",
       "      <td>2016-07</td>\n",
       "      <td>FY17</td>\n",
       "      <td>2016-07</td>\n",
       "    </tr>\n",
       "    <tr>\n",
       "      <th>...</th>\n",
       "      <td>...</td>\n",
       "      <td>...</td>\n",
       "      <td>...</td>\n",
       "      <td>...</td>\n",
       "      <td>...</td>\n",
       "      <td>...</td>\n",
       "      <td>...</td>\n",
       "      <td>...</td>\n",
       "      <td>...</td>\n",
       "      <td>...</td>\n",
       "      <td>...</td>\n",
       "      <td>...</td>\n",
       "      <td>...</td>\n",
       "      <td>...</td>\n",
       "      <td>...</td>\n",
       "      <td>...</td>\n",
       "      <td>...</td>\n",
       "      <td>...</td>\n",
       "      <td>...</td>\n",
       "    </tr>\n",
       "    <tr>\n",
       "      <th>584260</th>\n",
       "      <td>115277.0</td>\n",
       "      <td>COMTOO59D5164EE7D18</td>\n",
       "      <td>904901.0</td>\n",
       "      <td>Computing</td>\n",
       "      <td>0.0</td>\n",
       "      <td>2.0</td>\n",
       "      <td>0.0</td>\n",
       "      <td>0.0</td>\n",
       "      <td>0.0</td>\n",
       "      <td>cod</td>\n",
       "      <td>Completed</td>\n",
       "      <td>Valid</td>\n",
       "      <td>100562217</td>\n",
       "      <td>2018-08-27</td>\n",
       "      <td>8</td>\n",
       "      <td>2018</td>\n",
       "      <td>2018-08</td>\n",
       "      <td>FY19</td>\n",
       "      <td>2018-08</td>\n",
       "    </tr>\n",
       "    <tr>\n",
       "      <th>584261</th>\n",
       "      <td>115278.0</td>\n",
       "      <td>COMTOO59D5164EE7D18</td>\n",
       "      <td>904902.0</td>\n",
       "      <td>Computing</td>\n",
       "      <td>0.0</td>\n",
       "      <td>2.0</td>\n",
       "      <td>0.0</td>\n",
       "      <td>0.0</td>\n",
       "      <td>0.0</td>\n",
       "      <td>cod</td>\n",
       "      <td>Completed</td>\n",
       "      <td>Valid</td>\n",
       "      <td>100562218</td>\n",
       "      <td>2018-08-27</td>\n",
       "      <td>8</td>\n",
       "      <td>2018</td>\n",
       "      <td>2018-08</td>\n",
       "      <td>FY19</td>\n",
       "      <td>2018-08</td>\n",
       "    </tr>\n",
       "    <tr>\n",
       "      <th>584264</th>\n",
       "      <td>115279.0</td>\n",
       "      <td>COMTOO59D5164EE7D18</td>\n",
       "      <td>904906.0</td>\n",
       "      <td>Computing</td>\n",
       "      <td>0.0</td>\n",
       "      <td>2.0</td>\n",
       "      <td>0.0</td>\n",
       "      <td>0.0</td>\n",
       "      <td>0.0</td>\n",
       "      <td>cod</td>\n",
       "      <td>Completed</td>\n",
       "      <td>Valid</td>\n",
       "      <td>100562220</td>\n",
       "      <td>2018-08-27</td>\n",
       "      <td>8</td>\n",
       "      <td>2018</td>\n",
       "      <td>2018-08</td>\n",
       "      <td>FY19</td>\n",
       "      <td>2018-08</td>\n",
       "    </tr>\n",
       "    <tr>\n",
       "      <th>584270</th>\n",
       "      <td>115281.0</td>\n",
       "      <td>COMTOO59D5164EE7D18</td>\n",
       "      <td>904916.0</td>\n",
       "      <td>Computing</td>\n",
       "      <td>0.0</td>\n",
       "      <td>2.0</td>\n",
       "      <td>0.0</td>\n",
       "      <td>0.0</td>\n",
       "      <td>0.0</td>\n",
       "      <td>cod</td>\n",
       "      <td>Completed</td>\n",
       "      <td>Valid</td>\n",
       "      <td>100562222</td>\n",
       "      <td>2018-08-27</td>\n",
       "      <td>8</td>\n",
       "      <td>2018</td>\n",
       "      <td>2018-08</td>\n",
       "      <td>FY19</td>\n",
       "      <td>2018-08</td>\n",
       "    </tr>\n",
       "    <tr>\n",
       "      <th>584271</th>\n",
       "      <td>115282.0</td>\n",
       "      <td>COMTOO59D5164EE7D18</td>\n",
       "      <td>904917.0</td>\n",
       "      <td>Computing</td>\n",
       "      <td>0.0</td>\n",
       "      <td>1.0</td>\n",
       "      <td>0.0</td>\n",
       "      <td>0.0</td>\n",
       "      <td>0.0</td>\n",
       "      <td>cod</td>\n",
       "      <td>Completed</td>\n",
       "      <td>Valid</td>\n",
       "      <td>100562223</td>\n",
       "      <td>2018-08-27</td>\n",
       "      <td>8</td>\n",
       "      <td>2018</td>\n",
       "      <td>2018-08</td>\n",
       "      <td>FY19</td>\n",
       "      <td>2018-08</td>\n",
       "    </tr>\n",
       "  </tbody>\n",
       "</table>\n",
       "<p>2232 rows × 19 columns</p>\n",
       "</div>"
      ],
      "text/plain": [
       "       Customer ID                                                sku  \\\n",
       "6598        1961.0  west point_Deluxe Juicer, Blender & Grinder - ...   \n",
       "6603        1962.0  west point_Deluxe Juicer, Blender & Grinder - ...   \n",
       "7004        1085.0  west point_Deluxe Juicer, Blender & Grinder - ...   \n",
       "8298        2247.0                                       stinnos_1301   \n",
       "8333        2257.0                                       stinnos_1301   \n",
       "...            ...                                                ...   \n",
       "584260    115277.0                                COMTOO59D5164EE7D18   \n",
       "584261    115278.0                                COMTOO59D5164EE7D18   \n",
       "584264    115279.0                                COMTOO59D5164EE7D18   \n",
       "584270    115281.0                                COMTOO59D5164EE7D18   \n",
       "584271    115282.0                                COMTOO59D5164EE7D18   \n",
       "\n",
       "         item_id     Category  price  qty_ordered  Total_Price  \\\n",
       "6598    218538.0   Appliances    0.0          1.0          0.0   \n",
       "6603    218542.0   Appliances    0.0          1.0          0.0   \n",
       "7004    218988.0   Appliances    0.0          1.0          0.0   \n",
       "8298    220494.0  Kids & Baby    0.0          1.0          0.0   \n",
       "8333    220540.0  Kids & Baby    0.0         10.0          0.0   \n",
       "...          ...          ...    ...          ...          ...   \n",
       "584260  904901.0    Computing    0.0          2.0          0.0   \n",
       "584261  904902.0    Computing    0.0          2.0          0.0   \n",
       "584264  904906.0    Computing    0.0          2.0          0.0   \n",
       "584270  904916.0    Computing    0.0          2.0          0.0   \n",
       "584271  904917.0    Computing    0.0          1.0          0.0   \n",
       "\n",
       "        discount_amount  Grand_Total payment_method     status BI Status  \\\n",
       "6598                0.0          0.0            cod   Canceled     Gross   \n",
       "6603                0.0          0.0            cod   Canceled     Gross   \n",
       "7004                0.0          0.0            cod   Canceled     Gross   \n",
       "8298                0.0          0.0            cod   Canceled     Gross   \n",
       "8333                0.0          0.0            cod   Canceled     Gross   \n",
       "...                 ...          ...            ...        ...       ...   \n",
       "584260              0.0          0.0            cod  Completed     Valid   \n",
       "584261              0.0          0.0            cod  Completed     Valid   \n",
       "584264              0.0          0.0            cod  Completed     Valid   \n",
       "584270              0.0          0.0            cod  Completed     Valid   \n",
       "584271              0.0          0.0            cod  Completed     Valid   \n",
       "\n",
       "       increment_id created_at  Month  Year      M-Y    FY Customer Since  \n",
       "6598      100152813 2016-07-26      7  2016  2016-07  FY17        2016-07  \n",
       "6603      100152817 2016-07-26      7  2016  2016-07  FY17        2016-07  \n",
       "7004      100153144 2016-07-27      7  2016  2016-07  FY17        2016-07  \n",
       "8298      100154287 2016-07-29      7  2016  2016-07  FY17        2016-07  \n",
       "8333      100154316 2016-07-29      7  2016  2016-07  FY17        2016-07  \n",
       "...             ...        ...    ...   ...      ...   ...            ...  \n",
       "584260    100562217 2018-08-27      8  2018  2018-08  FY19        2018-08  \n",
       "584261    100562218 2018-08-27      8  2018  2018-08  FY19        2018-08  \n",
       "584264    100562220 2018-08-27      8  2018  2018-08  FY19        2018-08  \n",
       "584270    100562222 2018-08-27      8  2018  2018-08  FY19        2018-08  \n",
       "584271    100562223 2018-08-27      8  2018  2018-08  FY19        2018-08  \n",
       "\n",
       "[2232 rows x 19 columns]"
      ]
     },
     "execution_count": 200,
     "metadata": {},
     "output_type": "execute_result"
    }
   ],
   "source": [
    "df[df['price'] == 0]"
   ]
  },
  {
   "cell_type": "markdown",
   "metadata": {},
   "source": [
    "Didapatkan ada 2232 row pada data yang memiliki nilai 0 pada kolom price. Jumlah tersebut merupakan 0.38% dari total keseluruhan data. Karena keadaan janggal tersebut dan keterbatasan informasi data (kolom 'sku' yang kurang jelas mengidentifikasi produk), maka sebagai data untuk analisa rumusan masalah 1, data ini tidak digunakan. Namun untuk rumusan masalah 2 dan 3, data ini akan tetap digunakan untuk mendapatkan data yang original dan selengkap mungkin.\n",
    "\n",
    "Untuk analisa rumusan masalah yang menggunakan omset, kita akan menggunakan data df_new."
   ]
  },
  {
   "cell_type": "code",
   "execution_count": 201,
   "metadata": {},
   "outputs": [],
   "source": [
    "df_new = df.drop(df[df['price'] == 0].index)"
   ]
  },
  {
   "cell_type": "code",
   "execution_count": 202,
   "metadata": {},
   "outputs": [
    {
     "data": {
      "text/html": [
       "<div>\n",
       "<style scoped>\n",
       "    .dataframe tbody tr th:only-of-type {\n",
       "        vertical-align: middle;\n",
       "    }\n",
       "\n",
       "    .dataframe tbody tr th {\n",
       "        vertical-align: top;\n",
       "    }\n",
       "\n",
       "    .dataframe thead th {\n",
       "        text-align: right;\n",
       "    }\n",
       "</style>\n",
       "<table border=\"1\" class=\"dataframe\">\n",
       "  <thead>\n",
       "    <tr style=\"text-align: right;\">\n",
       "      <th></th>\n",
       "      <th>Customer ID</th>\n",
       "      <th>sku</th>\n",
       "      <th>item_id</th>\n",
       "      <th>Category</th>\n",
       "      <th>price</th>\n",
       "      <th>qty_ordered</th>\n",
       "      <th>Total_Price</th>\n",
       "      <th>discount_amount</th>\n",
       "      <th>Grand_Total</th>\n",
       "      <th>payment_method</th>\n",
       "      <th>status</th>\n",
       "      <th>BI Status</th>\n",
       "      <th>increment_id</th>\n",
       "      <th>created_at</th>\n",
       "      <th>Month</th>\n",
       "      <th>Year</th>\n",
       "      <th>M-Y</th>\n",
       "      <th>FY</th>\n",
       "      <th>Customer Since</th>\n",
       "    </tr>\n",
       "  </thead>\n",
       "  <tbody>\n",
       "    <tr>\n",
       "      <th>0</th>\n",
       "      <td>1.0</td>\n",
       "      <td>kreations_YI 06-L</td>\n",
       "      <td>211131.0</td>\n",
       "      <td>Women's Fashion</td>\n",
       "      <td>1950.0</td>\n",
       "      <td>1.0</td>\n",
       "      <td>1950.0</td>\n",
       "      <td>0.0</td>\n",
       "      <td>1950.0</td>\n",
       "      <td>cod</td>\n",
       "      <td>Completed</td>\n",
       "      <td>Net</td>\n",
       "      <td>100147443</td>\n",
       "      <td>2016-07-01</td>\n",
       "      <td>7</td>\n",
       "      <td>2016</td>\n",
       "      <td>2016-07</td>\n",
       "      <td>FY17</td>\n",
       "      <td>2016-07</td>\n",
       "    </tr>\n",
       "    <tr>\n",
       "      <th>1</th>\n",
       "      <td>2.0</td>\n",
       "      <td>kcc_Buy 2 Frey Air Freshener &amp; Get 1 Kasual Bo...</td>\n",
       "      <td>211133.0</td>\n",
       "      <td>Beauty &amp; Grooming</td>\n",
       "      <td>240.0</td>\n",
       "      <td>1.0</td>\n",
       "      <td>240.0</td>\n",
       "      <td>0.0</td>\n",
       "      <td>240.0</td>\n",
       "      <td>cod</td>\n",
       "      <td>Canceled</td>\n",
       "      <td>Gross</td>\n",
       "      <td>100147444</td>\n",
       "      <td>2016-07-01</td>\n",
       "      <td>7</td>\n",
       "      <td>2016</td>\n",
       "      <td>2016-07</td>\n",
       "      <td>FY17</td>\n",
       "      <td>2016-07</td>\n",
       "    </tr>\n",
       "    <tr>\n",
       "      <th>2</th>\n",
       "      <td>3.0</td>\n",
       "      <td>Ego_UP0017-999-MR0</td>\n",
       "      <td>211134.0</td>\n",
       "      <td>Women's Fashion</td>\n",
       "      <td>2450.0</td>\n",
       "      <td>1.0</td>\n",
       "      <td>2450.0</td>\n",
       "      <td>0.0</td>\n",
       "      <td>2450.0</td>\n",
       "      <td>cod</td>\n",
       "      <td>Canceled</td>\n",
       "      <td>Gross</td>\n",
       "      <td>100147445</td>\n",
       "      <td>2016-07-01</td>\n",
       "      <td>7</td>\n",
       "      <td>2016</td>\n",
       "      <td>2016-07</td>\n",
       "      <td>FY17</td>\n",
       "      <td>2016-07</td>\n",
       "    </tr>\n",
       "    <tr>\n",
       "      <th>3</th>\n",
       "      <td>4.0</td>\n",
       "      <td>kcc_krone deal</td>\n",
       "      <td>211135.0</td>\n",
       "      <td>Beauty &amp; Grooming</td>\n",
       "      <td>360.0</td>\n",
       "      <td>1.0</td>\n",
       "      <td>360.0</td>\n",
       "      <td>300.0</td>\n",
       "      <td>60.0</td>\n",
       "      <td>cod</td>\n",
       "      <td>Completed</td>\n",
       "      <td>Net</td>\n",
       "      <td>100147446</td>\n",
       "      <td>2016-07-01</td>\n",
       "      <td>7</td>\n",
       "      <td>2016</td>\n",
       "      <td>2016-07</td>\n",
       "      <td>FY17</td>\n",
       "      <td>2016-07</td>\n",
       "    </tr>\n",
       "    <tr>\n",
       "      <th>4</th>\n",
       "      <td>5.0</td>\n",
       "      <td>BK7010400AG</td>\n",
       "      <td>211136.0</td>\n",
       "      <td>Soghaat</td>\n",
       "      <td>555.0</td>\n",
       "      <td>2.0</td>\n",
       "      <td>1110.0</td>\n",
       "      <td>0.0</td>\n",
       "      <td>1110.0</td>\n",
       "      <td>cod</td>\n",
       "      <td>Refund</td>\n",
       "      <td>Valid</td>\n",
       "      <td>100147447</td>\n",
       "      <td>2016-07-01</td>\n",
       "      <td>7</td>\n",
       "      <td>2016</td>\n",
       "      <td>2016-07</td>\n",
       "      <td>FY17</td>\n",
       "      <td>2016-07</td>\n",
       "    </tr>\n",
       "  </tbody>\n",
       "</table>\n",
       "</div>"
      ],
      "text/plain": [
       "  Customer ID                                                sku   item_id  \\\n",
       "0         1.0                                  kreations_YI 06-L  211131.0   \n",
       "1         2.0  kcc_Buy 2 Frey Air Freshener & Get 1 Kasual Bo...  211133.0   \n",
       "2         3.0                                 Ego_UP0017-999-MR0  211134.0   \n",
       "3         4.0                                     kcc_krone deal  211135.0   \n",
       "4         5.0                                        BK7010400AG  211136.0   \n",
       "\n",
       "            Category   price  qty_ordered  Total_Price  discount_amount  \\\n",
       "0    Women's Fashion  1950.0          1.0       1950.0              0.0   \n",
       "1  Beauty & Grooming   240.0          1.0        240.0              0.0   \n",
       "2    Women's Fashion  2450.0          1.0       2450.0              0.0   \n",
       "3  Beauty & Grooming   360.0          1.0        360.0            300.0   \n",
       "4            Soghaat   555.0          2.0       1110.0              0.0   \n",
       "\n",
       "   Grand_Total payment_method     status BI Status increment_id created_at  \\\n",
       "0       1950.0            cod  Completed       Net    100147443 2016-07-01   \n",
       "1        240.0            cod   Canceled     Gross    100147444 2016-07-01   \n",
       "2       2450.0            cod   Canceled     Gross    100147445 2016-07-01   \n",
       "3         60.0            cod  Completed       Net    100147446 2016-07-01   \n",
       "4       1110.0            cod     Refund     Valid    100147447 2016-07-01   \n",
       "\n",
       "   Month  Year      M-Y    FY Customer Since  \n",
       "0      7  2016  2016-07  FY17        2016-07  \n",
       "1      7  2016  2016-07  FY17        2016-07  \n",
       "2      7  2016  2016-07  FY17        2016-07  \n",
       "3      7  2016  2016-07  FY17        2016-07  \n",
       "4      7  2016  2016-07  FY17        2016-07  "
      ]
     },
     "execution_count": 202,
     "metadata": {},
     "output_type": "execute_result"
    }
   ],
   "source": [
    "df_new.head()"
   ]
  },
  {
   "cell_type": "markdown",
   "metadata": {},
   "source": [
    "#### 9. Data Bersih"
   ]
  },
  {
   "cell_type": "code",
   "execution_count": 203,
   "metadata": {},
   "outputs": [
    {
     "data": {
      "text/html": [
       "<div>\n",
       "<style scoped>\n",
       "    .dataframe tbody tr th:only-of-type {\n",
       "        vertical-align: middle;\n",
       "    }\n",
       "\n",
       "    .dataframe tbody tr th {\n",
       "        vertical-align: top;\n",
       "    }\n",
       "\n",
       "    .dataframe thead th {\n",
       "        text-align: right;\n",
       "    }\n",
       "</style>\n",
       "<table border=\"1\" class=\"dataframe\">\n",
       "  <thead>\n",
       "    <tr style=\"text-align: right;\">\n",
       "      <th></th>\n",
       "      <th>price</th>\n",
       "      <th>qty_ordered</th>\n",
       "      <th>Total_Price</th>\n",
       "      <th>discount_amount</th>\n",
       "      <th>Grand_Total</th>\n",
       "      <th>Month</th>\n",
       "      <th>Year</th>\n",
       "    </tr>\n",
       "  </thead>\n",
       "  <tbody>\n",
       "    <tr>\n",
       "      <th>count</th>\n",
       "      <td>5.845240e+05</td>\n",
       "      <td>584524.000000</td>\n",
       "      <td>5.845240e+05</td>\n",
       "      <td>584524.000000</td>\n",
       "      <td>5.845240e+05</td>\n",
       "      <td>584524.000000</td>\n",
       "      <td>584524.000000</td>\n",
       "    </tr>\n",
       "    <tr>\n",
       "      <th>mean</th>\n",
       "      <td>6.348748e+03</td>\n",
       "      <td>1.296388</td>\n",
       "      <td>7.177307e+03</td>\n",
       "      <td>499.493808</td>\n",
       "      <td>6.715849e+03</td>\n",
       "      <td>7.167654</td>\n",
       "      <td>2017.044115</td>\n",
       "    </tr>\n",
       "    <tr>\n",
       "      <th>std</th>\n",
       "      <td>1.494927e+04</td>\n",
       "      <td>3.996061</td>\n",
       "      <td>3.394733e+04</td>\n",
       "      <td>1506.942500</td>\n",
       "      <td>3.364066e+04</td>\n",
       "      <td>3.486305</td>\n",
       "      <td>0.707355</td>\n",
       "    </tr>\n",
       "    <tr>\n",
       "      <th>min</th>\n",
       "      <td>0.000000e+00</td>\n",
       "      <td>1.000000</td>\n",
       "      <td>0.000000e+00</td>\n",
       "      <td>0.000000</td>\n",
       "      <td>0.000000e+00</td>\n",
       "      <td>1.000000</td>\n",
       "      <td>2016.000000</td>\n",
       "    </tr>\n",
       "    <tr>\n",
       "      <th>25%</th>\n",
       "      <td>3.600000e+02</td>\n",
       "      <td>1.000000</td>\n",
       "      <td>3.990000e+02</td>\n",
       "      <td>0.000000</td>\n",
       "      <td>3.500000e+02</td>\n",
       "      <td>4.000000</td>\n",
       "      <td>2017.000000</td>\n",
       "    </tr>\n",
       "    <tr>\n",
       "      <th>50%</th>\n",
       "      <td>8.990000e+02</td>\n",
       "      <td>1.000000</td>\n",
       "      <td>9.990000e+02</td>\n",
       "      <td>0.000000</td>\n",
       "      <td>9.375000e+02</td>\n",
       "      <td>7.000000</td>\n",
       "      <td>2017.000000</td>\n",
       "    </tr>\n",
       "    <tr>\n",
       "      <th>75%</th>\n",
       "      <td>4.070000e+03</td>\n",
       "      <td>1.000000</td>\n",
       "      <td>5.000000e+03</td>\n",
       "      <td>160.500000</td>\n",
       "      <td>4.500000e+03</td>\n",
       "      <td>11.000000</td>\n",
       "      <td>2018.000000</td>\n",
       "    </tr>\n",
       "    <tr>\n",
       "      <th>max</th>\n",
       "      <td>1.012626e+06</td>\n",
       "      <td>1000.000000</td>\n",
       "      <td>8.944000e+06</td>\n",
       "      <td>90300.000000</td>\n",
       "      <td>8.944000e+06</td>\n",
       "      <td>12.000000</td>\n",
       "      <td>2018.000000</td>\n",
       "    </tr>\n",
       "  </tbody>\n",
       "</table>\n",
       "</div>"
      ],
      "text/plain": [
       "              price    qty_ordered   Total_Price  discount_amount  \\\n",
       "count  5.845240e+05  584524.000000  5.845240e+05    584524.000000   \n",
       "mean   6.348748e+03       1.296388  7.177307e+03       499.493808   \n",
       "std    1.494927e+04       3.996061  3.394733e+04      1506.942500   \n",
       "min    0.000000e+00       1.000000  0.000000e+00         0.000000   \n",
       "25%    3.600000e+02       1.000000  3.990000e+02         0.000000   \n",
       "50%    8.990000e+02       1.000000  9.990000e+02         0.000000   \n",
       "75%    4.070000e+03       1.000000  5.000000e+03       160.500000   \n",
       "max    1.012626e+06    1000.000000  8.944000e+06     90300.000000   \n",
       "\n",
       "        Grand_Total          Month           Year  \n",
       "count  5.845240e+05  584524.000000  584524.000000  \n",
       "mean   6.715849e+03       7.167654    2017.044115  \n",
       "std    3.364066e+04       3.486305       0.707355  \n",
       "min    0.000000e+00       1.000000    2016.000000  \n",
       "25%    3.500000e+02       4.000000    2017.000000  \n",
       "50%    9.375000e+02       7.000000    2017.000000  \n",
       "75%    4.500000e+03      11.000000    2018.000000  \n",
       "max    8.944000e+06      12.000000    2018.000000  "
      ]
     },
     "execution_count": 203,
     "metadata": {},
     "output_type": "execute_result"
    }
   ],
   "source": [
    "df.describe()"
   ]
  },
  {
   "cell_type": "code",
   "execution_count": 204,
   "metadata": {},
   "outputs": [
    {
     "name": "stdout",
     "output_type": "stream",
     "text": [
      "<class 'pandas.core.frame.DataFrame'>\n",
      "Int64Index: 584524 entries, 0 to 584523\n",
      "Data columns (total 19 columns):\n",
      " #   Column           Non-Null Count   Dtype         \n",
      "---  ------           --------------   -----         \n",
      " 0   Customer ID      584524 non-null  string        \n",
      " 1   sku              584524 non-null  string        \n",
      " 2   item_id          584524 non-null  string        \n",
      " 3   Category         584524 non-null  string        \n",
      " 4   price            584524 non-null  float64       \n",
      " 5   qty_ordered      584524 non-null  float64       \n",
      " 6   Total_Price      584524 non-null  float64       \n",
      " 7   discount_amount  584524 non-null  float64       \n",
      " 8   Grand_Total      584524 non-null  float64       \n",
      " 9   payment_method   584524 non-null  string        \n",
      " 10  status           584524 non-null  string        \n",
      " 11  BI Status        584524 non-null  string        \n",
      " 12  increment_id     584524 non-null  string        \n",
      " 13  created_at       584524 non-null  datetime64[ns]\n",
      " 14  Month            584524 non-null  int32         \n",
      " 15  Year             584524 non-null  int32         \n",
      " 16  M-Y              584524 non-null  period[M]     \n",
      " 17  FY               584524 non-null  string        \n",
      " 18  Customer Since   584524 non-null  period[M]     \n",
      "dtypes: datetime64[ns](1), float64(5), int32(2), period[M](2), string(9)\n",
      "memory usage: 100.9 MB\n"
     ]
    }
   ],
   "source": [
    "df.info()"
   ]
  },
  {
   "cell_type": "markdown",
   "metadata": {},
   "source": [
    "Sebelum dibersihkan, ada 1048575 baris dan 26 kolom pada data. Dan sekarang tinggal 584524 baris dan 19 kolom pada data. Ada 7 kolom dan lebih dari 400 ribu baris dihapus dengan tujuan pembersihan data. Selain itu, dilakukan juga pengisian data Missing Value dengan data yang dinilai relevan dengan data keseluruhan. Berikut nama kolom beserta isinya:\n",
    "- Customer ID = Kode unik setiap customer\n",
    "- SKU = stock keeping unit, nama barang\n",
    "- Item ID = Kode barang\n",
    "- Category = kategori produk\n",
    "- Price = harga barang\n",
    "- qty_ordered = jumlah barang yang di beli\n",
    "- Total_price = total harga barang sebelum diskon\n",
    "- discount amount = jumlah diskon yang diberikan\n",
    "- Grand_Total = total harga setelah diskon\n",
    "- payment_method = metode pembayaran yang digunakan\n",
    "- status = status pembayaran\n",
    "- BI Status = menggambarkan kategori ata indikator dari kolom status\n",
    "- increment_id = nomor nota\n",
    "- created_at = Tanggal transaksi dilakukan\n",
    "- Month = bulan saat transaksi dilakukan\n",
    "- Year = tahun saat transaksi dilakukan\n",
    "- M-Y = bulan dan tahun saat transaksi dilakukan\n",
    "- FY = fiscal year\n",
    "- Customer Since = tanggal pendaftaran menjadi customer\n"
   ]
  },
  {
   "cell_type": "markdown",
   "metadata": {},
   "source": [
    "## Data Analysis"
   ]
  },
  {
   "cell_type": "markdown",
   "metadata": {},
   "source": [
    "Persiapan untuk Analisa Data\n",
    "\n",
    "    Untuk membuat hasil analisa menjadi lebih baik, maka perlu untuk menghitung hasil penjualan yang real yaitu yang memiliki harga produk diatas 0 dan status penjualan sudah terselesaikan."
   ]
  },
  {
   "cell_type": "code",
   "execution_count": 205,
   "metadata": {},
   "outputs": [
    {
     "data": {
      "text/plain": [
       "(582292, 19)"
      ]
     },
     "execution_count": 205,
     "metadata": {},
     "output_type": "execute_result"
    }
   ],
   "source": [
    "df_new.shape"
   ]
  },
  {
   "cell_type": "code",
   "execution_count": 206,
   "metadata": {},
   "outputs": [],
   "source": [
    "df_new = df_new[df_new['status']=='Completed'].reset_index(drop=True)"
   ]
  },
  {
   "cell_type": "code",
   "execution_count": 207,
   "metadata": {},
   "outputs": [
    {
     "data": {
      "text/plain": [
       "(314649, 19)"
      ]
     },
     "execution_count": 207,
     "metadata": {},
     "output_type": "execute_result"
    }
   ],
   "source": [
    "df_new.shape"
   ]
  },
  {
   "cell_type": "code",
   "execution_count": 208,
   "metadata": {},
   "outputs": [
    {
     "data": {
      "text/html": [
       "<div>\n",
       "<style scoped>\n",
       "    .dataframe tbody tr th:only-of-type {\n",
       "        vertical-align: middle;\n",
       "    }\n",
       "\n",
       "    .dataframe tbody tr th {\n",
       "        vertical-align: top;\n",
       "    }\n",
       "\n",
       "    .dataframe thead th {\n",
       "        text-align: right;\n",
       "    }\n",
       "</style>\n",
       "<table border=\"1\" class=\"dataframe\">\n",
       "  <thead>\n",
       "    <tr style=\"text-align: right;\">\n",
       "      <th></th>\n",
       "      <th>Customer ID</th>\n",
       "      <th>sku</th>\n",
       "      <th>item_id</th>\n",
       "      <th>Category</th>\n",
       "      <th>price</th>\n",
       "      <th>qty_ordered</th>\n",
       "      <th>Total_Price</th>\n",
       "      <th>discount_amount</th>\n",
       "      <th>Grand_Total</th>\n",
       "      <th>payment_method</th>\n",
       "      <th>status</th>\n",
       "      <th>BI Status</th>\n",
       "      <th>increment_id</th>\n",
       "      <th>created_at</th>\n",
       "      <th>Month</th>\n",
       "      <th>Year</th>\n",
       "      <th>M-Y</th>\n",
       "      <th>FY</th>\n",
       "      <th>Customer Since</th>\n",
       "    </tr>\n",
       "  </thead>\n",
       "  <tbody>\n",
       "    <tr>\n",
       "      <th>0</th>\n",
       "      <td>1.0</td>\n",
       "      <td>kreations_YI 06-L</td>\n",
       "      <td>211131.0</td>\n",
       "      <td>Women's Fashion</td>\n",
       "      <td>1950.0</td>\n",
       "      <td>1.0</td>\n",
       "      <td>1950.0</td>\n",
       "      <td>0.0</td>\n",
       "      <td>1950.0</td>\n",
       "      <td>cod</td>\n",
       "      <td>Completed</td>\n",
       "      <td>Net</td>\n",
       "      <td>100147443</td>\n",
       "      <td>2016-07-01</td>\n",
       "      <td>7</td>\n",
       "      <td>2016</td>\n",
       "      <td>2016-07</td>\n",
       "      <td>FY17</td>\n",
       "      <td>2016-07</td>\n",
       "    </tr>\n",
       "    <tr>\n",
       "      <th>1</th>\n",
       "      <td>4.0</td>\n",
       "      <td>kcc_krone deal</td>\n",
       "      <td>211135.0</td>\n",
       "      <td>Beauty &amp; Grooming</td>\n",
       "      <td>360.0</td>\n",
       "      <td>1.0</td>\n",
       "      <td>360.0</td>\n",
       "      <td>300.0</td>\n",
       "      <td>60.0</td>\n",
       "      <td>cod</td>\n",
       "      <td>Completed</td>\n",
       "      <td>Net</td>\n",
       "      <td>100147446</td>\n",
       "      <td>2016-07-01</td>\n",
       "      <td>7</td>\n",
       "      <td>2016</td>\n",
       "      <td>2016-07</td>\n",
       "      <td>FY17</td>\n",
       "      <td>2016-07</td>\n",
       "    </tr>\n",
       "    <tr>\n",
       "      <th>2</th>\n",
       "      <td>7.0</td>\n",
       "      <td>kcc_krone deal</td>\n",
       "      <td>211138.0</td>\n",
       "      <td>Beauty &amp; Grooming</td>\n",
       "      <td>360.0</td>\n",
       "      <td>1.0</td>\n",
       "      <td>360.0</td>\n",
       "      <td>300.0</td>\n",
       "      <td>60.0</td>\n",
       "      <td>cod</td>\n",
       "      <td>Completed</td>\n",
       "      <td>Net</td>\n",
       "      <td>100147449</td>\n",
       "      <td>2016-07-01</td>\n",
       "      <td>7</td>\n",
       "      <td>2016</td>\n",
       "      <td>2016-07</td>\n",
       "      <td>FY17</td>\n",
       "      <td>2016-07</td>\n",
       "    </tr>\n",
       "    <tr>\n",
       "      <th>3</th>\n",
       "      <td>6.0</td>\n",
       "      <td>UK_Namkino Mix Nimco 400 Gms</td>\n",
       "      <td>211139.0</td>\n",
       "      <td>Soghaat</td>\n",
       "      <td>170.0</td>\n",
       "      <td>1.0</td>\n",
       "      <td>170.0</td>\n",
       "      <td>0.0</td>\n",
       "      <td>170.0</td>\n",
       "      <td>cod</td>\n",
       "      <td>Completed</td>\n",
       "      <td>Net</td>\n",
       "      <td>100147450</td>\n",
       "      <td>2016-07-01</td>\n",
       "      <td>7</td>\n",
       "      <td>2016</td>\n",
       "      <td>2016-07</td>\n",
       "      <td>FY17</td>\n",
       "      <td>2016-07</td>\n",
       "    </tr>\n",
       "    <tr>\n",
       "      <th>4</th>\n",
       "      <td>9.0</td>\n",
       "      <td>GFC_Pedestal Myga Cross Base (Special Guard) 24\"</td>\n",
       "      <td>211142.0</td>\n",
       "      <td>Appliances</td>\n",
       "      <td>5500.0</td>\n",
       "      <td>1.0</td>\n",
       "      <td>5500.0</td>\n",
       "      <td>0.0</td>\n",
       "      <td>5500.0</td>\n",
       "      <td>cod</td>\n",
       "      <td>Completed</td>\n",
       "      <td>Net</td>\n",
       "      <td>100147453</td>\n",
       "      <td>2016-07-01</td>\n",
       "      <td>7</td>\n",
       "      <td>2016</td>\n",
       "      <td>2016-07</td>\n",
       "      <td>FY17</td>\n",
       "      <td>2016-07</td>\n",
       "    </tr>\n",
       "  </tbody>\n",
       "</table>\n",
       "</div>"
      ],
      "text/plain": [
       "  Customer ID                                               sku   item_id  \\\n",
       "0         1.0                                 kreations_YI 06-L  211131.0   \n",
       "1         4.0                                    kcc_krone deal  211135.0   \n",
       "2         7.0                                    kcc_krone deal  211138.0   \n",
       "3         6.0                      UK_Namkino Mix Nimco 400 Gms  211139.0   \n",
       "4         9.0  GFC_Pedestal Myga Cross Base (Special Guard) 24\"  211142.0   \n",
       "\n",
       "            Category   price  qty_ordered  Total_Price  discount_amount  \\\n",
       "0    Women's Fashion  1950.0          1.0       1950.0              0.0   \n",
       "1  Beauty & Grooming   360.0          1.0        360.0            300.0   \n",
       "2  Beauty & Grooming   360.0          1.0        360.0            300.0   \n",
       "3            Soghaat   170.0          1.0        170.0              0.0   \n",
       "4         Appliances  5500.0          1.0       5500.0              0.0   \n",
       "\n",
       "   Grand_Total payment_method     status BI Status increment_id created_at  \\\n",
       "0       1950.0            cod  Completed       Net    100147443 2016-07-01   \n",
       "1         60.0            cod  Completed       Net    100147446 2016-07-01   \n",
       "2         60.0            cod  Completed       Net    100147449 2016-07-01   \n",
       "3        170.0            cod  Completed       Net    100147450 2016-07-01   \n",
       "4       5500.0            cod  Completed       Net    100147453 2016-07-01   \n",
       "\n",
       "   Month  Year      M-Y    FY Customer Since  \n",
       "0      7  2016  2016-07  FY17        2016-07  \n",
       "1      7  2016  2016-07  FY17        2016-07  \n",
       "2      7  2016  2016-07  FY17        2016-07  \n",
       "3      7  2016  2016-07  FY17        2016-07  \n",
       "4      7  2016  2016-07  FY17        2016-07  "
      ]
     },
     "execution_count": 208,
     "metadata": {},
     "output_type": "execute_result"
    }
   ],
   "source": [
    "df_new.head()"
   ]
  },
  {
   "cell_type": "markdown",
   "metadata": {},
   "source": [
    "    Untuk perhitungan yang berhubungan dengan omset akan menggunakan data diatas (df_new)."
   ]
  },
  {
   "cell_type": "code",
   "execution_count": 209,
   "metadata": {},
   "outputs": [],
   "source": [
    "df = df.reset_index(drop=True)"
   ]
  },
  {
   "cell_type": "markdown",
   "metadata": {},
   "source": [
    "    Untuk perhitungan yang tidak berhubungan dengan omset, data yang dipakai adalah data diatas (df)"
   ]
  },
  {
   "cell_type": "markdown",
   "metadata": {},
   "source": [
    "### 1. Kecenderungan rekam jejak hasil penjualan"
   ]
  },
  {
   "cell_type": "code",
   "execution_count": 210,
   "metadata": {},
   "outputs": [
    {
     "name": "stdout",
     "output_type": "stream",
     "text": [
      "0     2016-07-01\n",
      "248   2016-07-01\n",
      "247   2016-07-01\n",
      "246   2016-07-01\n",
      "245   2016-07-01\n",
      "Name: created_at, dtype: datetime64[ns]\n",
      "314620   2018-08-28\n",
      "314619   2018-08-28\n",
      "314647   2018-08-28\n",
      "314632   2018-08-28\n",
      "314648   2018-08-28\n",
      "Name: created_at, dtype: datetime64[ns]\n"
     ]
    }
   ],
   "source": [
    "print(df_new['created_at'].sort_values().head())\n",
    "print(df_new['created_at'].sort_values().tail())"
   ]
  },
  {
   "cell_type": "markdown",
   "metadata": {},
   "source": [
    "Data penjualan diambil dari 1 Juli 2016 hingga 28 Agustus 2018. Sehingga, bisa dikatakan bahwa bulan Juli dan Agustus memiliki 3 kali hitung (2016, 2017, 2018) dibandingkan bulan lainnya yang hanya 2x hitung (September - Desember di 2016 & 2017, dan Januari - Juni di 2017 & 2018)."
   ]
  },
  {
   "cell_type": "markdown",
   "metadata": {},
   "source": [
    "#### A. Berdasarkan tren per tahun"
   ]
  },
  {
   "cell_type": "markdown",
   "metadata": {},
   "source": [
    "Perhitungan penjumlahan per tahun sebagai analisa perbandingan menjadi tidak relevan karena tahun 2016 dan tahun 2018 tidak memiliki record tahunan yang penuh seperti tahun 2017. Maka akan digunakan rata-rata transaksi per tahun sebagai pembanding untuk melihat tren penjualan per tahun."
   ]
  },
  {
   "cell_type": "code",
   "execution_count": 211,
   "metadata": {},
   "outputs": [
    {
     "data": {
      "text/plain": [
       "Text(0.5, 1.0, 'Rata-Rata Penjualan E-Commerce di Pakistan per Tahun')"
      ]
     },
     "execution_count": 211,
     "metadata": {},
     "output_type": "execute_result"
    },
    {
     "data": {
      "image/png": "[encoded data removed]",
      "text/plain": [
       "<Figure size 432x288 with 1 Axes>"
      ]
     },
     "metadata": {
      "needs_background": "light"
     },
     "output_type": "display_data"
    }
   ],
   "source": [
    "df_new.groupby('Year')['Grand_Total'].mean().plot.bar()\n",
    "plt.title('Rata-Rata Penjualan E-Commerce di Pakistan per Tahun', size=13)\n"
   ]
  },
  {
   "cell_type": "markdown",
   "metadata": {},
   "source": [
    "Melihat rata-rata per tahun yang meningkat, ini bisa menjadi pertanda bahwa industri e-commerce di Pakistan sedang berkembang, yang sejalan dengan [penelitian](https://www.kcci.com.pk/research/14745-2/) bahwa keuntungan industri ini mencapai sekitar 50 miliar Rupee Pakistan (PKR) pada tahun 2017 dan akan berada di kisaran 100 miliar PKR pada tahun 2018. "
   ]
  },
  {
   "cell_type": "markdown",
   "metadata": {},
   "source": [
    "#### B. Berdasarkan tren per bulan"
   ]
  },
  {
   "cell_type": "code",
   "execution_count": 212,
   "metadata": {},
   "outputs": [
    {
     "data": {
      "text/plain": [
       "Text(0.5, 1.0, 'Omset Penjualan per Bulan dari Juli 2016 hingga Agustus 2018')"
      ]
     },
     "execution_count": 212,
     "metadata": {},
     "output_type": "execute_result"
    },
    {
     "data": {
      "image/png": "[encoded data removed]",
      "text/plain": [
       "<Figure size 1440x576 with 1 Axes>"
      ]
     },
     "metadata": {
      "needs_background": "light"
     },
     "output_type": "display_data"
    }
   ],
   "source": [
    "dfA1 = df_new.groupby('M-Y')['Grand_Total'].agg(['sum']).reset_index()\n",
    "plt.figure(figsize=(20,8))\n",
    "sns.lineplot(x=dfA1['M-Y'].astype(str), y=dfA1['sum'])\n",
    "plt.title('Omset Penjualan per Bulan dari Juli 2016 hingga Agustus 2018', size=18)"
   ]
  },
  {
   "cell_type": "markdown",
   "metadata": {},
   "source": [
    "Pada setiap tahun tahun 2016 dan 2017, bulan November selalu memiliki nilai transaksi tertinggi dan memiliki perbedaan yang signifikan dengan bulan lainnya dalam catatan omset penjualan. Ini merujuk kepada budaya 'Black Friday' dari Amerika yang juga [dirayakan di Pakistan](https://www.mpc.com.pk/blog/black-friday-to-be-celebrated-in-pakistan/), meskipun menuai banyak pro dan kontra terkait penamaan karena penduduk Pakistan mayoritas memeluk agama Muslim yang memiliki hari ibadah khusus yang dilakukan di hari Jumat.<br> \n",
    "Hal ini didukung oleh sebuah pengamatan yang menyatakan bahwa pada Black Friday, tingkat pembelian di e-commerce [meningkat](https://www.trade.gov/country-commercial-guides/pakistan-ecommerce)."
   ]
  },
  {
   "cell_type": "code",
   "execution_count": 213,
   "metadata": {},
   "outputs": [
    {
     "data": {
      "text/plain": [
       "Text(0.5, 0, 'Gambar 1.2')"
      ]
     },
     "execution_count": 213,
     "metadata": {},
     "output_type": "execute_result"
    },
    {
     "data": {
      "image/png": "[encoded data removed]",
      "text/plain": [
       "<Figure size 1080x360 with 2 Axes>"
      ]
     },
     "metadata": {
      "needs_background": "light"
     },
     "output_type": "display_data"
    }
   ],
   "source": [
    "plt.figure(figsize=(15,5))\n",
    "plt.subplot(1,2,1)\n",
    "plt.title('Jumlah Omset per Bulan')\n",
    "df_new.groupby('Month')['Grand_Total'].sum().plot.bar()\n",
    "plt.xlabel('Gambar 1.1')\n",
    "plt.subplot(1,2,2)\n",
    "plt.title('Rata-Rata Omset per Bulan')\n",
    "df_new.groupby('Month')['Grand_Total'].mean().plot.bar()\n",
    "plt.xlabel('Gambar 1.2')"
   ]
  },
  {
   "cell_type": "markdown",
   "metadata": {},
   "source": [
    "Data diatas menampilkan bahwa nominal Omset pada bulan November merupakan yang tertinggi (Gambar 1.1). Namun harga rata-rata per transaksi bulan November berada diluar Top 3 (Gambar 2.2). Untuk menjelaskan hal tersebut, mari kita analisa lebih lanjut."
   ]
  },
  {
   "cell_type": "code",
   "execution_count": 214,
   "metadata": {},
   "outputs": [
    {
     "data": {
      "text/plain": [
       "Text(0.5, 1.0, 'Jumlah transaksi per Bulan')"
      ]
     },
     "execution_count": 214,
     "metadata": {},
     "output_type": "execute_result"
    },
    {
     "data": {
      "image/png": "[encoded data removed]",
      "text/plain": [
       "<Figure size 432x288 with 1 Axes>"
      ]
     },
     "metadata": {
      "needs_background": "light"
     },
     "output_type": "display_data"
    }
   ],
   "source": [
    "top_trx = df.groupby('Month')['item_id'].agg(['count']).reset_index()\n",
    "splot = sns.barplot(x='Month', y='count', data=top_trx)\n",
    "splot.bar_label(splot.containers[0])\n",
    "plt.title('Jumlah transaksi per Bulan')"
   ]
  },
  {
   "cell_type": "markdown",
   "metadata": {},
   "source": [
    "Barplot diatas mendukung pernyataan sebelumnya bahwa jumlah transaksi pada bulan November merupakan yang terbesar, dan sangat signifikan, sehingga mampu menyumbang omset tertinggi dari bulan-bulan lainnya.<br>\n",
    "Namun yang menjadi pertanyaan adalah, mengapa dengan intensitas transaksi yang tinggi, tidak mampu membuat rata-rata omset tinggi? Akan dibahas pada plot dibawah."
   ]
  },
  {
   "cell_type": "code",
   "execution_count": 215,
   "metadata": {},
   "outputs": [
    {
     "data": {
      "text/plain": [
       "Text(0.5, 0, 'Gambar 2.2')"
      ]
     },
     "execution_count": 215,
     "metadata": {},
     "output_type": "execute_result"
    },
    {
     "data": {
      "image/png": "[encoded data removed]",
      "text/plain": [
       "<Figure size 1080x360 with 2 Axes>"
      ]
     },
     "metadata": {
      "needs_background": "light"
     },
     "output_type": "display_data"
    }
   ],
   "source": [
    "plt.figure(figsize=(15,5))\n",
    "plt.subplot(1,2,1)\n",
    "plt.title('Jumlah Discount per Bulan')\n",
    "df_new.groupby('Month')['discount_amount'].sum().plot.bar()\n",
    "plt.xlabel('Gambar 2.1')\n",
    "plt.subplot(1,2,2)\n",
    "plt.title('Rata-Rata Discount per Bulan')\n",
    "df_new.groupby('Month')['discount_amount'].mean().plot.bar()\n",
    "plt.xlabel('Gambar 2.2')"
   ]
  },
  {
   "cell_type": "code",
   "execution_count": 216,
   "metadata": {},
   "outputs": [
    {
     "data": {
      "text/plain": [
       "Text(0.5, 0, 'Gambar 2.3')"
      ]
     },
     "execution_count": 216,
     "metadata": {},
     "output_type": "execute_result"
    },
    {
     "data": {
      "image/png": "[encoded data removed]",
      "text/plain": [
       "<Figure size 1440x576 with 1 Axes>"
      ]
     },
     "metadata": {
      "needs_background": "light"
     },
     "output_type": "display_data"
    }
   ],
   "source": [
    "dfA2 = df_new.groupby('M-Y')['discount_amount'].agg(['sum']).reset_index()\n",
    "plt.figure(figsize=(20,8))\n",
    "sns.lineplot(x=dfA2['M-Y'].astype(str), y=dfA2['sum'])\n",
    "plt.title('Jumlah Diskon per Bulan dari Juli 2016 hingga Agustus 2018', size=18)\n",
    "plt.xlabel('Gambar 2.3')"
   ]
  },
  {
   "cell_type": "markdown",
   "metadata": {},
   "source": [
    "Gambar 2.1 menampilkan bahwa jumlah nominal diskon pada bulan November lebih banyak dari bulan lainnya yang didukung oleh Gambar 2.3 yang mana menunjukkan bahwa pada setiap tahunnya, bulan November selalu memiliki catatan jumlah diskon terbesar. Meskipun, rata-rata diskon per transaksi untuk bulan November berada di peringkat 3 (Gambar 2.2). Hal ini menunjukkan bahwa rendahnya rata2 omset pada bulan November dikarenakan pelanggan banyak memanfaatkan diskon untuk melakukan pembelian. Harga yang lebih rendah namun jumlah pembelian tinggi mampu membuat bulan November menjadi bulan dengan Omset terbesar.\n",
    "\n",
    "Dari keseluruhan data diatas, data menunjukkan bahwa Bulan November memiliki Omset tertinggi karena tingginya intensitas belanja pada bulan tersebut."
   ]
  },
  {
   "cell_type": "markdown",
   "metadata": {},
   "source": [
    "#### C. Berdasarkan Kategori"
   ]
  },
  {
   "cell_type": "code",
   "execution_count": 217,
   "metadata": {},
   "outputs": [
    {
     "data": {
      "image/png": "[encoded data removed]",
      "text/plain": [
       "<Figure size 1080x720 with 1 Axes>"
      ]
     },
     "metadata": {
      "needs_background": "light"
     },
     "output_type": "display_data"
    }
   ],
   "source": [
    "Desc_Cat1=df_new.groupby('Category')['Grand_Total'].agg(['sum']).reset_index().sort_values(by='sum',ascending=False)\n",
    "plt.figure(figsize=(15,10))\n",
    "graph=sns.barplot(y='Category',x='sum',data=Desc_Cat1)\n",
    "plt.title('Jumlah Omset per Kategori', size=15)\n",
    "plt.xlabel('Gambar 3.1')\n",
    "plt.show()"
   ]
  },
  {
   "cell_type": "code",
   "execution_count": 218,
   "metadata": {},
   "outputs": [
    {
     "data": {
      "image/png": "[encoded data removed]",
      "text/plain": [
       "<Figure size 1080x720 with 1 Axes>"
      ]
     },
     "metadata": {
      "needs_background": "light"
     },
     "output_type": "display_data"
    }
   ],
   "source": [
    "Desc_Cat2=df_new.groupby('Category')['item_id'].agg(['count']).reset_index().sort_values(by='count',ascending=False)\n",
    "plt.figure(figsize=(15,10))\n",
    "graph=sns.barplot(y='Category',x='count',data=Desc_Cat2)\n",
    "plt.title('Jumlah Transaksi per Kategori', size=15)\n",
    "plt.xlabel('Gambar 3.2')\n",
    "plt.show()"
   ]
  },
  {
   "cell_type": "markdown",
   "metadata": {},
   "source": [
    "Data diatas menampilkan bahwa omset penjualan terbesar didapatkan dari penjualan Gadget, lalu disusul oleh alat perkakas dan hiburan. Sedangkan pada jumlah item yang dibeli, Pakaian Pria menjadi yang terbanyak lalu diikuti oleh Gadget dan Pakaian Wanita.\n",
    "\n",
    "Dari keseluruhan data diatas, menunjukkan bahwa dengan banyaknya jumlah item terjual tidak berkorelasi langsung dengan omset melainkan ada harga yang juga menjadi faktor untuk menciptakan omset."
   ]
  },
  {
   "cell_type": "markdown",
   "metadata": {},
   "source": [
    "### 2. Strategi Pemasaran (Discount)"
   ]
  },
  {
   "cell_type": "code",
   "execution_count": 219,
   "metadata": {},
   "outputs": [
    {
     "data": {
      "text/plain": [
       "Text(0.5, 0, 'Gambar 4.2')"
      ]
     },
     "execution_count": 219,
     "metadata": {},
     "output_type": "execute_result"
    },
    {
     "data": {
      "image/png": "[encoded data removed]",
      "text/plain": [
       "<Figure size 1080x360 with 2 Axes>"
      ]
     },
     "metadata": {
      "needs_background": "light"
     },
     "output_type": "display_data"
    },
    {
     "data": {
      "image/png": "[encoded data removed]",
      "text/plain": [
       "<Figure size 1080x360 with 1 Axes>"
      ]
     },
     "metadata": {
      "needs_background": "light"
     },
     "output_type": "display_data"
    }
   ],
   "source": [
    "plt.figure(figsize=(15,5))\n",
    "plt.subplot(1,2,1)\n",
    "plt.title('Jumlah Diskon per Bulan')\n",
    "df_new.groupby('Month')['discount_amount'].sum().plot.bar()\n",
    "plt.xlabel('Gambar 4.1')\n",
    "# Grafik dibawah ini sama dengan grafik di sub bab sebelumnya. Digunakan kembali dengan nama yang sama (Gambar 1.1) sehingga tidak memiliki nama ganda.\n",
    "plt.subplot(1,2,2)\n",
    "plt.title('Jumlah Omset per Bulan')\n",
    "df_new.groupby('Month')['Grand_Total'].sum().plot.bar()\n",
    "plt.xlabel('Gambar 1.1')\n",
    "plt.figure(figsize=(15,5))\n",
    "plt.subplot(1,2,1)\n",
    "plt.title('Rata-Rata Diskon per Transaksi')\n",
    "df_new.groupby('Month')['discount_amount'].mean().plot.bar()\n",
    "plt.xlabel('Gambar 4.2')\n"
   ]
  },
  {
   "cell_type": "markdown",
   "metadata": {},
   "source": [
    "Data diatas menampilkan bahwa fluktuasi data dari Total Diskon dan Total Omset relatif sama, dengan Top 4 pada bulan Februari, Maret, Mei dan November. Itu juga menunjukkan bahwa distribusi penggunaan diskon tidak merata pada setiap bulannya. Pada Bulan Februari, Maret dan Mei ditunjang oleh rata-rata diskon per transaksi yang relatif tinggi sehingga menghasilkan omset yang sesuai."
   ]
  },
  {
   "cell_type": "markdown",
   "metadata": {},
   "source": [
    "### 3. Fitur dan Pelayanan (Pembayaran dan Status)"
   ]
  },
  {
   "cell_type": "markdown",
   "metadata": {},
   "source": [
    "Data yang akan diuji merupakan data Non-Parametrik, maka akan dilakukan uji hipotesis untuk 2 kolom/grup berbeda dengan Nominal Data untuk mengetahui hubungan antara Metode Pembayaran dan Status Pembelian. Pengujian yang dinilai tepat adalah dengan menggunakan metode Chi Square Test."
   ]
  },
  {
   "cell_type": "code",
   "execution_count": 220,
   "metadata": {},
   "outputs": [
    {
     "name": "stdout",
     "output_type": "stream",
     "text": [
      "Metode Pembayaran dan Status Pembayaran memilik korelasi\n"
     ]
    }
   ],
   "source": [
    "df_ct= pd.crosstab(df['payment_method'],df['status'])\n",
    "score, pval, dof,exp=chi2_contingency(df_ct)\n",
    "if pval<=0.05:\n",
    "    print('Metode Pembayaran dan Status Pembayaran memilik korelasi')\n",
    "else:\n",
    "    print('Metode Pembayaran dan Status Pembayaran tidak memilik korelasi')"
   ]
  },
  {
   "cell_type": "code",
   "execution_count": 221,
   "metadata": {},
   "outputs": [
    {
     "data": {
      "text/plain": [
       "Text(0.5, 1.0, 'Proporsi Status Pembelian')"
      ]
     },
     "execution_count": 221,
     "metadata": {},
     "output_type": "execute_result"
    },
    {
     "data": {
      "image/png": "[encoded data removed]",
      "text/plain": [
       "<Figure size 1080x576 with 1 Axes>"
      ]
     },
     "metadata": {
      "needs_background": "light"
     },
     "output_type": "display_data"
    }
   ],
   "source": [
    "plt.figure(figsize=(15,8))\n",
    "status = sns.countplot(x=df['status'],order=df['status'].value_counts(ascending=False).index)        \n",
    "abs_values1 = df['status'].value_counts(ascending=False)\n",
    "rel_values1 = df['status'].value_counts(ascending=False, normalize=True).values * 100\n",
    "lbls1 = [f'({p[1]:.2f}%)' for p in zip(abs_values1, rel_values1)]\n",
    "status.bar_label(container=status.containers[0], labels=lbls1)\n",
    "plt.title('Proporsi Status Pembelian', size=15)"
   ]
  },
  {
   "cell_type": "code",
   "execution_count": 222,
   "metadata": {},
   "outputs": [
    {
     "data": {
      "text/plain": [
       "Text(0.5, 1.0, 'Proporsi Metode Pembayaran')"
      ]
     },
     "execution_count": 222,
     "metadata": {},
     "output_type": "execute_result"
    },
    {
     "data": {
      "image/png": "[encoded data removed]",
      "text/plain": [
       "<Figure size 864x576 with 1 Axes>"
      ]
     },
     "metadata": {
      "needs_background": "light"
     },
     "output_type": "display_data"
    }
   ],
   "source": [
    "plt.figure(figsize=(12,8))\n",
    "payment = sns.countplot(x=df['payment_method'],order=df['payment_method'].value_counts(ascending=False).index)\n",
    "abs_values2 = df['payment_method'].value_counts(ascending=False)\n",
    "rel_values2 = df['payment_method'].value_counts(ascending=False, normalize=True).values * 100\n",
    "lbls2 = [f'({p[1]:.2f}%)' for p in zip(abs_values2, rel_values2)]\n",
    "payment.bar_label(container=payment.containers[0], labels=lbls2)\n",
    "plt.title('Proporsi Metode Pembayaran', size=15)"
   ]
  },
  {
   "cell_type": "markdown",
   "metadata": {},
   "source": [
    "Dari barplot Proporsi Status Pembayaran, menampilkan data bahwa convertion rate (status = Completed) memiliki proporsi terbesar dengan 53.97%. Disusul oleh Canceled (34.43%) dan Refund (11.56%). Sedangkan pada Proporsi Metode Pembayaran, cod atau Cash on Delivery menjadi pilihan yang paling diminati oleh pembeli dengan proporsi 46.65% dan diikuti oleh Payaxis dan Easypay dengan masing-masing proporsi 16.70% dan 16.58%. Untuk hubungan kedua tabel tersebut, akan kita bahas di plot selanjutnya."
   ]
  },
  {
   "cell_type": "code",
   "execution_count": 223,
   "metadata": {},
   "outputs": [
    {
     "name": "stdout",
     "output_type": "stream",
     "text": [
      "(584524, 19)\n",
      "(314649, 19)\n"
     ]
    }
   ],
   "source": [
    "print(df.shape)\n",
    "print(df_new.shape)"
   ]
  },
  {
   "cell_type": "code",
   "execution_count": 224,
   "metadata": {},
   "outputs": [
    {
     "data": {
      "application/vnd.plotly.v1+json": {
       "config": {
        "plotlyServerURL": "https://plot.ly"
       },
       "data": [
        {
         "alignmentgroup": "True",
         "hovertemplate": "status=Canceled<br>payment_method=%{x}<br>count=%{y}<br>text=%{text}<extra></extra>",
         "legendgroup": "Canceled",
         "marker": {
          "color": "#636efa",
          "pattern": {
           "shape": ""
          }
         },
         "name": "Canceled",
         "offsetgroup": "Canceled",
         "orientation": "v",
         "showlegend": true,
         "text": [
          "63.19%",
          "67.16%",
          "62.75%",
          "70.17%",
          "7.99%",
          "0.62%",
          "39.10%",
          "54.19%",
          "48.18%"
         ],
         "textposition": "auto",
         "type": "bar",
         "x": [
          "Easypay",
          "Others",
          "Payaxis",
          "bankalfalah",
          "cod",
          "customercredit",
          "easypay_voucher",
          "jazzvoucher",
          "jazzwallet"
         ],
         "xaxis": "x",
         "y": [
          61250,
          3149,
          61267,
          16185,
          21776,
          47,
          12189,
          8472,
          16933
         ],
         "yaxis": "y"
        },
        {
         "alignmentgroup": "True",
         "hovertemplate": "status=Completed<br>payment_method=%{x}<br>count=%{y}<br>text=%{text}<extra></extra>",
         "legendgroup": "Completed",
         "marker": {
          "color": "#EF553B",
          "pattern": {
           "shape": ""
          }
         },
         "name": "Completed",
         "offsetgroup": "Completed",
         "orientation": "v",
         "showlegend": true,
         "text": [
          "32.88%",
          "26.70%",
          "32.76%",
          "25.75%",
          "72.06%",
          "79.59%",
          "58.48%",
          "42.35%",
          "48.61%"
         ],
         "textposition": "auto",
         "type": "bar",
         "x": [
          "Easypay",
          "Others",
          "Payaxis",
          "bankalfalah",
          "cod",
          "customercredit",
          "easypay_voucher",
          "jazzvoucher",
          "jazzwallet"
         ],
         "xaxis": "x",
         "y": [
          31866,
          1252,
          31987,
          5940,
          196496,
          6013,
          18233,
          6620,
          17084
         ],
         "yaxis": "y"
        },
        {
         "alignmentgroup": "True",
         "hovertemplate": "status=Pending<br>payment_method=%{x}<br>count=%{y}<br>text=%{text}<extra></extra>",
         "legendgroup": "Pending",
         "marker": {
          "color": "#00cc96",
          "pattern": {
           "shape": ""
          }
         },
         "name": "Pending",
         "offsetgroup": "Pending",
         "orientation": "v",
         "showlegend": true,
         "text": [
          "0.00%",
          "0.01%",
          "0.07%",
          "0.00%",
          "0.04%",
          "0.11%",
          "0.08%"
         ],
         "textposition": "auto",
         "type": "bar",
         "x": [
          "Easypay",
          "Payaxis",
          "bankalfalah",
          "cod",
          "customercredit",
          "easypay_voucher",
          "jazzvoucher"
         ],
         "xaxis": "x",
         "y": [
          2,
          8,
          15,
          13,
          3,
          33,
          12
         ],
         "yaxis": "y"
        },
        {
         "alignmentgroup": "True",
         "hovertemplate": "status=Refund<br>payment_method=%{x}<br>count=%{y}<br>text=%{text}<extra></extra>",
         "legendgroup": "Refund",
         "marker": {
          "color": "#ab63fa",
          "pattern": {
           "shape": ""
          }
         },
         "name": "Refund",
         "offsetgroup": "Refund",
         "orientation": "v",
         "showlegend": true,
         "text": [
          "3.93%",
          "6.12%",
          "4.47%",
          "3.73%",
          "19.94%",
          "19.75%",
          "2.31%",
          "3.38%",
          "3.21%"
         ],
         "textposition": "auto",
         "type": "bar",
         "x": [
          "Easypay",
          "Others",
          "Payaxis",
          "bankalfalah",
          "cod",
          "customercredit",
          "easypay_voucher",
          "jazzvoucher",
          "jazzwallet"
         ],
         "xaxis": "x",
         "y": [
          3810,
          287,
          4366,
          860,
          54387,
          1492,
          721,
          529,
          1127
         ],
         "yaxis": "y"
        },
        {
         "alignmentgroup": "True",
         "hovertemplate": "status=Fraud<br>payment_method=%{x}<br>count=%{y}<br>text=%{text}<extra></extra>",
         "legendgroup": "Fraud",
         "marker": {
          "color": "#FFA15A",
          "pattern": {
           "shape": ""
          }
         },
         "name": "Fraud",
         "offsetgroup": "Fraud",
         "orientation": "v",
         "showlegend": true,
         "text": [
          "0.02%",
          "0.01%"
         ],
         "textposition": "auto",
         "type": "bar",
         "x": [
          "Others",
          "Payaxis"
         ],
         "xaxis": "x",
         "y": [
          1,
          9
         ],
         "yaxis": "y"
        },
        {
         "alignmentgroup": "True",
         "hovertemplate": "status=Processing<br>payment_method=%{x}<br>count=%{y}<br>text=%{text}<extra></extra>",
         "legendgroup": "Processing",
         "marker": {
          "color": "#19d3f3",
          "pattern": {
           "shape": ""
          }
         },
         "name": "Processing",
         "offsetgroup": "Processing",
         "orientation": "v",
         "showlegend": true,
         "text": [
          "0.00%",
          "0.28%",
          "0.01%",
          "0.00%"
         ],
         "textposition": "auto",
         "type": "bar",
         "x": [
          "Payaxis",
          "bankalfalah",
          "cod",
          "jazzwallet"
         ],
         "xaxis": "x",
         "y": [
          4,
          65,
          20,
          1
         ],
         "yaxis": "y"
        }
       ],
       "layout": {
        "barmode": "relative",
        "height": 600,
        "legend": {
         "title": {
          "text": "status"
         },
         "tracegroupgap": 0
        },
        "template": {
         "data": {
          "bar": [
           {
            "error_x": {
             "color": "#2a3f5f"
            },
            "error_y": {
             "color": "#2a3f5f"
            },
            "marker": {
             "line": {
              "color": "#E5ECF6",
              "width": 0.5
             },
             "pattern": {
              "fillmode": "overlay",
              "size": 10,
              "solidity": 0.2
             }
            },
            "type": "bar"
           }
          ],
          "barpolar": [
           {
            "marker": {
             "line": {
              "color": "#E5ECF6",
              "width": 0.5
             },
             "pattern": {
              "fillmode": "overlay",
              "size": 10,
              "solidity": 0.2
             }
            },
            "type": "barpolar"
           }
          ],
          "carpet": [
           {
            "aaxis": {
             "endlinecolor": "#2a3f5f",
             "gridcolor": "white",
             "linecolor": "white",
             "minorgridcolor": "white",
             "startlinecolor": "#2a3f5f"
            },
            "baxis": {
             "endlinecolor": "#2a3f5f",
             "gridcolor": "white",
             "linecolor": "white",
             "minorgridcolor": "white",
             "startlinecolor": "#2a3f5f"
            },
            "type": "carpet"
           }
          ],
          "choropleth": [
           {
            "colorbar": {
             "outlinewidth": 0,
             "ticks": ""
            },
            "type": "choropleth"
           }
          ],
          "contour": [
           {
            "colorbar": {
             "outlinewidth": 0,
             "ticks": ""
            },
            "colorscale": [
             [
              0,
              "#0d0887"
             ],
             [
              0.1111111111111111,
              "#46039f"
             ],
             [
              0.2222222222222222,
              "#7201a8"
             ],
             [
              0.3333333333333333,
              "#9c179e"
             ],
             [
              0.4444444444444444,
              "#bd3786"
             ],
             [
              0.5555555555555556,
              "#d8576b"
             ],
             [
              0.6666666666666666,
              "#ed7953"
             ],
             [
              0.7777777777777778,
              "#fb9f3a"
             ],
             [
              0.8888888888888888,
              "#fdca26"
             ],
             [
              1,
              "#f0f921"
             ]
            ],
            "type": "contour"
           }
          ],
          "contourcarpet": [
           {
            "colorbar": {
             "outlinewidth": 0,
             "ticks": ""
            },
            "type": "contourcarpet"
           }
          ],
          "heatmap": [
           {
            "colorbar": {
             "outlinewidth": 0,
             "ticks": ""
            },
            "colorscale": [
             [
              0,
              "#0d0887"
             ],
             [
              0.1111111111111111,
              "#46039f"
             ],
             [
              0.2222222222222222,
              "#7201a8"
             ],
             [
              0.3333333333333333,
              "#9c179e"
             ],
             [
              0.4444444444444444,
              "#bd3786"
             ],
             [
              0.5555555555555556,
              "#d8576b"
             ],
             [
              0.6666666666666666,
              "#ed7953"
             ],
             [
              0.7777777777777778,
              "#fb9f3a"
             ],
             [
              0.8888888888888888,
              "#fdca26"
             ],
             [
              1,
              "#f0f921"
             ]
            ],
            "type": "heatmap"
           }
          ],
          "heatmapgl": [
           {
            "colorbar": {
             "outlinewidth": 0,
             "ticks": ""
            },
            "colorscale": [
             [
              0,
              "#0d0887"
             ],
             [
              0.1111111111111111,
              "#46039f"
             ],
             [
              0.2222222222222222,
              "#7201a8"
             ],
             [
              0.3333333333333333,
              "#9c179e"
             ],
             [
              0.4444444444444444,
              "#bd3786"
             ],
             [
              0.5555555555555556,
              "#d8576b"
             ],
             [
              0.6666666666666666,
              "#ed7953"
             ],
             [
              0.7777777777777778,
              "#fb9f3a"
             ],
             [
              0.8888888888888888,
              "#fdca26"
             ],
             [
              1,
              "#f0f921"
             ]
            ],
            "type": "heatmapgl"
           }
          ],
          "histogram": [
           {
            "marker": {
             "pattern": {
              "fillmode": "overlay",
              "size": 10,
              "solidity": 0.2
             }
            },
            "type": "histogram"
           }
          ],
          "histogram2d": [
           {
            "colorbar": {
             "outlinewidth": 0,
             "ticks": ""
            },
            "colorscale": [
             [
              0,
              "#0d0887"
             ],
             [
              0.1111111111111111,
              "#46039f"
             ],
             [
              0.2222222222222222,
              "#7201a8"
             ],
             [
              0.3333333333333333,
              "#9c179e"
             ],
             [
              0.4444444444444444,
              "#bd3786"
             ],
             [
              0.5555555555555556,
              "#d8576b"
             ],
             [
              0.6666666666666666,
              "#ed7953"
             ],
             [
              0.7777777777777778,
              "#fb9f3a"
             ],
             [
              0.8888888888888888,
              "#fdca26"
             ],
             [
              1,
              "#f0f921"
             ]
            ],
            "type": "histogram2d"
           }
          ],
          "histogram2dcontour": [
           {
            "colorbar": {
             "outlinewidth": 0,
             "ticks": ""
            },
            "colorscale": [
             [
              0,
              "#0d0887"
             ],
             [
              0.1111111111111111,
              "#46039f"
             ],
             [
              0.2222222222222222,
              "#7201a8"
             ],
             [
              0.3333333333333333,
              "#9c179e"
             ],
             [
              0.4444444444444444,
              "#bd3786"
             ],
             [
              0.5555555555555556,
              "#d8576b"
             ],
             [
              0.6666666666666666,
              "#ed7953"
             ],
             [
              0.7777777777777778,
              "#fb9f3a"
             ],
             [
              0.8888888888888888,
              "#fdca26"
             ],
             [
              1,
              "#f0f921"
             ]
            ],
            "type": "histogram2dcontour"
           }
          ],
          "mesh3d": [
           {
            "colorbar": {
             "outlinewidth": 0,
             "ticks": ""
            },
            "type": "mesh3d"
           }
          ],
          "parcoords": [
           {
            "line": {
             "colorbar": {
              "outlinewidth": 0,
              "ticks": ""
             }
            },
            "type": "parcoords"
           }
          ],
          "pie": [
           {
            "automargin": true,
            "type": "pie"
           }
          ],
          "scatter": [
           {
            "fillpattern": {
             "fillmode": "overlay",
             "size": 10,
             "solidity": 0.2
            },
            "type": "scatter"
           }
          ],
          "scatter3d": [
           {
            "line": {
             "colorbar": {
              "outlinewidth": 0,
              "ticks": ""
             }
            },
            "marker": {
             "colorbar": {
              "outlinewidth": 0,
              "ticks": ""
             }
            },
            "type": "scatter3d"
           }
          ],
          "scattercarpet": [
           {
            "marker": {
             "colorbar": {
              "outlinewidth": 0,
              "ticks": ""
             }
            },
            "type": "scattercarpet"
           }
          ],
          "scattergeo": [
           {
            "marker": {
             "colorbar": {
              "outlinewidth": 0,
              "ticks": ""
             }
            },
            "type": "scattergeo"
           }
          ],
          "scattergl": [
           {
            "marker": {
             "colorbar": {
              "outlinewidth": 0,
              "ticks": ""
             }
            },
            "type": "scattergl"
           }
          ],
          "scattermapbox": [
           {
            "marker": {
             "colorbar": {
              "outlinewidth": 0,
              "ticks": ""
             }
            },
            "type": "scattermapbox"
           }
          ],
          "scatterpolar": [
           {
            "marker": {
             "colorbar": {
              "outlinewidth": 0,
              "ticks": ""
             }
            },
            "type": "scatterpolar"
           }
          ],
          "scatterpolargl": [
           {
            "marker": {
             "colorbar": {
              "outlinewidth": 0,
              "ticks": ""
             }
            },
            "type": "scatterpolargl"
           }
          ],
          "scatterternary": [
           {
            "marker": {
             "colorbar": {
              "outlinewidth": 0,
              "ticks": ""
             }
            },
            "type": "scatterternary"
           }
          ],
          "surface": [
           {
            "colorbar": {
             "outlinewidth": 0,
             "ticks": ""
            },
            "colorscale": [
             [
              0,
              "#0d0887"
             ],
             [
              0.1111111111111111,
              "#46039f"
             ],
             [
              0.2222222222222222,
              "#7201a8"
             ],
             [
              0.3333333333333333,
              "#9c179e"
             ],
             [
              0.4444444444444444,
              "#bd3786"
             ],
             [
              0.5555555555555556,
              "#d8576b"
             ],
             [
              0.6666666666666666,
              "#ed7953"
             ],
             [
              0.7777777777777778,
              "#fb9f3a"
             ],
             [
              0.8888888888888888,
              "#fdca26"
             ],
             [
              1,
              "#f0f921"
             ]
            ],
            "type": "surface"
           }
          ],
          "table": [
           {
            "cells": {
             "fill": {
              "color": "#EBF0F8"
             },
             "line": {
              "color": "white"
             }
            },
            "header": {
             "fill": {
              "color": "#C8D4E3"
             },
             "line": {
              "color": "white"
             }
            },
            "type": "table"
           }
          ]
         },
         "layout": {
          "annotationdefaults": {
           "arrowcolor": "#2a3f5f",
           "arrowhead": 0,
           "arrowwidth": 1
          },
          "autotypenumbers": "strict",
          "coloraxis": {
           "colorbar": {
            "outlinewidth": 0,
            "ticks": ""
           }
          },
          "colorscale": {
           "diverging": [
            [
             0,
             "#8e0152"
            ],
            [
             0.1,
             "#c51b7d"
            ],
            [
             0.2,
             "#de77ae"
            ],
            [
             0.3,
             "#f1b6da"
            ],
            [
             0.4,
             "#fde0ef"
            ],
            [
             0.5,
             "#f7f7f7"
            ],
            [
             0.6,
             "#e6f5d0"
            ],
            [
             0.7,
             "#b8e186"
            ],
            [
             0.8,
             "#7fbc41"
            ],
            [
             0.9,
             "#4d9221"
            ],
            [
             1,
             "#276419"
            ]
           ],
           "sequential": [
            [
             0,
             "#0d0887"
            ],
            [
             0.1111111111111111,
             "#46039f"
            ],
            [
             0.2222222222222222,
             "#7201a8"
            ],
            [
             0.3333333333333333,
             "#9c179e"
            ],
            [
             0.4444444444444444,
             "#bd3786"
            ],
            [
             0.5555555555555556,
             "#d8576b"
            ],
            [
             0.6666666666666666,
             "#ed7953"
            ],
            [
             0.7777777777777778,
             "#fb9f3a"
            ],
            [
             0.8888888888888888,
             "#fdca26"
            ],
            [
             1,
             "#f0f921"
            ]
           ],
           "sequentialminus": [
            [
             0,
             "#0d0887"
            ],
            [
             0.1111111111111111,
             "#46039f"
            ],
            [
             0.2222222222222222,
             "#7201a8"
            ],
            [
             0.3333333333333333,
             "#9c179e"
            ],
            [
             0.4444444444444444,
             "#bd3786"
            ],
            [
             0.5555555555555556,
             "#d8576b"
            ],
            [
             0.6666666666666666,
             "#ed7953"
            ],
            [
             0.7777777777777778,
             "#fb9f3a"
            ],
            [
             0.8888888888888888,
             "#fdca26"
            ],
            [
             1,
             "#f0f921"
            ]
           ]
          },
          "colorway": [
           "#636efa",
           "#EF553B",
           "#00cc96",
           "#ab63fa",
           "#FFA15A",
           "#19d3f3",
           "#FF6692",
           "#B6E880",
           "#FF97FF",
           "#FECB52"
          ],
          "font": {
           "color": "#2a3f5f"
          },
          "geo": {
           "bgcolor": "white",
           "lakecolor": "white",
           "landcolor": "#E5ECF6",
           "showlakes": true,
           "showland": true,
           "subunitcolor": "white"
          },
          "hoverlabel": {
           "align": "left"
          },
          "hovermode": "closest",
          "mapbox": {
           "style": "light"
          },
          "paper_bgcolor": "white",
          "plot_bgcolor": "#E5ECF6",
          "polar": {
           "angularaxis": {
            "gridcolor": "white",
            "linecolor": "white",
            "ticks": ""
           },
           "bgcolor": "#E5ECF6",
           "radialaxis": {
            "gridcolor": "white",
            "linecolor": "white",
            "ticks": ""
           }
          },
          "scene": {
           "xaxis": {
            "backgroundcolor": "#E5ECF6",
            "gridcolor": "white",
            "gridwidth": 2,
            "linecolor": "white",
            "showbackground": true,
            "ticks": "",
            "zerolinecolor": "white"
           },
           "yaxis": {
            "backgroundcolor": "#E5ECF6",
            "gridcolor": "white",
            "gridwidth": 2,
            "linecolor": "white",
            "showbackground": true,
            "ticks": "",
            "zerolinecolor": "white"
           },
           "zaxis": {
            "backgroundcolor": "#E5ECF6",
            "gridcolor": "white",
            "gridwidth": 2,
            "linecolor": "white",
            "showbackground": true,
            "ticks": "",
            "zerolinecolor": "white"
           }
          },
          "shapedefaults": {
           "line": {
            "color": "#2a3f5f"
           }
          },
          "ternary": {
           "aaxis": {
            "gridcolor": "white",
            "linecolor": "white",
            "ticks": ""
           },
           "baxis": {
            "gridcolor": "white",
            "linecolor": "white",
            "ticks": ""
           },
           "bgcolor": "#E5ECF6",
           "caxis": {
            "gridcolor": "white",
            "linecolor": "white",
            "ticks": ""
           }
          },
          "title": {
           "x": 0.05
          },
          "xaxis": {
           "automargin": true,
           "gridcolor": "white",
           "linecolor": "white",
           "ticks": "",
           "title": {
            "standoff": 15
           },
           "zerolinecolor": "white",
           "zerolinewidth": 2
          },
          "yaxis": {
           "automargin": true,
           "gridcolor": "white",
           "linecolor": "white",
           "ticks": "",
           "title": {
            "standoff": 15
           },
           "zerolinecolor": "white",
           "zerolinewidth": 2
          }
         }
        },
        "title": {
         "text": "Status by Payment Method"
        },
        "xaxis": {
         "anchor": "y",
         "domain": [
          0,
          1
         ],
         "title": {
          "text": "payment_method"
         }
        },
        "yaxis": {
         "anchor": "x",
         "domain": [
          0,
          1
         ],
         "title": {
          "text": "count"
         }
        }
       }
      }
     },
     "metadata": {},
     "output_type": "display_data"
    }
   ],
   "source": [
    "new_tab = df[['payment_method', 'status']]\n",
    "stack = new_tab.groupby(['payment_method','status']).size().reset_index(name='count')\n",
    "stack['Percentage'] = 100 * stack['count'] / stack.groupby('payment_method')['count'].transform('sum')\n",
    "fig = px.bar(stack, x=\"payment_method\", y=\"count\", color=\"status\", text=stack['Percentage'].apply(lambda x: '{0:1.2f}%'.format(x)), title=\"Status by Payment Method\", height=600)\n",
    "fig.show()"
   ]
  },
  {
   "cell_type": "markdown",
   "metadata": {},
   "source": [
    "Data diatas menampilkan bahwa sistem pembayaran cod (Cash on Delivery) merupakan metode pembayaran yang paling sering digunakan oleh pembeli, dengan convertion rate (Status = Completed) sebesar 72%. Diikuti oleh Easypay dan Payaxis dengan convertion rate masing-masing 32.88% dan 32.76%, jauh dibawah metode pembayaran cod."
   ]
  },
  {
   "cell_type": "markdown",
   "metadata": {},
   "source": [
    "## Kesimpulan dan Rekomendasi"
   ]
  },
  {
   "cell_type": "markdown",
   "metadata": {},
   "source": [
    "### Kesimpulan"
   ]
  },
  {
   "cell_type": "markdown",
   "metadata": {},
   "source": [
    "Hasil analisa yang dilakukan, kita bisa membuat kesimpulan terkait kecenderungan (trend) hasil penjualan sebagai berikut:\n",
    "- Ada perkembangan pada hasil penjualan dari tahun ke tahun\n",
    "- Penjualan tertinggi ada di bulan November. Meskipun memiliki rata-rata diskon per transaksi yang rendah, namun angka transaksi di bulan November menjadi yang tertinggi dari bulan lainnya.\n",
    "- Omset tertinggi diperoleh melalui hasil penjualan Gadget, meskipun produk Pakaian Pria yang menjadi best seller. Hasil tersebut bisa didapatkan karena produk Gadget memiliki nilai yang lebih mahal dibandingkan dengan produk Pakaian Pria sehingga barang yang terjual bisa lebih sedikit namun omset yang didapatkan tinggi.\n"
   ]
  },
  {
   "cell_type": "markdown",
   "metadata": {},
   "source": [
    "Keberadaan diskon sebagai daya tarik pembeli turut dianalisa. Pengaruh jumlah diskon terhadap pembelian adalah sebagai berikut:\n",
    "- Fluktuasi dari Total Diskon dan Total Omset relatif sama.\n",
    "- Distribusi penggunaan diskon tidak merata setiap bulannya, di dominasi oleh 4 bulan yaitu Februari, Maret, Mei dan November.\n",
    "- Bulan Februari, Maret dan Mei memiliki rata-rata diskon per transaksi yang cukup besar sehingga menunjang hasil penjualan. Namun pada bulan November, dengan rata-rata diskon yang relatif rendah dibandingkan omsetnya ditunjang dengan banyaknya transaksi yang terjadi sehingga menaikkan omset bulanan."
   ]
  },
  {
   "cell_type": "markdown",
   "metadata": {},
   "source": [
    "Metode Pembayaran dan Status Pembayaran juga ditinjau sebagai bentuk usaha dalam memuaskan pelanggan, sehingga merasa aman dan nyaman dalam berbelanja. Hasil dari analisa yang dilakukan adalah sebagai berikut:\n",
    "- Menggunakan uji hipotesis dengan metode Chi Square Test, metode pembayaran dan status dinyatakan memiliki korelasi. \n",
    "- Status pembayaran menjadi hal yang cukup penting untuk menunjang omset. Convertion rate dari total keseluruhan berada di angka 53.97% dan produk dalam proses di angka 0,02%. Angka 60% relatif rendah, mengingat setiap transaksi gagal adalah omset yang hilang.\n",
    "- Metode pembayaran yang paling banyak dipilih adalah cod atau Cash on Delivery (46.65%), lalu diikuti oleh Easypay (16.70%) dan Payaxis (16.58%) dengan masing-masing convertion rate (status = Completed) adalah 72.06%, 32.88% dan 32.76%."
   ]
  },
  {
   "cell_type": "markdown",
   "metadata": {},
   "source": [
    "### Rekomendasi"
   ]
  },
  {
   "cell_type": "markdown",
   "metadata": {},
   "source": [
    "Hasil penjualan E-Commerce di Pakistan cenderung meningkat dari tahun ke tahun. Ini merupakan kesempatan yang baik untuk menjadi Top Mind Brand sehingga dapat memenangkan persaingan bisnis. Beberapa hal yang berpengaruh terhadap omset growth dan rekomendasi adalah sebagai berikut:\n",
    "1. Black Friday/Hari Libur Nasional<br>\n",
    "Black Friday merupakan perayaan nasional di Pakistan dimana para penjual memberikan potongan harga dalam waktu tertentu. Hal ini tentu bisa menjadi contoh untuk membuat hal serupa di hari libur nasional lainnya seperti Idul Fitri, Idul Adha maupun tahun baru. Dengan memberikan diskon, maka konsumen akan terangsang untuk melakukan pembelian dan mulai terbiasa menggunakan e-commerce. Terbukti pada bulan November, dengan diskon per transaksi yang relatif rendah, bisa memberikan hasil omset yang sangat tinggi dibandingkan bulan lainnya dengan memanfaatkan event khusus/hari libur nasional.\n",
    "2. Diskon<br>\n",
    "Distribusi diskon pada setiap bulannya belum merata. Aktifitas penjualan di beberapa bulan bahkan relatif sangat rendah dengan rata-rata diskon per transaksi yang juga rendah. Hal yang bisa dilakukan adalah menaikkan penawaran diskon kepada pelanggan disaat tidak sedang dalam hari libur nasional atau event khusus. Hal itu dilakukan untuk menciptakan Top Mind Brand di masyarakat, karena kita selalu memberikan penawaran yang baik. Dengan begitu, masyarakat bisa mulai terbiasa menggunakan dan diharapkan akan menjadi customer yang loyal. Pemberian diskon sendiri juga tidak sembarangan. Top Category bisa menjadi alternatif yang baik dalam menaikkan omset.<br>\n",
    "Beberapa alternatif untuk memberikan diskon secara konstan untuk menaikkan aktifitas jual beli yaitu melakukan kerjasama dengan perusahaan jasa keuangan sebagai sarana pembayaran, ekspedisi sebagai sarana pengiriman maupun dengan pemilik toko. Dengan begitu, maka semua pihak akan diuntungkan.<br>\n",
    "Selain itu ada saran untuk hal ini, yaitu mulai mengambil data terkait informasi untuk klasifikasi konsumen sehingga promosi bisa dilakukan dengan strategi yang tepat.\n",
    "3. Fitur dan Pelayanan<br>\n",
    "Hal ini merujuk pada fitur pembayaran sebagai alat bantu untuk mempermudah proses pembayaran dan status pembelian sebagai feedback/refleksi dari pelayanan pengantaran dan/atau customer service, dimana kedua kriteria ini memiliki korelasi satu sama lain. Untuk metode pembayaran yang digunakan itu cukup beragam, dimana itu bagus untuk memudahkan proses pembayaran dari customer. Namun yang menjadi masalah adalah convertion rate / tingkat kesuksesan untuk dikonversi menjadi omset yang 'hanya' sekitar 54%. Ini sangat rendah, bila merujuk pada potensi omset yang hampir 2x lipat bila kita mampu untuk mengkonversi semua transaksi menjadi omset. Ada 2 kategori terbesar yang menjadi penghambat yaitu Canceled (34,43%) dan Refund (11,56%). Ini harus ditelusuri penyebabnya dan segera dilakukan perbaikan pada setiap aspek penyebab. Apakah dari metode pembayaran yang kurang bersahabat dengan pembeli, customer service yang kurang bisa diandalkan, ekspedisi pengiriman yang mengirimkan produk dengan keadaan kurang baik, ataukah ada hal yang lain. Karena brand image akan sangat menentukan dimana posisi anda dalam persaingan, terutama di bisnis yang baru mulai berkembang seperti ini. Untuk faktor yang kurang besar seperti Pending (0,01%) dan Fraud (<0,01%) juga harus ditelusuri karena pelayanan menunjukkan identitas perusahaan yang sebenarnya. Dengan pelayanan yang cepat dan aman, maka customer akan merasa nyaman dan dapat menaikkan omset."
   ]
  }
 ],
 "metadata": {
  "kernelspec": {
   "display_name": "Python 3.9.13 64-bit",
   "language": "python",
   "name": "python3"
  },
  "language_info": {
   "codemirror_mode": {
    "name": "ipython",
    "version": 3
   },
   "file_extension": ".py",
   "mimetype": "text/x-python",
   "name": "python",
   "nbconvert_exporter": "python",
   "pygments_lexer": "ipython3",
   "version": "3.9.13"
  },
  "orig_nbformat": 4,
  "vscode": {
   "interpreter": {
    "hash": "bafe66dd1028feca2f5cab454671591b4080a6fae81ed37153cac60c6b9d092d"
   }
  }
 },
 "nbformat": 4,
 "nbformat_minor": 2
}
